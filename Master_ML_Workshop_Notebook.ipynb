{
  "nbformat": 4,
  "nbformat_minor": 0,
  "metadata": {
    "colab": {
      "name": "Master ML Workshop Notebook.ipynb",
      "provenance": [],
      "collapsed_sections": [],
      "toc_visible": true
    },
    "kernelspec": {
      "name": "python3",
      "display_name": "Python 3"
    }
  },
  "cells": [
    {
      "cell_type": "markdown",
      "metadata": {
        "id": "rOstZlDZHBtQ",
        "colab_type": "text"
      },
      "source": [
        "# Einleitung"
      ]
    },
    {
      "cell_type": "markdown",
      "metadata": {
        "id": "lNIMFKL0hqOt",
        "colab_type": "text"
      },
      "source": [
        "Dies ist ein jpuyter notebook. Jupyter notebooks erlauben die Kombination von Code, graphischer Ausgabe (Plots) und Dokumentation. Jupyter sind sehr beliebt für das Prototyping und werden zunehmend wichtiger.\n",
        "\n",
        "Ein Jupyter Notebook besteht aus Zellen, die einzelnd ausgeführt werden können. Zellen, in denen Programmcode ausgeführt werden kann sind farbig.\n",
        "\n",
        "Sie können mit SHIFT-Enter ausgeführt werden."
      ]
    },
    {
      "cell_type": "markdown",
      "metadata": {
        "id": "yibCT6brxGtw",
        "colab_type": "text"
      },
      "source": [
        "# Initialisierung"
      ]
    },
    {
      "cell_type": "markdown",
      "metadata": {
        "id": "yNkWN_csxOMR",
        "colab_type": "text"
      },
      "source": [
        "Die nächte Zelle beinhaltet Programmcode zur Initialiserung. Es werden fehlende Funktionalität installiert (!pip ...) und benötigte Funktionalität geladen (import ...).\n",
        "\n",
        "* *!pip install pyreadr* installiert Funktionalität, die zum Laden der Daten benötigt wird.\n",
        "\n",
        "* *!pip install bokeh* installiert Funktionalität, die zum Erzeugen von Grafiken benötigt wird.\n",
        "\n",
        "* *import pandas as pd* Pandas ist die Standardbibliothek zum Verwalten von Daten in Python. Hier wird sie unter dem Namen *pd* eingebunden.\n",
        "\n",
        "* *import numpy as np* Numpy ist eine sehr mächtige Bibliothek für Matrizen-Berechnungen. Die Funktionen in numpy sind sehr effizient implementiert. Numpy wird hier unter dem Namen *np* eingebunden.\n",
        "\n",
        "* *import pyreadr* Preardy enthält Funktionalität um das Datenformat zu lesen, das die Sprache R verwendet\n",
        "\n",
        "* *import math* Math enthält mathematische Funktionen, wie z.B. Sinus (math.sin), Cosinus (math.cos), et.c\n",
        "\n",
        "Die folgenden 3 import-Statement binden Funktionalität ein, die zum Visualisieren von Daten benötiogt wird.\n",
        "\n",
        "* *from bokeh.plotting import figure, show, ColumnDataSource*\n",
        "\n",
        "* *from bokeh.io import output_notebook*\n",
        "\n",
        "* *from bokeh.sampledata.iris import flowers*\n",
        "\n",
        "* *from google.colab import drive*\n",
        "\n",
        "\n",
        "\n"
      ]
    },
    {
      "cell_type": "code",
      "metadata": {
        "id": "PZz5ORncckxg",
        "colab_type": "code",
        "outputId": "f4eda725-003f-4652-e32c-c2c6f7b9fe0c",
        "colab": {
          "base_uri": "https://localhost:8080/",
          "height": 291
        }
      },
      "source": [
        "!pip install pyreadr\n",
        "!pip install bokeh\n",
        "\n",
        "import pandas as pd\n",
        "import numpy as np\n",
        "import pyreadr\n",
        "import math\n",
        "from bokeh.plotting import figure, show, ColumnDataSource\n",
        "from bokeh.io import output_notebook\n",
        "from bokeh.sampledata.iris import flowers\n",
        "from google.colab import drive\n",
        "\n",
        "drive.mount('/gdrive')\n",
        "output_notebook()"
      ],
      "execution_count": 0,
      "outputs": [
        {
          "output_type": "stream",
          "text": [
            "Requirement already satisfied: pyreadr in /usr/local/lib/python3.6/dist-packages (0.2.1)\n",
            "Requirement already satisfied: bokeh in /usr/local/lib/python3.6/dist-packages (1.0.4)\n",
            "Requirement already satisfied: numpy>=1.7.1 in /usr/local/lib/python3.6/dist-packages (from bokeh) (1.17.4)\n",
            "Requirement already satisfied: packaging>=16.8 in /usr/local/lib/python3.6/dist-packages (from bokeh) (19.2)\n",
            "Requirement already satisfied: Jinja2>=2.7 in /usr/local/lib/python3.6/dist-packages (from bokeh) (2.10.3)\n",
            "Requirement already satisfied: PyYAML>=3.10 in /usr/local/lib/python3.6/dist-packages (from bokeh) (3.13)\n",
            "Requirement already satisfied: python-dateutil>=2.1 in /usr/local/lib/python3.6/dist-packages (from bokeh) (2.6.1)\n",
            "Requirement already satisfied: six>=1.5.2 in /usr/local/lib/python3.6/dist-packages (from bokeh) (1.12.0)\n",
            "Requirement already satisfied: tornado>=4.3 in /usr/local/lib/python3.6/dist-packages (from bokeh) (4.5.3)\n",
            "Requirement already satisfied: pillow>=4.0 in /usr/local/lib/python3.6/dist-packages (from bokeh) (4.3.0)\n",
            "Requirement already satisfied: pyparsing>=2.0.2 in /usr/local/lib/python3.6/dist-packages (from packaging>=16.8->bokeh) (2.4.5)\n",
            "Requirement already satisfied: MarkupSafe>=0.23 in /usr/local/lib/python3.6/dist-packages (from Jinja2>=2.7->bokeh) (1.1.1)\n",
            "Requirement already satisfied: olefile in /usr/local/lib/python3.6/dist-packages (from pillow>=4.0->bokeh) (0.46)\n",
            "Drive already mounted at /gdrive; to attempt to forcibly remount, call drive.mount(\"/gdrive\", force_remount=True).\n"
          ],
          "name": "stdout"
        }
      ]
    },
    {
      "cell_type": "markdown",
      "metadata": {
        "id": "RuvA6Vt6muSL",
        "colab_type": "text"
      },
      "source": [
        "# Daten laden und anschauen"
      ]
    },
    {
      "cell_type": "markdown",
      "metadata": {
        "id": "C50FYh2BjPKf",
        "colab_type": "text"
      },
      "source": [
        "In der folgenden Zelle werden die Daten geladen, die im Folgenden für die Analyse und das Machine Learning verwendet werden. Income sind die Einkommensdaten und Transaction sind die Finanzbetrugsdaten.\n",
        "\n",
        "*pyreadr.read_r* ruft die Funktion *read_r* aus der Bibliothek *pyreadr* auf. read_r liesst eine R-Datei ein und gibt ein Pandas-DataFrame zurück. Dieses wird in den Variale Transakionsdaten, bzw. Einkommensdaten gespeichert. Ein DataFrame ist vergleichbar mit einer Excel-Tabelle. Weiter unten werden wir die DatenFrames der Einkommensdaten und der Transaktionsdaten genauer anschauen.\n"
      ]
    },
    {
      "cell_type": "code",
      "metadata": {
        "id": "p-9q-5WCtsbp",
        "colab_type": "code",
        "colab": {}
      },
      "source": [
        "Transaktionsdaten = pyreadr.read_r('/gdrive/My Drive/ML-Workshop/transactions2.RData')['transactions2']\n",
        "Einkommensdaten = pyreadr.read_r('/gdrive/My Drive/ML-Workshop/income2.RData')['inc']"
      ],
      "execution_count": 0,
      "outputs": []
    },
    {
      "cell_type": "markdown",
      "metadata": {
        "id": "TWm_LN4pkFje",
        "colab_type": "text"
      },
      "source": [
        "Mit der Funktion *type* können wir uns den Datentyp einer Variable anschauen. Wir sehen, dass der Einkommendaten ein DataFrame aus der Bibliothek pandas ist."
      ]
    },
    {
      "cell_type": "code",
      "metadata": {
        "id": "Yps8S6f5Zx1_",
        "colab_type": "code",
        "outputId": "b2d29964-ec43-4fbe-a98d-988b0674c700",
        "colab": {
          "base_uri": "https://localhost:8080/",
          "height": 35
        }
      },
      "source": [
        "type(Einkommensdaten)"
      ],
      "execution_count": 0,
      "outputs": [
        {
          "output_type": "execute_result",
          "data": {
            "text/plain": [
              "pandas.core.frame.DataFrame"
            ]
          },
          "metadata": {
            "tags": []
          },
          "execution_count": 6
        }
      ]
    },
    {
      "cell_type": "markdown",
      "metadata": {
        "id": "Hcz3P_rHkcZw",
        "colab_type": "text"
      },
      "source": [
        "DataFrames erlauben es uns die Daten auf sehr einfache Art anzuzeigen. Dies sollte man aber nur bei kleinen Datenmengen auf die folgende Art machen:"
      ]
    },
    {
      "cell_type": "code",
      "metadata": {
        "id": "QZ6vRKPVZP-S",
        "colab_type": "code",
        "outputId": "5f34e428-144e-404f-ad4d-bd753b307e08",
        "colab": {
          "base_uri": "https://localhost:8080/",
          "height": 990
        }
      },
      "source": [
        "Einkommensdaten"
      ],
      "execution_count": 0,
      "outputs": [
        {
          "output_type": "execute_result",
          "data": {
            "text/html": [
              "<div>\n",
              "<style scoped>\n",
              "    .dataframe tbody tr th:only-of-type {\n",
              "        vertical-align: middle;\n",
              "    }\n",
              "\n",
              "    .dataframe tbody tr th {\n",
              "        vertical-align: top;\n",
              "    }\n",
              "\n",
              "    .dataframe thead th {\n",
              "        text-align: right;\n",
              "    }\n",
              "</style>\n",
              "<table border=\"1\" class=\"dataframe\">\n",
              "  <thead>\n",
              "    <tr style=\"text-align: right;\">\n",
              "      <th></th>\n",
              "      <th>Person</th>\n",
              "      <th>Einkommen</th>\n",
              "      <th>Bildung</th>\n",
              "      <th>Arbeitserfahrung</th>\n",
              "      <th>Geschlecht</th>\n",
              "      <th>Haarlaenge</th>\n",
              "    </tr>\n",
              "  </thead>\n",
              "  <tbody>\n",
              "    <tr>\n",
              "      <th>0</th>\n",
              "      <td>1</td>\n",
              "      <td>100</td>\n",
              "      <td>22</td>\n",
              "      <td>14</td>\n",
              "      <td>W</td>\n",
              "      <td>20</td>\n",
              "    </tr>\n",
              "    <tr>\n",
              "      <th>1</th>\n",
              "      <td>2</td>\n",
              "      <td>93</td>\n",
              "      <td>18</td>\n",
              "      <td>15</td>\n",
              "      <td>W</td>\n",
              "      <td>25</td>\n",
              "    </tr>\n",
              "    <tr>\n",
              "      <th>2</th>\n",
              "      <td>3</td>\n",
              "      <td>35</td>\n",
              "      <td>12</td>\n",
              "      <td>13</td>\n",
              "      <td>M</td>\n",
              "      <td>2</td>\n",
              "    </tr>\n",
              "    <tr>\n",
              "      <th>3</th>\n",
              "      <td>4</td>\n",
              "      <td>79</td>\n",
              "      <td>17</td>\n",
              "      <td>23</td>\n",
              "      <td>W</td>\n",
              "      <td>3</td>\n",
              "    </tr>\n",
              "    <tr>\n",
              "      <th>4</th>\n",
              "      <td>5</td>\n",
              "      <td>68</td>\n",
              "      <td>20</td>\n",
              "      <td>3</td>\n",
              "      <td>W</td>\n",
              "      <td>15</td>\n",
              "    </tr>\n",
              "    <tr>\n",
              "      <th>5</th>\n",
              "      <td>6</td>\n",
              "      <td>72</td>\n",
              "      <td>18</td>\n",
              "      <td>3</td>\n",
              "      <td>W</td>\n",
              "      <td>46</td>\n",
              "    </tr>\n",
              "    <tr>\n",
              "      <th>6</th>\n",
              "      <td>7</td>\n",
              "      <td>88</td>\n",
              "      <td>20</td>\n",
              "      <td>19</td>\n",
              "      <td>W</td>\n",
              "      <td>33</td>\n",
              "    </tr>\n",
              "    <tr>\n",
              "      <th>7</th>\n",
              "      <td>8</td>\n",
              "      <td>80</td>\n",
              "      <td>21</td>\n",
              "      <td>10</td>\n",
              "      <td>W</td>\n",
              "      <td>21</td>\n",
              "    </tr>\n",
              "    <tr>\n",
              "      <th>8</th>\n",
              "      <td>9</td>\n",
              "      <td>90</td>\n",
              "      <td>20</td>\n",
              "      <td>11</td>\n",
              "      <td>W</td>\n",
              "      <td>28</td>\n",
              "    </tr>\n",
              "    <tr>\n",
              "      <th>9</th>\n",
              "      <td>10</td>\n",
              "      <td>46</td>\n",
              "      <td>10</td>\n",
              "      <td>14</td>\n",
              "      <td>M</td>\n",
              "      <td>10</td>\n",
              "    </tr>\n",
              "    <tr>\n",
              "      <th>10</th>\n",
              "      <td>11</td>\n",
              "      <td>32</td>\n",
              "      <td>14</td>\n",
              "      <td>6</td>\n",
              "      <td>M</td>\n",
              "      <td>6</td>\n",
              "    </tr>\n",
              "    <tr>\n",
              "      <th>11</th>\n",
              "      <td>12</td>\n",
              "      <td>96</td>\n",
              "      <td>19</td>\n",
              "      <td>18</td>\n",
              "      <td>M</td>\n",
              "      <td>6</td>\n",
              "    </tr>\n",
              "    <tr>\n",
              "      <th>12</th>\n",
              "      <td>13</td>\n",
              "      <td>28</td>\n",
              "      <td>12</td>\n",
              "      <td>3</td>\n",
              "      <td>W</td>\n",
              "      <td>12</td>\n",
              "    </tr>\n",
              "    <tr>\n",
              "      <th>13</th>\n",
              "      <td>14</td>\n",
              "      <td>67</td>\n",
              "      <td>17</td>\n",
              "      <td>12</td>\n",
              "      <td>W</td>\n",
              "      <td>18</td>\n",
              "    </tr>\n",
              "    <tr>\n",
              "      <th>14</th>\n",
              "      <td>15</td>\n",
              "      <td>42</td>\n",
              "      <td>10</td>\n",
              "      <td>23</td>\n",
              "      <td>W</td>\n",
              "      <td>39</td>\n",
              "    </tr>\n",
              "    <tr>\n",
              "      <th>15</th>\n",
              "      <td>16</td>\n",
              "      <td>89</td>\n",
              "      <td>20</td>\n",
              "      <td>12</td>\n",
              "      <td>M</td>\n",
              "      <td>16</td>\n",
              "    </tr>\n",
              "    <tr>\n",
              "      <th>16</th>\n",
              "      <td>17</td>\n",
              "      <td>29</td>\n",
              "      <td>14</td>\n",
              "      <td>3</td>\n",
              "      <td>M</td>\n",
              "      <td>9</td>\n",
              "    </tr>\n",
              "    <tr>\n",
              "      <th>17</th>\n",
              "      <td>18</td>\n",
              "      <td>58</td>\n",
              "      <td>17</td>\n",
              "      <td>6</td>\n",
              "      <td>M</td>\n",
              "      <td>35</td>\n",
              "    </tr>\n",
              "    <tr>\n",
              "      <th>18</th>\n",
              "      <td>19</td>\n",
              "      <td>70</td>\n",
              "      <td>17</td>\n",
              "      <td>22</td>\n",
              "      <td>M</td>\n",
              "      <td>22</td>\n",
              "    </tr>\n",
              "    <tr>\n",
              "      <th>19</th>\n",
              "      <td>20</td>\n",
              "      <td>99</td>\n",
              "      <td>20</td>\n",
              "      <td>23</td>\n",
              "      <td>W</td>\n",
              "      <td>23</td>\n",
              "    </tr>\n",
              "    <tr>\n",
              "      <th>20</th>\n",
              "      <td>21</td>\n",
              "      <td>75</td>\n",
              "      <td>18</td>\n",
              "      <td>13</td>\n",
              "      <td>W</td>\n",
              "      <td>34</td>\n",
              "    </tr>\n",
              "    <tr>\n",
              "      <th>21</th>\n",
              "      <td>22</td>\n",
              "      <td>54</td>\n",
              "      <td>15</td>\n",
              "      <td>17</td>\n",
              "      <td>M</td>\n",
              "      <td>16</td>\n",
              "    </tr>\n",
              "    <tr>\n",
              "      <th>22</th>\n",
              "      <td>23</td>\n",
              "      <td>72</td>\n",
              "      <td>17</td>\n",
              "      <td>12</td>\n",
              "      <td>M</td>\n",
              "      <td>3</td>\n",
              "    </tr>\n",
              "    <tr>\n",
              "      <th>23</th>\n",
              "      <td>24</td>\n",
              "      <td>19</td>\n",
              "      <td>10</td>\n",
              "      <td>4</td>\n",
              "      <td>W</td>\n",
              "      <td>17</td>\n",
              "    </tr>\n",
              "    <tr>\n",
              "      <th>24</th>\n",
              "      <td>25</td>\n",
              "      <td>79</td>\n",
              "      <td>22</td>\n",
              "      <td>3</td>\n",
              "      <td>M</td>\n",
              "      <td>5</td>\n",
              "    </tr>\n",
              "    <tr>\n",
              "      <th>25</th>\n",
              "      <td>26</td>\n",
              "      <td>21</td>\n",
              "      <td>11</td>\n",
              "      <td>6</td>\n",
              "      <td>M</td>\n",
              "      <td>1</td>\n",
              "    </tr>\n",
              "    <tr>\n",
              "      <th>26</th>\n",
              "      <td>27</td>\n",
              "      <td>91</td>\n",
              "      <td>20</td>\n",
              "      <td>21</td>\n",
              "      <td>W</td>\n",
              "      <td>19</td>\n",
              "    </tr>\n",
              "    <tr>\n",
              "      <th>27</th>\n",
              "      <td>28</td>\n",
              "      <td>23</td>\n",
              "      <td>12</td>\n",
              "      <td>7</td>\n",
              "      <td>W</td>\n",
              "      <td>26</td>\n",
              "    </tr>\n",
              "    <tr>\n",
              "      <th>28</th>\n",
              "      <td>29</td>\n",
              "      <td>18</td>\n",
              "      <td>12</td>\n",
              "      <td>4</td>\n",
              "      <td>M</td>\n",
              "      <td>18</td>\n",
              "    </tr>\n",
              "    <tr>\n",
              "      <th>29</th>\n",
              "      <td>30</td>\n",
              "      <td>75</td>\n",
              "      <td>17</td>\n",
              "      <td>13</td>\n",
              "      <td>W</td>\n",
              "      <td>24</td>\n",
              "    </tr>\n",
              "  </tbody>\n",
              "</table>\n",
              "</div>"
            ],
            "text/plain": [
              "    Person  Einkommen  Bildung  Arbeitserfahrung Geschlecht  Haarlaenge\n",
              "0        1        100       22                14          W          20\n",
              "1        2         93       18                15          W          25\n",
              "2        3         35       12                13          M           2\n",
              "3        4         79       17                23          W           3\n",
              "4        5         68       20                 3          W          15\n",
              "5        6         72       18                 3          W          46\n",
              "6        7         88       20                19          W          33\n",
              "7        8         80       21                10          W          21\n",
              "8        9         90       20                11          W          28\n",
              "9       10         46       10                14          M          10\n",
              "10      11         32       14                 6          M           6\n",
              "11      12         96       19                18          M           6\n",
              "12      13         28       12                 3          W          12\n",
              "13      14         67       17                12          W          18\n",
              "14      15         42       10                23          W          39\n",
              "15      16         89       20                12          M          16\n",
              "16      17         29       14                 3          M           9\n",
              "17      18         58       17                 6          M          35\n",
              "18      19         70       17                22          M          22\n",
              "19      20         99       20                23          W          23\n",
              "20      21         75       18                13          W          34\n",
              "21      22         54       15                17          M          16\n",
              "22      23         72       17                12          M           3\n",
              "23      24         19       10                 4          W          17\n",
              "24      25         79       22                 3          M           5\n",
              "25      26         21       11                 6          M           1\n",
              "26      27         91       20                21          W          19\n",
              "27      28         23       12                 7          W          26\n",
              "28      29         18       12                 4          M          18\n",
              "29      30         75       17                13          W          24"
            ]
          },
          "metadata": {
            "tags": []
          },
          "execution_count": 7
        }
      ]
    },
    {
      "cell_type": "markdown",
      "metadata": {
        "id": "DHm52UaxhHa7",
        "colab_type": "text"
      },
      "source": [
        "### Head"
      ]
    },
    {
      "cell_type": "markdown",
      "metadata": {
        "id": "OxMtssOaff2S",
        "colab_type": "text"
      },
      "source": [
        "Für die Anzeige von sehr großen Datensätzen, z.B. den Transaktionsdaten, ist das aber nicht zu empfehlen. Hier sollte man sich nur Teile der Daten anschauen. Eine Methode dies zu tun ist die Funktion *head*, die als Parameter *n* annimmt. Mit *n* lässt sich einstellgen, wie viele Zeilen der Tabelle angezeigt werden sollen.\n",
        "\n",
        "Versuchen Sie die ersten 5 und 10 Zeilen auf diese Art anzuzeigen:\n",
        "\n",
        "\n",
        "\n",
        "```\n",
        "Einkommensdaten.head(n=5)\n",
        "```\n",
        "\n",
        "\n"
      ]
    },
    {
      "cell_type": "code",
      "metadata": {
        "id": "GP43lPPZf-rR",
        "colab_type": "code",
        "colab": {}
      },
      "source": [
        "# Nach diesen 2 Zeilen geben Sie bitte Einkommensdaten.head(n=5) ein und\n",
        "# versuchen andere Zahlen als 5. Danach müssen Sie SHIFT-Enter drücken.\n",
        "\n"
      ],
      "execution_count": 0,
      "outputs": []
    },
    {
      "cell_type": "markdown",
      "metadata": {
        "id": "PeQZH3vahLKc",
        "colab_type": "text"
      },
      "source": [
        "### Zeilen und Spalten anschauen"
      ]
    },
    {
      "cell_type": "markdown",
      "metadata": {
        "id": "ItYX00HIkv0r",
        "colab_type": "text"
      },
      "source": [
        "#### Eckige Klammern"
      ]
    },
    {
      "cell_type": "markdown",
      "metadata": {
        "id": "lHeNw0-flrED",
        "colab_type": "text"
      },
      "source": [
        "Das Paket *pandas* erlaubt auch den Zugriff auf bestimmte Zeilen und Spalten des Datensatzes. Mit eckigen Klammern [] kann man Zeilen auswählen:\n",
        "  * Einkommensdaten[0:3] zeigt die ersten 3 Zeilen an.\n",
        "\n",
        "  * Einkommensdaten[10:20] zeigt die 10 Zeilen nach der 11 Zeile an.\n",
        "\n",
        "  * Einkommensdaten[9] zeigt die 10te Zeile an.\n",
        "\n",
        "Viele Programmiersprachen zählen bei 0 und nicht bei 1 los, so ist es auch in Python."
      ]
    },
    {
      "cell_type": "code",
      "metadata": {
        "id": "9jQI8ZncZRmv",
        "colab_type": "code",
        "outputId": "d020f3b7-867a-446c-e714-292e28b3ff5f",
        "colab": {
          "base_uri": "https://localhost:8080/",
          "height": 143
        }
      },
      "source": [
        "Einkommensdaten[10:13]"
      ],
      "execution_count": 0,
      "outputs": [
        {
          "output_type": "execute_result",
          "data": {
            "text/html": [
              "<div>\n",
              "<style scoped>\n",
              "    .dataframe tbody tr th:only-of-type {\n",
              "        vertical-align: middle;\n",
              "    }\n",
              "\n",
              "    .dataframe tbody tr th {\n",
              "        vertical-align: top;\n",
              "    }\n",
              "\n",
              "    .dataframe thead th {\n",
              "        text-align: right;\n",
              "    }\n",
              "</style>\n",
              "<table border=\"1\" class=\"dataframe\">\n",
              "  <thead>\n",
              "    <tr style=\"text-align: right;\">\n",
              "      <th></th>\n",
              "      <th>Person</th>\n",
              "      <th>Einkommen</th>\n",
              "      <th>Bildung</th>\n",
              "      <th>Arbeitserfahrung</th>\n",
              "      <th>Geschlecht</th>\n",
              "      <th>Haarlaenge</th>\n",
              "    </tr>\n",
              "  </thead>\n",
              "  <tbody>\n",
              "    <tr>\n",
              "      <th>10</th>\n",
              "      <td>11</td>\n",
              "      <td>32</td>\n",
              "      <td>14</td>\n",
              "      <td>6</td>\n",
              "      <td>M</td>\n",
              "      <td>6</td>\n",
              "    </tr>\n",
              "    <tr>\n",
              "      <th>11</th>\n",
              "      <td>12</td>\n",
              "      <td>96</td>\n",
              "      <td>19</td>\n",
              "      <td>18</td>\n",
              "      <td>M</td>\n",
              "      <td>6</td>\n",
              "    </tr>\n",
              "    <tr>\n",
              "      <th>12</th>\n",
              "      <td>13</td>\n",
              "      <td>28</td>\n",
              "      <td>12</td>\n",
              "      <td>3</td>\n",
              "      <td>W</td>\n",
              "      <td>12</td>\n",
              "    </tr>\n",
              "  </tbody>\n",
              "</table>\n",
              "</div>"
            ],
            "text/plain": [
              "    Person  Einkommen  Bildung  Arbeitserfahrung Geschlecht  Haarlaenge\n",
              "10      11         32       14                 6          M           6\n",
              "11      12         96       19                18          M           6\n",
              "12      13         28       12                 3          W          12"
            ]
          },
          "metadata": {
            "tags": []
          },
          "execution_count": 11
        }
      ]
    },
    {
      "cell_type": "markdown",
      "metadata": {
        "id": "UdPH7w2VLdt7",
        "colab_type": "text"
      },
      "source": [
        "### Aufgabe"
      ]
    },
    {
      "cell_type": "markdown",
      "metadata": {
        "id": "NqdMwuwgkYim",
        "colab_type": "text"
      },
      "source": [
        "Probieren sie die anderen Varianten aus und verwenden Sie dabei unterschiedliche Zahlen."
      ]
    },
    {
      "cell_type": "code",
      "metadata": {
        "id": "x1WOHO_qkdoa",
        "colab_type": "code",
        "colab": {}
      },
      "source": [
        "# Nach den Zeilen, die mit # beginnen können sie die anderen\n",
        "# Arten ausprobieren. Verwenden Sie dafür auch anderen Zahlen\n",
        "# Einkommensdaten[10:20]\n",
        "# Einkommensdaten[9]\n"
      ],
      "execution_count": 0,
      "outputs": []
    },
    {
      "cell_type": "markdown",
      "metadata": {
        "id": "7a7tEVwOlLyR",
        "colab_type": "text"
      },
      "source": [
        "Man kann mit eckigen Klammern auch nach dem Namen der Spalten selektieren"
      ]
    },
    {
      "cell_type": "code",
      "metadata": {
        "id": "UV4UemDDlQxQ",
        "colab_type": "code",
        "outputId": "ffa75eba-c1c0-419a-c365-cba06601eb45",
        "colab": {
          "base_uri": "https://localhost:8080/",
          "height": 990
        }
      },
      "source": [
        "Einkommensdaten[['Geschlecht','Haarlaenge']]"
      ],
      "execution_count": 0,
      "outputs": [
        {
          "output_type": "execute_result",
          "data": {
            "text/html": [
              "<div>\n",
              "<style scoped>\n",
              "    .dataframe tbody tr th:only-of-type {\n",
              "        vertical-align: middle;\n",
              "    }\n",
              "\n",
              "    .dataframe tbody tr th {\n",
              "        vertical-align: top;\n",
              "    }\n",
              "\n",
              "    .dataframe thead th {\n",
              "        text-align: right;\n",
              "    }\n",
              "</style>\n",
              "<table border=\"1\" class=\"dataframe\">\n",
              "  <thead>\n",
              "    <tr style=\"text-align: right;\">\n",
              "      <th></th>\n",
              "      <th>Geschlecht</th>\n",
              "      <th>Haarlaenge</th>\n",
              "    </tr>\n",
              "  </thead>\n",
              "  <tbody>\n",
              "    <tr>\n",
              "      <th>0</th>\n",
              "      <td>W</td>\n",
              "      <td>20</td>\n",
              "    </tr>\n",
              "    <tr>\n",
              "      <th>1</th>\n",
              "      <td>W</td>\n",
              "      <td>25</td>\n",
              "    </tr>\n",
              "    <tr>\n",
              "      <th>2</th>\n",
              "      <td>M</td>\n",
              "      <td>2</td>\n",
              "    </tr>\n",
              "    <tr>\n",
              "      <th>3</th>\n",
              "      <td>W</td>\n",
              "      <td>3</td>\n",
              "    </tr>\n",
              "    <tr>\n",
              "      <th>4</th>\n",
              "      <td>W</td>\n",
              "      <td>15</td>\n",
              "    </tr>\n",
              "    <tr>\n",
              "      <th>5</th>\n",
              "      <td>W</td>\n",
              "      <td>46</td>\n",
              "    </tr>\n",
              "    <tr>\n",
              "      <th>6</th>\n",
              "      <td>W</td>\n",
              "      <td>33</td>\n",
              "    </tr>\n",
              "    <tr>\n",
              "      <th>7</th>\n",
              "      <td>W</td>\n",
              "      <td>21</td>\n",
              "    </tr>\n",
              "    <tr>\n",
              "      <th>8</th>\n",
              "      <td>W</td>\n",
              "      <td>28</td>\n",
              "    </tr>\n",
              "    <tr>\n",
              "      <th>9</th>\n",
              "      <td>M</td>\n",
              "      <td>10</td>\n",
              "    </tr>\n",
              "    <tr>\n",
              "      <th>10</th>\n",
              "      <td>M</td>\n",
              "      <td>6</td>\n",
              "    </tr>\n",
              "    <tr>\n",
              "      <th>11</th>\n",
              "      <td>M</td>\n",
              "      <td>6</td>\n",
              "    </tr>\n",
              "    <tr>\n",
              "      <th>12</th>\n",
              "      <td>W</td>\n",
              "      <td>12</td>\n",
              "    </tr>\n",
              "    <tr>\n",
              "      <th>13</th>\n",
              "      <td>W</td>\n",
              "      <td>18</td>\n",
              "    </tr>\n",
              "    <tr>\n",
              "      <th>14</th>\n",
              "      <td>W</td>\n",
              "      <td>39</td>\n",
              "    </tr>\n",
              "    <tr>\n",
              "      <th>15</th>\n",
              "      <td>M</td>\n",
              "      <td>16</td>\n",
              "    </tr>\n",
              "    <tr>\n",
              "      <th>16</th>\n",
              "      <td>M</td>\n",
              "      <td>9</td>\n",
              "    </tr>\n",
              "    <tr>\n",
              "      <th>17</th>\n",
              "      <td>M</td>\n",
              "      <td>35</td>\n",
              "    </tr>\n",
              "    <tr>\n",
              "      <th>18</th>\n",
              "      <td>M</td>\n",
              "      <td>22</td>\n",
              "    </tr>\n",
              "    <tr>\n",
              "      <th>19</th>\n",
              "      <td>W</td>\n",
              "      <td>23</td>\n",
              "    </tr>\n",
              "    <tr>\n",
              "      <th>20</th>\n",
              "      <td>W</td>\n",
              "      <td>34</td>\n",
              "    </tr>\n",
              "    <tr>\n",
              "      <th>21</th>\n",
              "      <td>M</td>\n",
              "      <td>16</td>\n",
              "    </tr>\n",
              "    <tr>\n",
              "      <th>22</th>\n",
              "      <td>M</td>\n",
              "      <td>3</td>\n",
              "    </tr>\n",
              "    <tr>\n",
              "      <th>23</th>\n",
              "      <td>W</td>\n",
              "      <td>17</td>\n",
              "    </tr>\n",
              "    <tr>\n",
              "      <th>24</th>\n",
              "      <td>M</td>\n",
              "      <td>5</td>\n",
              "    </tr>\n",
              "    <tr>\n",
              "      <th>25</th>\n",
              "      <td>M</td>\n",
              "      <td>1</td>\n",
              "    </tr>\n",
              "    <tr>\n",
              "      <th>26</th>\n",
              "      <td>W</td>\n",
              "      <td>19</td>\n",
              "    </tr>\n",
              "    <tr>\n",
              "      <th>27</th>\n",
              "      <td>W</td>\n",
              "      <td>26</td>\n",
              "    </tr>\n",
              "    <tr>\n",
              "      <th>28</th>\n",
              "      <td>M</td>\n",
              "      <td>18</td>\n",
              "    </tr>\n",
              "    <tr>\n",
              "      <th>29</th>\n",
              "      <td>W</td>\n",
              "      <td>24</td>\n",
              "    </tr>\n",
              "  </tbody>\n",
              "</table>\n",
              "</div>"
            ],
            "text/plain": [
              "   Geschlecht  Haarlaenge\n",
              "0           W          20\n",
              "1           W          25\n",
              "2           M           2\n",
              "3           W           3\n",
              "4           W          15\n",
              "5           W          46\n",
              "6           W          33\n",
              "7           W          21\n",
              "8           W          28\n",
              "9           M          10\n",
              "10          M           6\n",
              "11          M           6\n",
              "12          W          12\n",
              "13          W          18\n",
              "14          W          39\n",
              "15          M          16\n",
              "16          M           9\n",
              "17          M          35\n",
              "18          M          22\n",
              "19          W          23\n",
              "20          W          34\n",
              "21          M          16\n",
              "22          M           3\n",
              "23          W          17\n",
              "24          M           5\n",
              "25          M           1\n",
              "26          W          19\n",
              "27          W          26\n",
              "28          M          18\n",
              "29          W          24"
            ]
          },
          "metadata": {
            "tags": []
          },
          "execution_count": 12
        }
      ]
    },
    {
      "cell_type": "markdown",
      "metadata": {
        "id": "N8j4LNVllUng",
        "colab_type": "text"
      },
      "source": [
        "Es lässt sich auch beides kombinieren"
      ]
    },
    {
      "cell_type": "code",
      "metadata": {
        "id": "w_GYoz9XlY6K",
        "colab_type": "code",
        "outputId": "e32ab692-a3c5-499a-c5db-db68c6992bf7",
        "colab": {
          "base_uri": "https://localhost:8080/",
          "height": 363
        }
      },
      "source": [
        "Einkommensdaten[['Geschlecht','Haarlaenge']][0:10]"
      ],
      "execution_count": 0,
      "outputs": [
        {
          "output_type": "execute_result",
          "data": {
            "text/html": [
              "<div>\n",
              "<style scoped>\n",
              "    .dataframe tbody tr th:only-of-type {\n",
              "        vertical-align: middle;\n",
              "    }\n",
              "\n",
              "    .dataframe tbody tr th {\n",
              "        vertical-align: top;\n",
              "    }\n",
              "\n",
              "    .dataframe thead th {\n",
              "        text-align: right;\n",
              "    }\n",
              "</style>\n",
              "<table border=\"1\" class=\"dataframe\">\n",
              "  <thead>\n",
              "    <tr style=\"text-align: right;\">\n",
              "      <th></th>\n",
              "      <th>Geschlecht</th>\n",
              "      <th>Haarlaenge</th>\n",
              "    </tr>\n",
              "  </thead>\n",
              "  <tbody>\n",
              "    <tr>\n",
              "      <th>0</th>\n",
              "      <td>W</td>\n",
              "      <td>20</td>\n",
              "    </tr>\n",
              "    <tr>\n",
              "      <th>1</th>\n",
              "      <td>W</td>\n",
              "      <td>25</td>\n",
              "    </tr>\n",
              "    <tr>\n",
              "      <th>2</th>\n",
              "      <td>M</td>\n",
              "      <td>2</td>\n",
              "    </tr>\n",
              "    <tr>\n",
              "      <th>3</th>\n",
              "      <td>W</td>\n",
              "      <td>3</td>\n",
              "    </tr>\n",
              "    <tr>\n",
              "      <th>4</th>\n",
              "      <td>W</td>\n",
              "      <td>15</td>\n",
              "    </tr>\n",
              "    <tr>\n",
              "      <th>5</th>\n",
              "      <td>W</td>\n",
              "      <td>46</td>\n",
              "    </tr>\n",
              "    <tr>\n",
              "      <th>6</th>\n",
              "      <td>W</td>\n",
              "      <td>33</td>\n",
              "    </tr>\n",
              "    <tr>\n",
              "      <th>7</th>\n",
              "      <td>W</td>\n",
              "      <td>21</td>\n",
              "    </tr>\n",
              "    <tr>\n",
              "      <th>8</th>\n",
              "      <td>W</td>\n",
              "      <td>28</td>\n",
              "    </tr>\n",
              "    <tr>\n",
              "      <th>9</th>\n",
              "      <td>M</td>\n",
              "      <td>10</td>\n",
              "    </tr>\n",
              "  </tbody>\n",
              "</table>\n",
              "</div>"
            ],
            "text/plain": [
              "  Geschlecht  Haarlaenge\n",
              "0          W          20\n",
              "1          W          25\n",
              "2          M           2\n",
              "3          W           3\n",
              "4          W          15\n",
              "5          W          46\n",
              "6          W          33\n",
              "7          W          21\n",
              "8          W          28\n",
              "9          M          10"
            ]
          },
          "metadata": {
            "tags": []
          },
          "execution_count": 13
        }
      ]
    },
    {
      "cell_type": "markdown",
      "metadata": {
        "id": "KBI0GCipkzMz",
        "colab_type": "text"
      },
      "source": [
        "#### iloc Funktion"
      ]
    },
    {
      "cell_type": "markdown",
      "metadata": {
        "id": "qlu27tvtmPCt",
        "colab_type": "text"
      },
      "source": [
        "Mit dem Funktion .iloc kann man Zeilen und Spalten auswählen."
      ]
    },
    {
      "cell_type": "code",
      "metadata": {
        "id": "KBTopUIUZ6MI",
        "colab_type": "code",
        "colab": {}
      },
      "source": [
        "Einkommensdaten.iloc[0:3,2:4]"
      ],
      "execution_count": 0,
      "outputs": []
    },
    {
      "cell_type": "markdown",
      "metadata": {
        "id": "bu-xzv6qzazs",
        "colab_type": "text"
      },
      "source": [
        "## Aufgaben zum Thema Daten"
      ]
    },
    {
      "cell_type": "markdown",
      "metadata": {
        "id": "PhvU4BYEzeit",
        "colab_type": "text"
      },
      "source": [
        "#### Aufgabe 1\n",
        "Nur die Spalte \"Bildung\" anzeigen"
      ]
    },
    {
      "cell_type": "code",
      "metadata": {
        "id": "wEyHkrN8zjei",
        "colab_type": "code",
        "outputId": "f3cdc2d5-a1f0-4d41-bcf6-78793e929752",
        "colab": {
          "base_uri": "https://localhost:8080/",
          "height": 171
        }
      },
      "source": [
        "Einkommensdaten.head[:-5]"
      ],
      "execution_count": 0,
      "outputs": [
        {
          "output_type": "error",
          "ename": "TypeError",
          "evalue": "ignored",
          "traceback": [
            "\u001b[0;31m---------------------------------------------------------------------------\u001b[0m",
            "\u001b[0;31mTypeError\u001b[0m                                 Traceback (most recent call last)",
            "\u001b[0;32m<ipython-input-15-30b1b982c1d3>\u001b[0m in \u001b[0;36m<module>\u001b[0;34m()\u001b[0m\n\u001b[0;32m----> 1\u001b[0;31m \u001b[0mEinkommensdaten\u001b[0m\u001b[0;34m.\u001b[0m\u001b[0mhead\u001b[0m\u001b[0;34m[\u001b[0m\u001b[0;34m:\u001b[0m\u001b[0;34m-\u001b[0m\u001b[0;36m5\u001b[0m\u001b[0;34m]\u001b[0m\u001b[0;34m\u001b[0m\u001b[0;34m\u001b[0m\u001b[0m\n\u001b[0m",
            "\u001b[0;31mTypeError\u001b[0m: 'method' object is not subscriptable"
          ]
        }
      ]
    },
    {
      "cell_type": "markdown",
      "metadata": {
        "id": "2Nx_kJOpzlkj",
        "colab_type": "text"
      },
      "source": [
        "#### Aufagbe 2\n",
        "\n",
        "Die Spalten \"Bildung\", \"Einkommen\" und \"Haarlänge\" anzeigen, allerdings nur die letzten 5 Zeilen"
      ]
    },
    {
      "cell_type": "code",
      "metadata": {
        "id": "xvXHjHHCzspL",
        "colab_type": "code",
        "colab": {}
      },
      "source": [
        "Einkommensdaten[ <HIER AUSFÜLLEN> ]"
      ],
      "execution_count": 0,
      "outputs": []
    },
    {
      "cell_type": "markdown",
      "metadata": {
        "id": "ppz_rOY9zu6A",
        "colab_type": "text"
      },
      "source": [
        "*### Aufgabe 3\n",
        "\n",
        "Wählen nun selbst Spalten und Zeilen zur Anzeige aus."
      ]
    },
    {
      "cell_type": "code",
      "metadata": {
        "id": "rBjl1TPtzyxZ",
        "colab_type": "code",
        "colab": {}
      },
      "source": [
        "Einkommensdaten[ <HIER AUSFÜLLEN> ]"
      ],
      "execution_count": 0,
      "outputs": []
    },
    {
      "cell_type": "markdown",
      "metadata": {
        "id": "ukX2PZ3qLrPC",
        "colab_type": "text"
      },
      "source": [
        "### Aufgabe 4\n",
        "\n",
        "Kombinieren Sie die Auswahlmöglichkeiten\n"
      ]
    },
    {
      "cell_type": "code",
      "metadata": {
        "id": "vfMTXlpgL1As",
        "colab_type": "code",
        "colab": {}
      },
      "source": [
        "Einkommensdaten[ <HIER AUSFÜLLEN> ]"
      ],
      "execution_count": 0,
      "outputs": []
    },
    {
      "cell_type": "markdown",
      "metadata": {
        "id": "KMCOIIGcmc7h",
        "colab_type": "text"
      },
      "source": [
        "# Plotting - Daten visualisieren"
      ]
    },
    {
      "cell_type": "markdown",
      "metadata": {
        "id": "4glXtmKcm_Tm",
        "colab_type": "text"
      },
      "source": [
        "In dem vorherigen Abschnitt haben wir uns die Daten in Form von Tabellen angesehen. In diesem Abschnitt werden wir die Daten visualisieren. Dazu verwenden wir die Funktionen, die uns das Paket *bokeh* zur Verfügung stellt.\n",
        "\n",
        "Als erstes schauen wir uns ein paar sehr einfache Beispieldaten an.\n",
        "\n",
        "Die Variable *x_bsp* enthält die werden auf der x-Achse unseres Plots (von links nach rechts), die Varaible *y_bsp* enthält die Werte auf der y-Achse (von unten nach oben). Ein Punkt wird für jeden Wert aus x_bsp und y_bsp gezeichnet.\n",
        "\n",
        "In der nächsten Zelle steht:\n",
        "\n",
        "\n",
        "```\n",
        "x_bsp = [0,1,2,3,4,5,6,7,8,9,10]\n",
        "y_bsp = [0,2,4,8,10,10,8,4,2,2,1]\n",
        "```\n",
        "Das bedeutet, dass jeweils ein Punkt für die Koordinate (x=0, y=0), (x=1, y=2), (x=2, y=4), (x=3, y=8), ... gezeichnet wird. Wir werden diese Punkte mit Linien verbinden.\n",
        "\n",
        "Als erster müssen wir das \"Blatt\" erstellen, auf dem wir den Graphen malen. Das macht man mit der Funktion\n",
        "\n",
        "\n",
        "```\n",
        "p = figure(title = \"Beispiel\", plot_width=800, plot_height=300)\n",
        "```\n",
        "\n",
        "Nun können wir auf dem \"Blatt\" malen, das *p* heisst.\n",
        "\n",
        "Mit \n",
        "```\n",
        "p.line(x_bsp,y_bsp, color=\"#0A09A2\")\n",
        "```\n",
        "sagen wir, dass eine Linie entlang der Koordinaten gemalt werden soll, die in den Variablen *x_bsp* und *y_bsp* gespeichert wird, und dass dabei die Farbe genommen werden soll, die durch \"#0A09A2\" bestimmt wurde.\n",
        "\n",
        "```\n",
        "show(p)\n",
        "```\n",
        "sagt, dass das \"Blatt\" angezeigt werden soll.\n",
        "\n",
        "Verändern Sie in dem der folgenden Zelle bitte die Koordnaten und Farbe."
      ]
    },
    {
      "cell_type": "code",
      "metadata": {
        "id": "x1nADpq7IPwd",
        "colab_type": "code",
        "outputId": "c614765b-640e-4d0d-cdc1-1d678e476653",
        "colab": {
          "base_uri": "https://localhost:8080/",
          "height": 317
        }
      },
      "source": [
        "x_bsp = [0,1,2,3,4,5,6,7,8,9,10]\n",
        "y_bsp = [0,2,4,8,10,10,8,4,2,2,1]\n",
        "\n",
        "p = figure(title = \"Beispiel\", plot_width=800, plot_height=300)\n",
        "p.line(x_bsp,y_bsp, color=\"#0A09A2\")\n",
        "show(p)"
      ],
      "execution_count": 0,
      "outputs": [
        {
          "output_type": "display_data",
          "data": {
            "application/javascript": [
              "\n",
              "(function(root) {\n",
              "  function now() {\n",
              "    return new Date();\n",
              "  }\n",
              "\n",
              "  var force = true;\n",
              "\n",
              "  if (typeof (root._bokeh_onload_callbacks) === \"undefined\" || force === true) {\n",
              "    root._bokeh_onload_callbacks = [];\n",
              "    root._bokeh_is_loading = undefined;\n",
              "  }\n",
              "\n",
              "  var JS_MIME_TYPE = 'application/javascript';\n",
              "  var HTML_MIME_TYPE = 'text/html';\n",
              "  var EXEC_MIME_TYPE = 'application/vnd.bokehjs_exec.v0+json';\n",
              "  var CLASS_NAME = 'output_bokeh rendered_html';\n",
              "\n",
              "  /**\n",
              "   * Render data to the DOM node\n",
              "   */\n",
              "  function render(props, node) {\n",
              "    var script = document.createElement(\"script\");\n",
              "    node.appendChild(script);\n",
              "  }\n",
              "\n",
              "  /**\n",
              "   * Handle when an output is cleared or removed\n",
              "   */\n",
              "  function handleClearOutput(event, handle) {\n",
              "    var cell = handle.cell;\n",
              "\n",
              "    var id = cell.output_area._bokeh_element_id;\n",
              "    var server_id = cell.output_area._bokeh_server_id;\n",
              "    // Clean up Bokeh references\n",
              "    if (id != null && id in Bokeh.index) {\n",
              "      Bokeh.index[id].model.document.clear();\n",
              "      delete Bokeh.index[id];\n",
              "    }\n",
              "\n",
              "    if (server_id !== undefined) {\n",
              "      // Clean up Bokeh references\n",
              "      var cmd = \"from bokeh.io.state import curstate; print(curstate().uuid_to_server['\" + server_id + \"'].get_sessions()[0].document.roots[0]._id)\";\n",
              "      cell.notebook.kernel.execute(cmd, {\n",
              "        iopub: {\n",
              "          output: function(msg) {\n",
              "            var id = msg.content.text.trim();\n",
              "            if (id in Bokeh.index) {\n",
              "              Bokeh.index[id].model.document.clear();\n",
              "              delete Bokeh.index[id];\n",
              "            }\n",
              "          }\n",
              "        }\n",
              "      });\n",
              "      // Destroy server and session\n",
              "      var cmd = \"import bokeh.io.notebook as ion; ion.destroy_server('\" + server_id + \"')\";\n",
              "      cell.notebook.kernel.execute(cmd);\n",
              "    }\n",
              "  }\n",
              "\n",
              "  /**\n",
              "   * Handle when a new output is added\n",
              "   */\n",
              "  function handleAddOutput(event, handle) {\n",
              "    var output_area = handle.output_area;\n",
              "    var output = handle.output;\n",
              "\n",
              "    // limit handleAddOutput to display_data with EXEC_MIME_TYPE content only\n",
              "    if ((output.output_type != \"display_data\") || (!output.data.hasOwnProperty(EXEC_MIME_TYPE))) {\n",
              "      return\n",
              "    }\n",
              "\n",
              "    var toinsert = output_area.element.find(\".\" + CLASS_NAME.split(' ')[0]);\n",
              "\n",
              "    if (output.metadata[EXEC_MIME_TYPE][\"id\"] !== undefined) {\n",
              "      toinsert[toinsert.length - 1].firstChild.textContent = output.data[JS_MIME_TYPE];\n",
              "      // store reference to embed id on output_area\n",
              "      output_area._bokeh_element_id = output.metadata[EXEC_MIME_TYPE][\"id\"];\n",
              "    }\n",
              "    if (output.metadata[EXEC_MIME_TYPE][\"server_id\"] !== undefined) {\n",
              "      var bk_div = document.createElement(\"div\");\n",
              "      bk_div.innerHTML = output.data[HTML_MIME_TYPE];\n",
              "      var script_attrs = bk_div.children[0].attributes;\n",
              "      for (var i = 0; i < script_attrs.length; i++) {\n",
              "        toinsert[toinsert.length - 1].firstChild.setAttribute(script_attrs[i].name, script_attrs[i].value);\n",
              "      }\n",
              "      // store reference to server id on output_area\n",
              "      output_area._bokeh_server_id = output.metadata[EXEC_MIME_TYPE][\"server_id\"];\n",
              "    }\n",
              "  }\n",
              "\n",
              "  function register_renderer(events, OutputArea) {\n",
              "\n",
              "    function append_mime(data, metadata, element) {\n",
              "      // create a DOM node to render to\n",
              "      var toinsert = this.create_output_subarea(\n",
              "        metadata,\n",
              "        CLASS_NAME,\n",
              "        EXEC_MIME_TYPE\n",
              "      );\n",
              "      this.keyboard_manager.register_events(toinsert);\n",
              "      // Render to node\n",
              "      var props = {data: data, metadata: metadata[EXEC_MIME_TYPE]};\n",
              "      render(props, toinsert[toinsert.length - 1]);\n",
              "      element.append(toinsert);\n",
              "      return toinsert\n",
              "    }\n",
              "\n",
              "    /* Handle when an output is cleared or removed */\n",
              "    events.on('clear_output.CodeCell', handleClearOutput);\n",
              "    events.on('delete.Cell', handleClearOutput);\n",
              "\n",
              "    /* Handle when a new output is added */\n",
              "    events.on('output_added.OutputArea', handleAddOutput);\n",
              "\n",
              "    /**\n",
              "     * Register the mime type and append_mime function with output_area\n",
              "     */\n",
              "    OutputArea.prototype.register_mime_type(EXEC_MIME_TYPE, append_mime, {\n",
              "      /* Is output safe? */\n",
              "      safe: true,\n",
              "      /* Index of renderer in `output_area.display_order` */\n",
              "      index: 0\n",
              "    });\n",
              "  }\n",
              "\n",
              "  // register the mime type if in Jupyter Notebook environment and previously unregistered\n",
              "  if (root.Jupyter !== undefined) {\n",
              "    var events = require('base/js/events');\n",
              "    var OutputArea = require('notebook/js/outputarea').OutputArea;\n",
              "\n",
              "    if (OutputArea.prototype.mime_types().indexOf(EXEC_MIME_TYPE) == -1) {\n",
              "      register_renderer(events, OutputArea);\n",
              "    }\n",
              "  }\n",
              "\n",
              "  \n",
              "  if (typeof (root._bokeh_timeout) === \"undefined\" || force === true) {\n",
              "    root._bokeh_timeout = Date.now() + 5000;\n",
              "    root._bokeh_failed_load = false;\n",
              "  }\n",
              "\n",
              "  var NB_LOAD_WARNING = {'data': {'text/html':\n",
              "     \"<div style='background-color: #fdd'>\\n\"+\n",
              "     \"<p>\\n\"+\n",
              "     \"BokehJS does not appear to have successfully loaded. If loading BokehJS from CDN, this \\n\"+\n",
              "     \"may be due to a slow or bad network connection. Possible fixes:\\n\"+\n",
              "     \"</p>\\n\"+\n",
              "     \"<ul>\\n\"+\n",
              "     \"<li>re-rerun `output_notebook()` to attempt to load from CDN again, or</li>\\n\"+\n",
              "     \"<li>use INLINE resources instead, as so:</li>\\n\"+\n",
              "     \"</ul>\\n\"+\n",
              "     \"<code>\\n\"+\n",
              "     \"from bokeh.resources import INLINE\\n\"+\n",
              "     \"output_notebook(resources=INLINE)\\n\"+\n",
              "     \"</code>\\n\"+\n",
              "     \"</div>\"}};\n",
              "\n",
              "  function display_loaded() {\n",
              "    var el = document.getElementById(null);\n",
              "    if (el != null) {\n",
              "      el.textContent = \"BokehJS is loading...\";\n",
              "    }\n",
              "    if (root.Bokeh !== undefined) {\n",
              "      if (el != null) {\n",
              "        el.textContent = \"BokehJS \" + root.Bokeh.version + \" successfully loaded.\";\n",
              "      }\n",
              "    } else if (Date.now() < root._bokeh_timeout) {\n",
              "      setTimeout(display_loaded, 100)\n",
              "    }\n",
              "  }\n",
              "\n",
              "\n",
              "  function run_callbacks() {\n",
              "    try {\n",
              "      root._bokeh_onload_callbacks.forEach(function(callback) { callback() });\n",
              "    }\n",
              "    finally {\n",
              "      delete root._bokeh_onload_callbacks\n",
              "    }\n",
              "    console.info(\"Bokeh: all callbacks have finished\");\n",
              "  }\n",
              "\n",
              "  function load_libs(js_urls, callback) {\n",
              "    root._bokeh_onload_callbacks.push(callback);\n",
              "    if (root._bokeh_is_loading > 0) {\n",
              "      console.log(\"Bokeh: BokehJS is being loaded, scheduling callback at\", now());\n",
              "      return null;\n",
              "    }\n",
              "    if (js_urls == null || js_urls.length === 0) {\n",
              "      run_callbacks();\n",
              "      return null;\n",
              "    }\n",
              "    console.log(\"Bokeh: BokehJS not loaded, scheduling load and callback at\", now());\n",
              "    root._bokeh_is_loading = js_urls.length;\n",
              "    for (var i = 0; i < js_urls.length; i++) {\n",
              "      var url = js_urls[i];\n",
              "      var s = document.createElement('script');\n",
              "      s.src = url;\n",
              "      s.async = false;\n",
              "      s.onreadystatechange = s.onload = function() {\n",
              "        root._bokeh_is_loading--;\n",
              "        if (root._bokeh_is_loading === 0) {\n",
              "          console.log(\"Bokeh: all BokehJS libraries loaded\");\n",
              "          run_callbacks()\n",
              "        }\n",
              "      };\n",
              "      s.onerror = function() {\n",
              "        console.warn(\"failed to load library \" + url);\n",
              "      };\n",
              "      console.log(\"Bokeh: injecting script tag for BokehJS library: \", url);\n",
              "      document.getElementsByTagName(\"head\")[0].appendChild(s);\n",
              "    }\n",
              "  };\n",
              "\n",
              "  var js_urls = [\"https://cdn.pydata.org/bokeh/release/bokeh-1.0.4.min.js\", \"https://cdn.pydata.org/bokeh/release/bokeh-widgets-1.0.4.min.js\", \"https://cdn.pydata.org/bokeh/release/bokeh-tables-1.0.4.min.js\", \"https://cdn.pydata.org/bokeh/release/bokeh-gl-1.0.4.min.js\"];\n",
              "\n",
              "  var inline_js = [\n",
              "    function(Bokeh) {\n",
              "      Bokeh.set_log_level(\"info\");\n",
              "    },\n",
              "    \n",
              "    function(Bokeh) {\n",
              "      \n",
              "    },\n",
              "    function(Bokeh) {\n",
              "      console.log(\"Bokeh: injecting CSS: https://cdn.pydata.org/bokeh/release/bokeh-1.0.4.min.css\");\n",
              "      Bokeh.embed.inject_css(\"https://cdn.pydata.org/bokeh/release/bokeh-1.0.4.min.css\");\n",
              "      console.log(\"Bokeh: injecting CSS: https://cdn.pydata.org/bokeh/release/bokeh-widgets-1.0.4.min.css\");\n",
              "      Bokeh.embed.inject_css(\"https://cdn.pydata.org/bokeh/release/bokeh-widgets-1.0.4.min.css\");\n",
              "      console.log(\"Bokeh: injecting CSS: https://cdn.pydata.org/bokeh/release/bokeh-tables-1.0.4.min.css\");\n",
              "      Bokeh.embed.inject_css(\"https://cdn.pydata.org/bokeh/release/bokeh-tables-1.0.4.min.css\");\n",
              "    }\n",
              "  ];\n",
              "\n",
              "  function run_inline_js() {\n",
              "    \n",
              "    if ((root.Bokeh !== undefined) || (force === true)) {\n",
              "      for (var i = 0; i < inline_js.length; i++) {\n",
              "        inline_js[i].call(root, root.Bokeh);\n",
              "      }} else if (Date.now() < root._bokeh_timeout) {\n",
              "      setTimeout(run_inline_js, 100);\n",
              "    } else if (!root._bokeh_failed_load) {\n",
              "      console.log(\"Bokeh: BokehJS failed to load within specified timeout.\");\n",
              "      root._bokeh_failed_load = true;\n",
              "    } else if (force !== true) {\n",
              "      var cell = $(document.getElementById(null)).parents('.cell').data().cell;\n",
              "      cell.output_area.append_execute_result(NB_LOAD_WARNING)\n",
              "    }\n",
              "\n",
              "  }\n",
              "\n",
              "  if (root._bokeh_is_loading === 0) {\n",
              "    console.log(\"Bokeh: BokehJS loaded, going straight to plotting\");\n",
              "    run_inline_js();\n",
              "  } else {\n",
              "    load_libs(js_urls, function() {\n",
              "      console.log(\"Bokeh: BokehJS plotting callback run at\", now());\n",
              "      run_inline_js();\n",
              "    });\n",
              "  }\n",
              "}(window));"
            ],
            "application/vnd.bokehjs_load.v0+json": "\n(function(root) {\n  function now() {\n    return new Date();\n  }\n\n  var force = true;\n\n  if (typeof (root._bokeh_onload_callbacks) === \"undefined\" || force === true) {\n    root._bokeh_onload_callbacks = [];\n    root._bokeh_is_loading = undefined;\n  }\n\n  \n\n  \n  if (typeof (root._bokeh_timeout) === \"undefined\" || force === true) {\n    root._bokeh_timeout = Date.now() + 5000;\n    root._bokeh_failed_load = false;\n  }\n\n  var NB_LOAD_WARNING = {'data': {'text/html':\n     \"<div style='background-color: #fdd'>\\n\"+\n     \"<p>\\n\"+\n     \"BokehJS does not appear to have successfully loaded. If loading BokehJS from CDN, this \\n\"+\n     \"may be due to a slow or bad network connection. Possible fixes:\\n\"+\n     \"</p>\\n\"+\n     \"<ul>\\n\"+\n     \"<li>re-rerun `output_notebook()` to attempt to load from CDN again, or</li>\\n\"+\n     \"<li>use INLINE resources instead, as so:</li>\\n\"+\n     \"</ul>\\n\"+\n     \"<code>\\n\"+\n     \"from bokeh.resources import INLINE\\n\"+\n     \"output_notebook(resources=INLINE)\\n\"+\n     \"</code>\\n\"+\n     \"</div>\"}};\n\n  function display_loaded() {\n    var el = document.getElementById(null);\n    if (el != null) {\n      el.textContent = \"BokehJS is loading...\";\n    }\n    if (root.Bokeh !== undefined) {\n      if (el != null) {\n        el.textContent = \"BokehJS \" + root.Bokeh.version + \" successfully loaded.\";\n      }\n    } else if (Date.now() < root._bokeh_timeout) {\n      setTimeout(display_loaded, 100)\n    }\n  }\n\n\n  function run_callbacks() {\n    try {\n      root._bokeh_onload_callbacks.forEach(function(callback) { callback() });\n    }\n    finally {\n      delete root._bokeh_onload_callbacks\n    }\n    console.info(\"Bokeh: all callbacks have finished\");\n  }\n\n  function load_libs(js_urls, callback) {\n    root._bokeh_onload_callbacks.push(callback);\n    if (root._bokeh_is_loading > 0) {\n      console.log(\"Bokeh: BokehJS is being loaded, scheduling callback at\", now());\n      return null;\n    }\n    if (js_urls == null || js_urls.length === 0) {\n      run_callbacks();\n      return null;\n    }\n    console.log(\"Bokeh: BokehJS not loaded, scheduling load and callback at\", now());\n    root._bokeh_is_loading = js_urls.length;\n    for (var i = 0; i < js_urls.length; i++) {\n      var url = js_urls[i];\n      var s = document.createElement('script');\n      s.src = url;\n      s.async = false;\n      s.onreadystatechange = s.onload = function() {\n        root._bokeh_is_loading--;\n        if (root._bokeh_is_loading === 0) {\n          console.log(\"Bokeh: all BokehJS libraries loaded\");\n          run_callbacks()\n        }\n      };\n      s.onerror = function() {\n        console.warn(\"failed to load library \" + url);\n      };\n      console.log(\"Bokeh: injecting script tag for BokehJS library: \", url);\n      document.getElementsByTagName(\"head\")[0].appendChild(s);\n    }\n  };\n\n  var js_urls = [\"https://cdn.pydata.org/bokeh/release/bokeh-1.0.4.min.js\", \"https://cdn.pydata.org/bokeh/release/bokeh-widgets-1.0.4.min.js\", \"https://cdn.pydata.org/bokeh/release/bokeh-tables-1.0.4.min.js\", \"https://cdn.pydata.org/bokeh/release/bokeh-gl-1.0.4.min.js\"];\n\n  var inline_js = [\n    function(Bokeh) {\n      Bokeh.set_log_level(\"info\");\n    },\n    \n    function(Bokeh) {\n      \n    },\n    function(Bokeh) {\n      console.log(\"Bokeh: injecting CSS: https://cdn.pydata.org/bokeh/release/bokeh-1.0.4.min.css\");\n      Bokeh.embed.inject_css(\"https://cdn.pydata.org/bokeh/release/bokeh-1.0.4.min.css\");\n      console.log(\"Bokeh: injecting CSS: https://cdn.pydata.org/bokeh/release/bokeh-widgets-1.0.4.min.css\");\n      Bokeh.embed.inject_css(\"https://cdn.pydata.org/bokeh/release/bokeh-widgets-1.0.4.min.css\");\n      console.log(\"Bokeh: injecting CSS: https://cdn.pydata.org/bokeh/release/bokeh-tables-1.0.4.min.css\");\n      Bokeh.embed.inject_css(\"https://cdn.pydata.org/bokeh/release/bokeh-tables-1.0.4.min.css\");\n    }\n  ];\n\n  function run_inline_js() {\n    \n    if ((root.Bokeh !== undefined) || (force === true)) {\n      for (var i = 0; i < inline_js.length; i++) {\n        inline_js[i].call(root, root.Bokeh);\n      }} else if (Date.now() < root._bokeh_timeout) {\n      setTimeout(run_inline_js, 100);\n    } else if (!root._bokeh_failed_load) {\n      console.log(\"Bokeh: BokehJS failed to load within specified timeout.\");\n      root._bokeh_failed_load = true;\n    } else if (force !== true) {\n      var cell = $(document.getElementById(null)).parents('.cell').data().cell;\n      cell.output_area.append_execute_result(NB_LOAD_WARNING)\n    }\n\n  }\n\n  if (root._bokeh_is_loading === 0) {\n    console.log(\"Bokeh: BokehJS loaded, going straight to plotting\");\n    run_inline_js();\n  } else {\n    load_libs(js_urls, function() {\n      console.log(\"Bokeh: BokehJS plotting callback run at\", now());\n      run_inline_js();\n    });\n  }\n}(window));"
          },
          "metadata": {
            "tags": []
          }
        },
        {
          "output_type": "display_data",
          "data": {
            "text/html": [
              "\n",
              "\n",
              "\n",
              "\n",
              "\n",
              "\n",
              "  <div class=\"bk-root\" id=\"b6ab40b7-6add-4218-a026-d11504604861\" data-root-id=\"1002\"></div>\n"
            ]
          },
          "metadata": {
            "tags": []
          }
        },
        {
          "output_type": "display_data",
          "data": {
            "application/javascript": [
              "(function(root) {\n",
              "  function embed_document(root) {\n",
              "    \n",
              "  var docs_json = {\"973e4329-10fb-4bd6-b99c-600e703d4832\":{\"roots\":{\"references\":[{\"attributes\":{\"below\":[{\"id\":\"1012\",\"type\":\"LinearAxis\"}],\"left\":[{\"id\":\"1017\",\"type\":\"LinearAxis\"}],\"plot_height\":300,\"plot_width\":800,\"renderers\":[{\"id\":\"1012\",\"type\":\"LinearAxis\"},{\"id\":\"1016\",\"type\":\"Grid\"},{\"id\":\"1017\",\"type\":\"LinearAxis\"},{\"id\":\"1021\",\"type\":\"Grid\"},{\"id\":\"1030\",\"type\":\"BoxAnnotation\"},{\"id\":\"1040\",\"type\":\"GlyphRenderer\"}],\"title\":{\"id\":\"1001\",\"type\":\"Title\"},\"toolbar\":{\"id\":\"1028\",\"type\":\"Toolbar\"},\"x_range\":{\"id\":\"1004\",\"type\":\"DataRange1d\"},\"x_scale\":{\"id\":\"1008\",\"type\":\"LinearScale\"},\"y_range\":{\"id\":\"1006\",\"type\":\"DataRange1d\"},\"y_scale\":{\"id\":\"1010\",\"type\":\"LinearScale\"}},\"id\":\"1002\",\"subtype\":\"Figure\",\"type\":\"Plot\"},{\"attributes\":{\"callback\":null},\"id\":\"1004\",\"type\":\"DataRange1d\"},{\"attributes\":{\"bottom_units\":\"screen\",\"fill_alpha\":{\"value\":0.5},\"fill_color\":{\"value\":\"lightgrey\"},\"left_units\":\"screen\",\"level\":\"overlay\",\"line_alpha\":{\"value\":1.0},\"line_color\":{\"value\":\"black\"},\"line_dash\":[4,4],\"line_width\":{\"value\":2},\"plot\":null,\"render_mode\":\"css\",\"right_units\":\"screen\",\"top_units\":\"screen\"},\"id\":\"1030\",\"type\":\"BoxAnnotation\"},{\"attributes\":{\"callback\":null},\"id\":\"1006\",\"type\":\"DataRange1d\"},{\"attributes\":{\"line_color\":\"#0A09A2\",\"x\":{\"field\":\"x\"},\"y\":{\"field\":\"y\"}},\"id\":\"1038\",\"type\":\"Line\"},{\"attributes\":{\"source\":{\"id\":\"1037\",\"type\":\"ColumnDataSource\"}},\"id\":\"1041\",\"type\":\"CDSView\"},{\"attributes\":{},\"id\":\"1008\",\"type\":\"LinearScale\"},{\"attributes\":{},\"id\":\"1010\",\"type\":\"LinearScale\"},{\"attributes\":{},\"id\":\"1043\",\"type\":\"BasicTickFormatter\"},{\"attributes\":{\"formatter\":{\"id\":\"1045\",\"type\":\"BasicTickFormatter\"},\"plot\":{\"id\":\"1002\",\"subtype\":\"Figure\",\"type\":\"Plot\"},\"ticker\":{\"id\":\"1013\",\"type\":\"BasicTicker\"}},\"id\":\"1012\",\"type\":\"LinearAxis\"},{\"attributes\":{},\"id\":\"1048\",\"type\":\"UnionRenderers\"},{\"attributes\":{},\"id\":\"1013\",\"type\":\"BasicTicker\"},{\"attributes\":{},\"id\":\"1049\",\"type\":\"Selection\"},{\"attributes\":{},\"id\":\"1045\",\"type\":\"BasicTickFormatter\"},{\"attributes\":{\"plot\":{\"id\":\"1002\",\"subtype\":\"Figure\",\"type\":\"Plot\"},\"ticker\":{\"id\":\"1013\",\"type\":\"BasicTicker\"}},\"id\":\"1016\",\"type\":\"Grid\"},{\"attributes\":{\"formatter\":{\"id\":\"1043\",\"type\":\"BasicTickFormatter\"},\"plot\":{\"id\":\"1002\",\"subtype\":\"Figure\",\"type\":\"Plot\"},\"ticker\":{\"id\":\"1018\",\"type\":\"BasicTicker\"}},\"id\":\"1017\",\"type\":\"LinearAxis\"},{\"attributes\":{},\"id\":\"1018\",\"type\":\"BasicTicker\"},{\"attributes\":{},\"id\":\"1026\",\"type\":\"ResetTool\"},{\"attributes\":{\"dimension\":1,\"plot\":{\"id\":\"1002\",\"subtype\":\"Figure\",\"type\":\"Plot\"},\"ticker\":{\"id\":\"1018\",\"type\":\"BasicTicker\"}},\"id\":\"1021\",\"type\":\"Grid\"},{\"attributes\":{\"active_drag\":\"auto\",\"active_inspect\":\"auto\",\"active_multi\":null,\"active_scroll\":\"auto\",\"active_tap\":\"auto\",\"tools\":[{\"id\":\"1022\",\"type\":\"PanTool\"},{\"id\":\"1023\",\"type\":\"WheelZoomTool\"},{\"id\":\"1024\",\"type\":\"BoxZoomTool\"},{\"id\":\"1025\",\"type\":\"SaveTool\"},{\"id\":\"1026\",\"type\":\"ResetTool\"},{\"id\":\"1027\",\"type\":\"HelpTool\"}]},\"id\":\"1028\",\"type\":\"Toolbar\"},{\"attributes\":{},\"id\":\"1027\",\"type\":\"HelpTool\"},{\"attributes\":{\"line_alpha\":0.1,\"line_color\":\"#1f77b4\",\"x\":{\"field\":\"x\"},\"y\":{\"field\":\"y\"}},\"id\":\"1039\",\"type\":\"Line\"},{\"attributes\":{\"data_source\":{\"id\":\"1037\",\"type\":\"ColumnDataSource\"},\"glyph\":{\"id\":\"1038\",\"type\":\"Line\"},\"hover_glyph\":null,\"muted_glyph\":null,\"nonselection_glyph\":{\"id\":\"1039\",\"type\":\"Line\"},\"selection_glyph\":null,\"view\":{\"id\":\"1041\",\"type\":\"CDSView\"}},\"id\":\"1040\",\"type\":\"GlyphRenderer\"},{\"attributes\":{\"plot\":null,\"text\":\"Beispiel\"},\"id\":\"1001\",\"type\":\"Title\"},{\"attributes\":{},\"id\":\"1022\",\"type\":\"PanTool\"},{\"attributes\":{},\"id\":\"1023\",\"type\":\"WheelZoomTool\"},{\"attributes\":{\"overlay\":{\"id\":\"1030\",\"type\":\"BoxAnnotation\"}},\"id\":\"1024\",\"type\":\"BoxZoomTool\"},{\"attributes\":{},\"id\":\"1025\",\"type\":\"SaveTool\"},{\"attributes\":{\"callback\":null,\"data\":{\"x\":[0,1,2,3,4,5,6,7,8,9,10],\"y\":[0,2,4,8,10,10,8,4,2,2,1]},\"selected\":{\"id\":\"1049\",\"type\":\"Selection\"},\"selection_policy\":{\"id\":\"1048\",\"type\":\"UnionRenderers\"}},\"id\":\"1037\",\"type\":\"ColumnDataSource\"}],\"root_ids\":[\"1002\"]},\"title\":\"Bokeh Application\",\"version\":\"1.0.4\"}};\n",
              "  var render_items = [{\"docid\":\"973e4329-10fb-4bd6-b99c-600e703d4832\",\"roots\":{\"1002\":\"b6ab40b7-6add-4218-a026-d11504604861\"}}];\n",
              "  root.Bokeh.embed.embed_items_notebook(docs_json, render_items);\n",
              "\n",
              "  }\n",
              "  if (root.Bokeh !== undefined) {\n",
              "    embed_document(root);\n",
              "  } else {\n",
              "    var attempts = 0;\n",
              "    var timer = setInterval(function(root) {\n",
              "      if (root.Bokeh !== undefined) {\n",
              "        embed_document(root);\n",
              "        clearInterval(timer);\n",
              "      }\n",
              "      attempts++;\n",
              "      if (attempts > 100) {\n",
              "        console.log(\"Bokeh: ERROR: Unable to run BokehJS code because BokehJS library is missing\");\n",
              "        clearInterval(timer);\n",
              "      }\n",
              "    }, 10, root)\n",
              "  }\n",
              "})(window);"
            ],
            "application/vnd.bokehjs_exec.v0+json": ""
          },
          "metadata": {
            "tags": [],
            "application/vnd.bokehjs_exec.v0+json": {
              "id": "1002"
            }
          }
        }
      ]
    },
    {
      "cell_type": "markdown",
      "metadata": {
        "id": "xD1OewZRpIDM",
        "colab_type": "text"
      },
      "source": [
        "Man kann mehrere Linien zeichen, in dem man die entsprechende Funktion mehrmals aufruft."
      ]
    },
    {
      "cell_type": "code",
      "metadata": {
        "id": "zI2WDf0gJYTB",
        "colab_type": "code",
        "outputId": "a412eeb7-7144-435e-e06c-a0518217fac6",
        "colab": {
          "base_uri": "https://localhost:8080/",
          "height": 317
        }
      },
      "source": [
        "x_bsp = [0,1,2,3,4,5,6,7,8,9,10]\n",
        "y_bsp = [0,2,4,8,10,10,8,4,2,2,1]\n",
        "\n",
        "p = figure(title = \"Beispiel\", plot_width=800, plot_height=300)\n",
        "p.line(x_bsp,y_bsp, color=\"#0A09A2\")\n",
        "p.line(x_bsp,[2*v for v in y_bsp], color=\"#AA09A2\")\n",
        "show(p)"
      ],
      "execution_count": 0,
      "outputs": [
        {
          "output_type": "display_data",
          "data": {
            "application/javascript": [
              "\n",
              "(function(root) {\n",
              "  function now() {\n",
              "    return new Date();\n",
              "  }\n",
              "\n",
              "  var force = true;\n",
              "\n",
              "  if (typeof (root._bokeh_onload_callbacks) === \"undefined\" || force === true) {\n",
              "    root._bokeh_onload_callbacks = [];\n",
              "    root._bokeh_is_loading = undefined;\n",
              "  }\n",
              "\n",
              "  var JS_MIME_TYPE = 'application/javascript';\n",
              "  var HTML_MIME_TYPE = 'text/html';\n",
              "  var EXEC_MIME_TYPE = 'application/vnd.bokehjs_exec.v0+json';\n",
              "  var CLASS_NAME = 'output_bokeh rendered_html';\n",
              "\n",
              "  /**\n",
              "   * Render data to the DOM node\n",
              "   */\n",
              "  function render(props, node) {\n",
              "    var script = document.createElement(\"script\");\n",
              "    node.appendChild(script);\n",
              "  }\n",
              "\n",
              "  /**\n",
              "   * Handle when an output is cleared or removed\n",
              "   */\n",
              "  function handleClearOutput(event, handle) {\n",
              "    var cell = handle.cell;\n",
              "\n",
              "    var id = cell.output_area._bokeh_element_id;\n",
              "    var server_id = cell.output_area._bokeh_server_id;\n",
              "    // Clean up Bokeh references\n",
              "    if (id != null && id in Bokeh.index) {\n",
              "      Bokeh.index[id].model.document.clear();\n",
              "      delete Bokeh.index[id];\n",
              "    }\n",
              "\n",
              "    if (server_id !== undefined) {\n",
              "      // Clean up Bokeh references\n",
              "      var cmd = \"from bokeh.io.state import curstate; print(curstate().uuid_to_server['\" + server_id + \"'].get_sessions()[0].document.roots[0]._id)\";\n",
              "      cell.notebook.kernel.execute(cmd, {\n",
              "        iopub: {\n",
              "          output: function(msg) {\n",
              "            var id = msg.content.text.trim();\n",
              "            if (id in Bokeh.index) {\n",
              "              Bokeh.index[id].model.document.clear();\n",
              "              delete Bokeh.index[id];\n",
              "            }\n",
              "          }\n",
              "        }\n",
              "      });\n",
              "      // Destroy server and session\n",
              "      var cmd = \"import bokeh.io.notebook as ion; ion.destroy_server('\" + server_id + \"')\";\n",
              "      cell.notebook.kernel.execute(cmd);\n",
              "    }\n",
              "  }\n",
              "\n",
              "  /**\n",
              "   * Handle when a new output is added\n",
              "   */\n",
              "  function handleAddOutput(event, handle) {\n",
              "    var output_area = handle.output_area;\n",
              "    var output = handle.output;\n",
              "\n",
              "    // limit handleAddOutput to display_data with EXEC_MIME_TYPE content only\n",
              "    if ((output.output_type != \"display_data\") || (!output.data.hasOwnProperty(EXEC_MIME_TYPE))) {\n",
              "      return\n",
              "    }\n",
              "\n",
              "    var toinsert = output_area.element.find(\".\" + CLASS_NAME.split(' ')[0]);\n",
              "\n",
              "    if (output.metadata[EXEC_MIME_TYPE][\"id\"] !== undefined) {\n",
              "      toinsert[toinsert.length - 1].firstChild.textContent = output.data[JS_MIME_TYPE];\n",
              "      // store reference to embed id on output_area\n",
              "      output_area._bokeh_element_id = output.metadata[EXEC_MIME_TYPE][\"id\"];\n",
              "    }\n",
              "    if (output.metadata[EXEC_MIME_TYPE][\"server_id\"] !== undefined) {\n",
              "      var bk_div = document.createElement(\"div\");\n",
              "      bk_div.innerHTML = output.data[HTML_MIME_TYPE];\n",
              "      var script_attrs = bk_div.children[0].attributes;\n",
              "      for (var i = 0; i < script_attrs.length; i++) {\n",
              "        toinsert[toinsert.length - 1].firstChild.setAttribute(script_attrs[i].name, script_attrs[i].value);\n",
              "      }\n",
              "      // store reference to server id on output_area\n",
              "      output_area._bokeh_server_id = output.metadata[EXEC_MIME_TYPE][\"server_id\"];\n",
              "    }\n",
              "  }\n",
              "\n",
              "  function register_renderer(events, OutputArea) {\n",
              "\n",
              "    function append_mime(data, metadata, element) {\n",
              "      // create a DOM node to render to\n",
              "      var toinsert = this.create_output_subarea(\n",
              "        metadata,\n",
              "        CLASS_NAME,\n",
              "        EXEC_MIME_TYPE\n",
              "      );\n",
              "      this.keyboard_manager.register_events(toinsert);\n",
              "      // Render to node\n",
              "      var props = {data: data, metadata: metadata[EXEC_MIME_TYPE]};\n",
              "      render(props, toinsert[toinsert.length - 1]);\n",
              "      element.append(toinsert);\n",
              "      return toinsert\n",
              "    }\n",
              "\n",
              "    /* Handle when an output is cleared or removed */\n",
              "    events.on('clear_output.CodeCell', handleClearOutput);\n",
              "    events.on('delete.Cell', handleClearOutput);\n",
              "\n",
              "    /* Handle when a new output is added */\n",
              "    events.on('output_added.OutputArea', handleAddOutput);\n",
              "\n",
              "    /**\n",
              "     * Register the mime type and append_mime function with output_area\n",
              "     */\n",
              "    OutputArea.prototype.register_mime_type(EXEC_MIME_TYPE, append_mime, {\n",
              "      /* Is output safe? */\n",
              "      safe: true,\n",
              "      /* Index of renderer in `output_area.display_order` */\n",
              "      index: 0\n",
              "    });\n",
              "  }\n",
              "\n",
              "  // register the mime type if in Jupyter Notebook environment and previously unregistered\n",
              "  if (root.Jupyter !== undefined) {\n",
              "    var events = require('base/js/events');\n",
              "    var OutputArea = require('notebook/js/outputarea').OutputArea;\n",
              "\n",
              "    if (OutputArea.prototype.mime_types().indexOf(EXEC_MIME_TYPE) == -1) {\n",
              "      register_renderer(events, OutputArea);\n",
              "    }\n",
              "  }\n",
              "\n",
              "  \n",
              "  if (typeof (root._bokeh_timeout) === \"undefined\" || force === true) {\n",
              "    root._bokeh_timeout = Date.now() + 5000;\n",
              "    root._bokeh_failed_load = false;\n",
              "  }\n",
              "\n",
              "  var NB_LOAD_WARNING = {'data': {'text/html':\n",
              "     \"<div style='background-color: #fdd'>\\n\"+\n",
              "     \"<p>\\n\"+\n",
              "     \"BokehJS does not appear to have successfully loaded. If loading BokehJS from CDN, this \\n\"+\n",
              "     \"may be due to a slow or bad network connection. Possible fixes:\\n\"+\n",
              "     \"</p>\\n\"+\n",
              "     \"<ul>\\n\"+\n",
              "     \"<li>re-rerun `output_notebook()` to attempt to load from CDN again, or</li>\\n\"+\n",
              "     \"<li>use INLINE resources instead, as so:</li>\\n\"+\n",
              "     \"</ul>\\n\"+\n",
              "     \"<code>\\n\"+\n",
              "     \"from bokeh.resources import INLINE\\n\"+\n",
              "     \"output_notebook(resources=INLINE)\\n\"+\n",
              "     \"</code>\\n\"+\n",
              "     \"</div>\"}};\n",
              "\n",
              "  function display_loaded() {\n",
              "    var el = document.getElementById(null);\n",
              "    if (el != null) {\n",
              "      el.textContent = \"BokehJS is loading...\";\n",
              "    }\n",
              "    if (root.Bokeh !== undefined) {\n",
              "      if (el != null) {\n",
              "        el.textContent = \"BokehJS \" + root.Bokeh.version + \" successfully loaded.\";\n",
              "      }\n",
              "    } else if (Date.now() < root._bokeh_timeout) {\n",
              "      setTimeout(display_loaded, 100)\n",
              "    }\n",
              "  }\n",
              "\n",
              "\n",
              "  function run_callbacks() {\n",
              "    try {\n",
              "      root._bokeh_onload_callbacks.forEach(function(callback) { callback() });\n",
              "    }\n",
              "    finally {\n",
              "      delete root._bokeh_onload_callbacks\n",
              "    }\n",
              "    console.info(\"Bokeh: all callbacks have finished\");\n",
              "  }\n",
              "\n",
              "  function load_libs(js_urls, callback) {\n",
              "    root._bokeh_onload_callbacks.push(callback);\n",
              "    if (root._bokeh_is_loading > 0) {\n",
              "      console.log(\"Bokeh: BokehJS is being loaded, scheduling callback at\", now());\n",
              "      return null;\n",
              "    }\n",
              "    if (js_urls == null || js_urls.length === 0) {\n",
              "      run_callbacks();\n",
              "      return null;\n",
              "    }\n",
              "    console.log(\"Bokeh: BokehJS not loaded, scheduling load and callback at\", now());\n",
              "    root._bokeh_is_loading = js_urls.length;\n",
              "    for (var i = 0; i < js_urls.length; i++) {\n",
              "      var url = js_urls[i];\n",
              "      var s = document.createElement('script');\n",
              "      s.src = url;\n",
              "      s.async = false;\n",
              "      s.onreadystatechange = s.onload = function() {\n",
              "        root._bokeh_is_loading--;\n",
              "        if (root._bokeh_is_loading === 0) {\n",
              "          console.log(\"Bokeh: all BokehJS libraries loaded\");\n",
              "          run_callbacks()\n",
              "        }\n",
              "      };\n",
              "      s.onerror = function() {\n",
              "        console.warn(\"failed to load library \" + url);\n",
              "      };\n",
              "      console.log(\"Bokeh: injecting script tag for BokehJS library: \", url);\n",
              "      document.getElementsByTagName(\"head\")[0].appendChild(s);\n",
              "    }\n",
              "  };\n",
              "\n",
              "  var js_urls = [\"https://cdn.pydata.org/bokeh/release/bokeh-1.0.4.min.js\", \"https://cdn.pydata.org/bokeh/release/bokeh-widgets-1.0.4.min.js\", \"https://cdn.pydata.org/bokeh/release/bokeh-tables-1.0.4.min.js\", \"https://cdn.pydata.org/bokeh/release/bokeh-gl-1.0.4.min.js\"];\n",
              "\n",
              "  var inline_js = [\n",
              "    function(Bokeh) {\n",
              "      Bokeh.set_log_level(\"info\");\n",
              "    },\n",
              "    \n",
              "    function(Bokeh) {\n",
              "      \n",
              "    },\n",
              "    function(Bokeh) {\n",
              "      console.log(\"Bokeh: injecting CSS: https://cdn.pydata.org/bokeh/release/bokeh-1.0.4.min.css\");\n",
              "      Bokeh.embed.inject_css(\"https://cdn.pydata.org/bokeh/release/bokeh-1.0.4.min.css\");\n",
              "      console.log(\"Bokeh: injecting CSS: https://cdn.pydata.org/bokeh/release/bokeh-widgets-1.0.4.min.css\");\n",
              "      Bokeh.embed.inject_css(\"https://cdn.pydata.org/bokeh/release/bokeh-widgets-1.0.4.min.css\");\n",
              "      console.log(\"Bokeh: injecting CSS: https://cdn.pydata.org/bokeh/release/bokeh-tables-1.0.4.min.css\");\n",
              "      Bokeh.embed.inject_css(\"https://cdn.pydata.org/bokeh/release/bokeh-tables-1.0.4.min.css\");\n",
              "    }\n",
              "  ];\n",
              "\n",
              "  function run_inline_js() {\n",
              "    \n",
              "    if ((root.Bokeh !== undefined) || (force === true)) {\n",
              "      for (var i = 0; i < inline_js.length; i++) {\n",
              "        inline_js[i].call(root, root.Bokeh);\n",
              "      }} else if (Date.now() < root._bokeh_timeout) {\n",
              "      setTimeout(run_inline_js, 100);\n",
              "    } else if (!root._bokeh_failed_load) {\n",
              "      console.log(\"Bokeh: BokehJS failed to load within specified timeout.\");\n",
              "      root._bokeh_failed_load = true;\n",
              "    } else if (force !== true) {\n",
              "      var cell = $(document.getElementById(null)).parents('.cell').data().cell;\n",
              "      cell.output_area.append_execute_result(NB_LOAD_WARNING)\n",
              "    }\n",
              "\n",
              "  }\n",
              "\n",
              "  if (root._bokeh_is_loading === 0) {\n",
              "    console.log(\"Bokeh: BokehJS loaded, going straight to plotting\");\n",
              "    run_inline_js();\n",
              "  } else {\n",
              "    load_libs(js_urls, function() {\n",
              "      console.log(\"Bokeh: BokehJS plotting callback run at\", now());\n",
              "      run_inline_js();\n",
              "    });\n",
              "  }\n",
              "}(window));"
            ],
            "application/vnd.bokehjs_load.v0+json": "\n(function(root) {\n  function now() {\n    return new Date();\n  }\n\n  var force = true;\n\n  if (typeof (root._bokeh_onload_callbacks) === \"undefined\" || force === true) {\n    root._bokeh_onload_callbacks = [];\n    root._bokeh_is_loading = undefined;\n  }\n\n  \n\n  \n  if (typeof (root._bokeh_timeout) === \"undefined\" || force === true) {\n    root._bokeh_timeout = Date.now() + 5000;\n    root._bokeh_failed_load = false;\n  }\n\n  var NB_LOAD_WARNING = {'data': {'text/html':\n     \"<div style='background-color: #fdd'>\\n\"+\n     \"<p>\\n\"+\n     \"BokehJS does not appear to have successfully loaded. If loading BokehJS from CDN, this \\n\"+\n     \"may be due to a slow or bad network connection. Possible fixes:\\n\"+\n     \"</p>\\n\"+\n     \"<ul>\\n\"+\n     \"<li>re-rerun `output_notebook()` to attempt to load from CDN again, or</li>\\n\"+\n     \"<li>use INLINE resources instead, as so:</li>\\n\"+\n     \"</ul>\\n\"+\n     \"<code>\\n\"+\n     \"from bokeh.resources import INLINE\\n\"+\n     \"output_notebook(resources=INLINE)\\n\"+\n     \"</code>\\n\"+\n     \"</div>\"}};\n\n  function display_loaded() {\n    var el = document.getElementById(null);\n    if (el != null) {\n      el.textContent = \"BokehJS is loading...\";\n    }\n    if (root.Bokeh !== undefined) {\n      if (el != null) {\n        el.textContent = \"BokehJS \" + root.Bokeh.version + \" successfully loaded.\";\n      }\n    } else if (Date.now() < root._bokeh_timeout) {\n      setTimeout(display_loaded, 100)\n    }\n  }\n\n\n  function run_callbacks() {\n    try {\n      root._bokeh_onload_callbacks.forEach(function(callback) { callback() });\n    }\n    finally {\n      delete root._bokeh_onload_callbacks\n    }\n    console.info(\"Bokeh: all callbacks have finished\");\n  }\n\n  function load_libs(js_urls, callback) {\n    root._bokeh_onload_callbacks.push(callback);\n    if (root._bokeh_is_loading > 0) {\n      console.log(\"Bokeh: BokehJS is being loaded, scheduling callback at\", now());\n      return null;\n    }\n    if (js_urls == null || js_urls.length === 0) {\n      run_callbacks();\n      return null;\n    }\n    console.log(\"Bokeh: BokehJS not loaded, scheduling load and callback at\", now());\n    root._bokeh_is_loading = js_urls.length;\n    for (var i = 0; i < js_urls.length; i++) {\n      var url = js_urls[i];\n      var s = document.createElement('script');\n      s.src = url;\n      s.async = false;\n      s.onreadystatechange = s.onload = function() {\n        root._bokeh_is_loading--;\n        if (root._bokeh_is_loading === 0) {\n          console.log(\"Bokeh: all BokehJS libraries loaded\");\n          run_callbacks()\n        }\n      };\n      s.onerror = function() {\n        console.warn(\"failed to load library \" + url);\n      };\n      console.log(\"Bokeh: injecting script tag for BokehJS library: \", url);\n      document.getElementsByTagName(\"head\")[0].appendChild(s);\n    }\n  };\n\n  var js_urls = [\"https://cdn.pydata.org/bokeh/release/bokeh-1.0.4.min.js\", \"https://cdn.pydata.org/bokeh/release/bokeh-widgets-1.0.4.min.js\", \"https://cdn.pydata.org/bokeh/release/bokeh-tables-1.0.4.min.js\", \"https://cdn.pydata.org/bokeh/release/bokeh-gl-1.0.4.min.js\"];\n\n  var inline_js = [\n    function(Bokeh) {\n      Bokeh.set_log_level(\"info\");\n    },\n    \n    function(Bokeh) {\n      \n    },\n    function(Bokeh) {\n      console.log(\"Bokeh: injecting CSS: https://cdn.pydata.org/bokeh/release/bokeh-1.0.4.min.css\");\n      Bokeh.embed.inject_css(\"https://cdn.pydata.org/bokeh/release/bokeh-1.0.4.min.css\");\n      console.log(\"Bokeh: injecting CSS: https://cdn.pydata.org/bokeh/release/bokeh-widgets-1.0.4.min.css\");\n      Bokeh.embed.inject_css(\"https://cdn.pydata.org/bokeh/release/bokeh-widgets-1.0.4.min.css\");\n      console.log(\"Bokeh: injecting CSS: https://cdn.pydata.org/bokeh/release/bokeh-tables-1.0.4.min.css\");\n      Bokeh.embed.inject_css(\"https://cdn.pydata.org/bokeh/release/bokeh-tables-1.0.4.min.css\");\n    }\n  ];\n\n  function run_inline_js() {\n    \n    if ((root.Bokeh !== undefined) || (force === true)) {\n      for (var i = 0; i < inline_js.length; i++) {\n        inline_js[i].call(root, root.Bokeh);\n      }} else if (Date.now() < root._bokeh_timeout) {\n      setTimeout(run_inline_js, 100);\n    } else if (!root._bokeh_failed_load) {\n      console.log(\"Bokeh: BokehJS failed to load within specified timeout.\");\n      root._bokeh_failed_load = true;\n    } else if (force !== true) {\n      var cell = $(document.getElementById(null)).parents('.cell').data().cell;\n      cell.output_area.append_execute_result(NB_LOAD_WARNING)\n    }\n\n  }\n\n  if (root._bokeh_is_loading === 0) {\n    console.log(\"Bokeh: BokehJS loaded, going straight to plotting\");\n    run_inline_js();\n  } else {\n    load_libs(js_urls, function() {\n      console.log(\"Bokeh: BokehJS plotting callback run at\", now());\n      run_inline_js();\n    });\n  }\n}(window));"
          },
          "metadata": {
            "tags": []
          }
        },
        {
          "output_type": "display_data",
          "data": {
            "text/html": [
              "\n",
              "\n",
              "\n",
              "\n",
              "\n",
              "\n",
              "  <div class=\"bk-root\" id=\"9b3609b4-5bdd-4c05-a20c-2cc2938fb8a2\" data-root-id=\"1099\"></div>\n"
            ]
          },
          "metadata": {
            "tags": []
          }
        },
        {
          "output_type": "display_data",
          "data": {
            "application/javascript": [
              "(function(root) {\n",
              "  function embed_document(root) {\n",
              "    \n",
              "  var docs_json = {\"dd48cf5f-c7d8-4b4f-9a64-8fba4a2898c2\":{\"roots\":{\"references\":[{\"attributes\":{\"below\":[{\"id\":\"1109\",\"type\":\"LinearAxis\"}],\"left\":[{\"id\":\"1114\",\"type\":\"LinearAxis\"}],\"plot_height\":300,\"plot_width\":800,\"renderers\":[{\"id\":\"1109\",\"type\":\"LinearAxis\"},{\"id\":\"1113\",\"type\":\"Grid\"},{\"id\":\"1114\",\"type\":\"LinearAxis\"},{\"id\":\"1118\",\"type\":\"Grid\"},{\"id\":\"1127\",\"type\":\"BoxAnnotation\"},{\"id\":\"1137\",\"type\":\"GlyphRenderer\"},{\"id\":\"1142\",\"type\":\"GlyphRenderer\"}],\"title\":{\"id\":\"1098\",\"type\":\"Title\"},\"toolbar\":{\"id\":\"1125\",\"type\":\"Toolbar\"},\"x_range\":{\"id\":\"1101\",\"type\":\"DataRange1d\"},\"x_scale\":{\"id\":\"1105\",\"type\":\"LinearScale\"},\"y_range\":{\"id\":\"1103\",\"type\":\"DataRange1d\"},\"y_scale\":{\"id\":\"1107\",\"type\":\"LinearScale\"}},\"id\":\"1099\",\"subtype\":\"Figure\",\"type\":\"Plot\"},{\"attributes\":{},\"id\":\"1107\",\"type\":\"LinearScale\"},{\"attributes\":{},\"id\":\"1159\",\"type\":\"Selection\"},{\"attributes\":{},\"id\":\"1123\",\"type\":\"ResetTool\"},{\"attributes\":{},\"id\":\"1105\",\"type\":\"LinearScale\"},{\"attributes\":{},\"id\":\"1160\",\"type\":\"UnionRenderers\"},{\"attributes\":{},\"id\":\"1122\",\"type\":\"SaveTool\"},{\"attributes\":{},\"id\":\"1161\",\"type\":\"Selection\"},{\"attributes\":{\"plot\":null,\"text\":\"Beispiel\"},\"id\":\"1098\",\"type\":\"Title\"},{\"attributes\":{\"source\":{\"id\":\"1134\",\"type\":\"ColumnDataSource\"}},\"id\":\"1138\",\"type\":\"CDSView\"},{\"attributes\":{\"data_source\":{\"id\":\"1139\",\"type\":\"ColumnDataSource\"},\"glyph\":{\"id\":\"1140\",\"type\":\"Line\"},\"hover_glyph\":null,\"muted_glyph\":null,\"nonselection_glyph\":{\"id\":\"1141\",\"type\":\"Line\"},\"selection_glyph\":null,\"view\":{\"id\":\"1143\",\"type\":\"CDSView\"}},\"id\":\"1142\",\"type\":\"GlyphRenderer\"},{\"attributes\":{\"callback\":null},\"id\":\"1101\",\"type\":\"DataRange1d\"},{\"attributes\":{\"callback\":null},\"id\":\"1103\",\"type\":\"DataRange1d\"},{\"attributes\":{\"bottom_units\":\"screen\",\"fill_alpha\":{\"value\":0.5},\"fill_color\":{\"value\":\"lightgrey\"},\"left_units\":\"screen\",\"level\":\"overlay\",\"line_alpha\":{\"value\":1.0},\"line_color\":{\"value\":\"black\"},\"line_dash\":[4,4],\"line_width\":{\"value\":2},\"plot\":null,\"render_mode\":\"css\",\"right_units\":\"screen\",\"top_units\":\"screen\"},\"id\":\"1127\",\"type\":\"BoxAnnotation\"},{\"attributes\":{\"line_color\":\"#0A09A2\",\"x\":{\"field\":\"x\"},\"y\":{\"field\":\"y\"}},\"id\":\"1135\",\"type\":\"Line\"},{\"attributes\":{},\"id\":\"1158\",\"type\":\"UnionRenderers\"},{\"attributes\":{},\"id\":\"1155\",\"type\":\"BasicTickFormatter\"},{\"attributes\":{\"callback\":null,\"data\":{\"x\":[0,1,2,3,4,5,6,7,8,9,10],\"y\":[0,2,4,8,10,10,8,4,2,2,1]},\"selected\":{\"id\":\"1159\",\"type\":\"Selection\"},\"selection_policy\":{\"id\":\"1158\",\"type\":\"UnionRenderers\"}},\"id\":\"1134\",\"type\":\"ColumnDataSource\"},{\"attributes\":{},\"id\":\"1110\",\"type\":\"BasicTicker\"},{\"attributes\":{\"formatter\":{\"id\":\"1155\",\"type\":\"BasicTickFormatter\"},\"plot\":{\"id\":\"1099\",\"subtype\":\"Figure\",\"type\":\"Plot\"},\"ticker\":{\"id\":\"1110\",\"type\":\"BasicTicker\"}},\"id\":\"1109\",\"type\":\"LinearAxis\"},{\"attributes\":{},\"id\":\"1153\",\"type\":\"BasicTickFormatter\"},{\"attributes\":{\"data_source\":{\"id\":\"1134\",\"type\":\"ColumnDataSource\"},\"glyph\":{\"id\":\"1135\",\"type\":\"Line\"},\"hover_glyph\":null,\"muted_glyph\":null,\"nonselection_glyph\":{\"id\":\"1136\",\"type\":\"Line\"},\"selection_glyph\":null,\"view\":{\"id\":\"1138\",\"type\":\"CDSView\"}},\"id\":\"1137\",\"type\":\"GlyphRenderer\"},{\"attributes\":{\"line_color\":\"#AA09A2\",\"x\":{\"field\":\"x\"},\"y\":{\"field\":\"y\"}},\"id\":\"1140\",\"type\":\"Line\"},{\"attributes\":{},\"id\":\"1115\",\"type\":\"BasicTicker\"},{\"attributes\":{\"dimension\":1,\"plot\":{\"id\":\"1099\",\"subtype\":\"Figure\",\"type\":\"Plot\"},\"ticker\":{\"id\":\"1115\",\"type\":\"BasicTicker\"}},\"id\":\"1118\",\"type\":\"Grid\"},{\"attributes\":{\"callback\":null,\"data\":{\"x\":[0,1,2,3,4,5,6,7,8,9,10],\"y\":[0,4,8,16,20,20,16,8,4,4,2]},\"selected\":{\"id\":\"1161\",\"type\":\"Selection\"},\"selection_policy\":{\"id\":\"1160\",\"type\":\"UnionRenderers\"}},\"id\":\"1139\",\"type\":\"ColumnDataSource\"},{\"attributes\":{},\"id\":\"1119\",\"type\":\"PanTool\"},{\"attributes\":{\"formatter\":{\"id\":\"1153\",\"type\":\"BasicTickFormatter\"},\"plot\":{\"id\":\"1099\",\"subtype\":\"Figure\",\"type\":\"Plot\"},\"ticker\":{\"id\":\"1115\",\"type\":\"BasicTicker\"}},\"id\":\"1114\",\"type\":\"LinearAxis\"},{\"attributes\":{\"plot\":{\"id\":\"1099\",\"subtype\":\"Figure\",\"type\":\"Plot\"},\"ticker\":{\"id\":\"1110\",\"type\":\"BasicTicker\"}},\"id\":\"1113\",\"type\":\"Grid\"},{\"attributes\":{},\"id\":\"1124\",\"type\":\"HelpTool\"},{\"attributes\":{\"line_alpha\":0.1,\"line_color\":\"#1f77b4\",\"x\":{\"field\":\"x\"},\"y\":{\"field\":\"y\"}},\"id\":\"1136\",\"type\":\"Line\"},{\"attributes\":{\"active_drag\":\"auto\",\"active_inspect\":\"auto\",\"active_multi\":null,\"active_scroll\":\"auto\",\"active_tap\":\"auto\",\"tools\":[{\"id\":\"1119\",\"type\":\"PanTool\"},{\"id\":\"1120\",\"type\":\"WheelZoomTool\"},{\"id\":\"1121\",\"type\":\"BoxZoomTool\"},{\"id\":\"1122\",\"type\":\"SaveTool\"},{\"id\":\"1123\",\"type\":\"ResetTool\"},{\"id\":\"1124\",\"type\":\"HelpTool\"}]},\"id\":\"1125\",\"type\":\"Toolbar\"},{\"attributes\":{\"line_alpha\":0.1,\"line_color\":\"#1f77b4\",\"x\":{\"field\":\"x\"},\"y\":{\"field\":\"y\"}},\"id\":\"1141\",\"type\":\"Line\"},{\"attributes\":{\"overlay\":{\"id\":\"1127\",\"type\":\"BoxAnnotation\"}},\"id\":\"1121\",\"type\":\"BoxZoomTool\"},{\"attributes\":{\"source\":{\"id\":\"1139\",\"type\":\"ColumnDataSource\"}},\"id\":\"1143\",\"type\":\"CDSView\"},{\"attributes\":{},\"id\":\"1120\",\"type\":\"WheelZoomTool\"}],\"root_ids\":[\"1099\"]},\"title\":\"Bokeh Application\",\"version\":\"1.0.4\"}};\n",
              "  var render_items = [{\"docid\":\"dd48cf5f-c7d8-4b4f-9a64-8fba4a2898c2\",\"roots\":{\"1099\":\"9b3609b4-5bdd-4c05-a20c-2cc2938fb8a2\"}}];\n",
              "  root.Bokeh.embed.embed_items_notebook(docs_json, render_items);\n",
              "\n",
              "  }\n",
              "  if (root.Bokeh !== undefined) {\n",
              "    embed_document(root);\n",
              "  } else {\n",
              "    var attempts = 0;\n",
              "    var timer = setInterval(function(root) {\n",
              "      if (root.Bokeh !== undefined) {\n",
              "        embed_document(root);\n",
              "        clearInterval(timer);\n",
              "      }\n",
              "      attempts++;\n",
              "      if (attempts > 100) {\n",
              "        console.log(\"Bokeh: ERROR: Unable to run BokehJS code because BokehJS library is missing\");\n",
              "        clearInterval(timer);\n",
              "      }\n",
              "    }, 10, root)\n",
              "  }\n",
              "})(window);"
            ],
            "application/vnd.bokehjs_exec.v0+json": ""
          },
          "metadata": {
            "tags": [],
            "application/vnd.bokehjs_exec.v0+json": {
              "id": "1099"
            }
          }
        }
      ]
    },
    {
      "cell_type": "markdown",
      "metadata": {
        "id": "cTSVRGYIz_2c",
        "colab_type": "text"
      },
      "source": [
        "### Aufgabe 1\n",
        "\n",
        "Zeichnen sie ein Viereck mit den Koordinaten (0,0), (0,1), (1,1), (1,0)"
      ]
    },
    {
      "cell_type": "code",
      "metadata": {
        "id": "I0YGTtbU0F7R",
        "colab_type": "code",
        "outputId": "62e6a652-34e9-4fce-a4d1-1f2c9ee65657",
        "colab": {
          "base_uri": "https://localhost:8080/",
          "height": 317
        }
      },
      "source": [
        "x = [ 0,0,1,1,0 ]\n",
        "y = [ 0,1,1,0,0 ]\n",
        "\n",
        "p = figure(title = \"Beispiel\", plot_width=300, plot_height=300)\n",
        "p.line(x, y, color=\"#0A09A2\")\n",
        "show(p)"
      ],
      "execution_count": 0,
      "outputs": [
        {
          "output_type": "display_data",
          "data": {
            "application/javascript": [
              "\n",
              "(function(root) {\n",
              "  function now() {\n",
              "    return new Date();\n",
              "  }\n",
              "\n",
              "  var force = true;\n",
              "\n",
              "  if (typeof (root._bokeh_onload_callbacks) === \"undefined\" || force === true) {\n",
              "    root._bokeh_onload_callbacks = [];\n",
              "    root._bokeh_is_loading = undefined;\n",
              "  }\n",
              "\n",
              "  var JS_MIME_TYPE = 'application/javascript';\n",
              "  var HTML_MIME_TYPE = 'text/html';\n",
              "  var EXEC_MIME_TYPE = 'application/vnd.bokehjs_exec.v0+json';\n",
              "  var CLASS_NAME = 'output_bokeh rendered_html';\n",
              "\n",
              "  /**\n",
              "   * Render data to the DOM node\n",
              "   */\n",
              "  function render(props, node) {\n",
              "    var script = document.createElement(\"script\");\n",
              "    node.appendChild(script);\n",
              "  }\n",
              "\n",
              "  /**\n",
              "   * Handle when an output is cleared or removed\n",
              "   */\n",
              "  function handleClearOutput(event, handle) {\n",
              "    var cell = handle.cell;\n",
              "\n",
              "    var id = cell.output_area._bokeh_element_id;\n",
              "    var server_id = cell.output_area._bokeh_server_id;\n",
              "    // Clean up Bokeh references\n",
              "    if (id != null && id in Bokeh.index) {\n",
              "      Bokeh.index[id].model.document.clear();\n",
              "      delete Bokeh.index[id];\n",
              "    }\n",
              "\n",
              "    if (server_id !== undefined) {\n",
              "      // Clean up Bokeh references\n",
              "      var cmd = \"from bokeh.io.state import curstate; print(curstate().uuid_to_server['\" + server_id + \"'].get_sessions()[0].document.roots[0]._id)\";\n",
              "      cell.notebook.kernel.execute(cmd, {\n",
              "        iopub: {\n",
              "          output: function(msg) {\n",
              "            var id = msg.content.text.trim();\n",
              "            if (id in Bokeh.index) {\n",
              "              Bokeh.index[id].model.document.clear();\n",
              "              delete Bokeh.index[id];\n",
              "            }\n",
              "          }\n",
              "        }\n",
              "      });\n",
              "      // Destroy server and session\n",
              "      var cmd = \"import bokeh.io.notebook as ion; ion.destroy_server('\" + server_id + \"')\";\n",
              "      cell.notebook.kernel.execute(cmd);\n",
              "    }\n",
              "  }\n",
              "\n",
              "  /**\n",
              "   * Handle when a new output is added\n",
              "   */\n",
              "  function handleAddOutput(event, handle) {\n",
              "    var output_area = handle.output_area;\n",
              "    var output = handle.output;\n",
              "\n",
              "    // limit handleAddOutput to display_data with EXEC_MIME_TYPE content only\n",
              "    if ((output.output_type != \"display_data\") || (!output.data.hasOwnProperty(EXEC_MIME_TYPE))) {\n",
              "      return\n",
              "    }\n",
              "\n",
              "    var toinsert = output_area.element.find(\".\" + CLASS_NAME.split(' ')[0]);\n",
              "\n",
              "    if (output.metadata[EXEC_MIME_TYPE][\"id\"] !== undefined) {\n",
              "      toinsert[toinsert.length - 1].firstChild.textContent = output.data[JS_MIME_TYPE];\n",
              "      // store reference to embed id on output_area\n",
              "      output_area._bokeh_element_id = output.metadata[EXEC_MIME_TYPE][\"id\"];\n",
              "    }\n",
              "    if (output.metadata[EXEC_MIME_TYPE][\"server_id\"] !== undefined) {\n",
              "      var bk_div = document.createElement(\"div\");\n",
              "      bk_div.innerHTML = output.data[HTML_MIME_TYPE];\n",
              "      var script_attrs = bk_div.children[0].attributes;\n",
              "      for (var i = 0; i < script_attrs.length; i++) {\n",
              "        toinsert[toinsert.length - 1].firstChild.setAttribute(script_attrs[i].name, script_attrs[i].value);\n",
              "      }\n",
              "      // store reference to server id on output_area\n",
              "      output_area._bokeh_server_id = output.metadata[EXEC_MIME_TYPE][\"server_id\"];\n",
              "    }\n",
              "  }\n",
              "\n",
              "  function register_renderer(events, OutputArea) {\n",
              "\n",
              "    function append_mime(data, metadata, element) {\n",
              "      // create a DOM node to render to\n",
              "      var toinsert = this.create_output_subarea(\n",
              "        metadata,\n",
              "        CLASS_NAME,\n",
              "        EXEC_MIME_TYPE\n",
              "      );\n",
              "      this.keyboard_manager.register_events(toinsert);\n",
              "      // Render to node\n",
              "      var props = {data: data, metadata: metadata[EXEC_MIME_TYPE]};\n",
              "      render(props, toinsert[toinsert.length - 1]);\n",
              "      element.append(toinsert);\n",
              "      return toinsert\n",
              "    }\n",
              "\n",
              "    /* Handle when an output is cleared or removed */\n",
              "    events.on('clear_output.CodeCell', handleClearOutput);\n",
              "    events.on('delete.Cell', handleClearOutput);\n",
              "\n",
              "    /* Handle when a new output is added */\n",
              "    events.on('output_added.OutputArea', handleAddOutput);\n",
              "\n",
              "    /**\n",
              "     * Register the mime type and append_mime function with output_area\n",
              "     */\n",
              "    OutputArea.prototype.register_mime_type(EXEC_MIME_TYPE, append_mime, {\n",
              "      /* Is output safe? */\n",
              "      safe: true,\n",
              "      /* Index of renderer in `output_area.display_order` */\n",
              "      index: 0\n",
              "    });\n",
              "  }\n",
              "\n",
              "  // register the mime type if in Jupyter Notebook environment and previously unregistered\n",
              "  if (root.Jupyter !== undefined) {\n",
              "    var events = require('base/js/events');\n",
              "    var OutputArea = require('notebook/js/outputarea').OutputArea;\n",
              "\n",
              "    if (OutputArea.prototype.mime_types().indexOf(EXEC_MIME_TYPE) == -1) {\n",
              "      register_renderer(events, OutputArea);\n",
              "    }\n",
              "  }\n",
              "\n",
              "  \n",
              "  if (typeof (root._bokeh_timeout) === \"undefined\" || force === true) {\n",
              "    root._bokeh_timeout = Date.now() + 5000;\n",
              "    root._bokeh_failed_load = false;\n",
              "  }\n",
              "\n",
              "  var NB_LOAD_WARNING = {'data': {'text/html':\n",
              "     \"<div style='background-color: #fdd'>\\n\"+\n",
              "     \"<p>\\n\"+\n",
              "     \"BokehJS does not appear to have successfully loaded. If loading BokehJS from CDN, this \\n\"+\n",
              "     \"may be due to a slow or bad network connection. Possible fixes:\\n\"+\n",
              "     \"</p>\\n\"+\n",
              "     \"<ul>\\n\"+\n",
              "     \"<li>re-rerun `output_notebook()` to attempt to load from CDN again, or</li>\\n\"+\n",
              "     \"<li>use INLINE resources instead, as so:</li>\\n\"+\n",
              "     \"</ul>\\n\"+\n",
              "     \"<code>\\n\"+\n",
              "     \"from bokeh.resources import INLINE\\n\"+\n",
              "     \"output_notebook(resources=INLINE)\\n\"+\n",
              "     \"</code>\\n\"+\n",
              "     \"</div>\"}};\n",
              "\n",
              "  function display_loaded() {\n",
              "    var el = document.getElementById(null);\n",
              "    if (el != null) {\n",
              "      el.textContent = \"BokehJS is loading...\";\n",
              "    }\n",
              "    if (root.Bokeh !== undefined) {\n",
              "      if (el != null) {\n",
              "        el.textContent = \"BokehJS \" + root.Bokeh.version + \" successfully loaded.\";\n",
              "      }\n",
              "    } else if (Date.now() < root._bokeh_timeout) {\n",
              "      setTimeout(display_loaded, 100)\n",
              "    }\n",
              "  }\n",
              "\n",
              "\n",
              "  function run_callbacks() {\n",
              "    try {\n",
              "      root._bokeh_onload_callbacks.forEach(function(callback) { callback() });\n",
              "    }\n",
              "    finally {\n",
              "      delete root._bokeh_onload_callbacks\n",
              "    }\n",
              "    console.info(\"Bokeh: all callbacks have finished\");\n",
              "  }\n",
              "\n",
              "  function load_libs(js_urls, callback) {\n",
              "    root._bokeh_onload_callbacks.push(callback);\n",
              "    if (root._bokeh_is_loading > 0) {\n",
              "      console.log(\"Bokeh: BokehJS is being loaded, scheduling callback at\", now());\n",
              "      return null;\n",
              "    }\n",
              "    if (js_urls == null || js_urls.length === 0) {\n",
              "      run_callbacks();\n",
              "      return null;\n",
              "    }\n",
              "    console.log(\"Bokeh: BokehJS not loaded, scheduling load and callback at\", now());\n",
              "    root._bokeh_is_loading = js_urls.length;\n",
              "    for (var i = 0; i < js_urls.length; i++) {\n",
              "      var url = js_urls[i];\n",
              "      var s = document.createElement('script');\n",
              "      s.src = url;\n",
              "      s.async = false;\n",
              "      s.onreadystatechange = s.onload = function() {\n",
              "        root._bokeh_is_loading--;\n",
              "        if (root._bokeh_is_loading === 0) {\n",
              "          console.log(\"Bokeh: all BokehJS libraries loaded\");\n",
              "          run_callbacks()\n",
              "        }\n",
              "      };\n",
              "      s.onerror = function() {\n",
              "        console.warn(\"failed to load library \" + url);\n",
              "      };\n",
              "      console.log(\"Bokeh: injecting script tag for BokehJS library: \", url);\n",
              "      document.getElementsByTagName(\"head\")[0].appendChild(s);\n",
              "    }\n",
              "  };\n",
              "\n",
              "  var js_urls = [\"https://cdn.pydata.org/bokeh/release/bokeh-1.0.4.min.js\", \"https://cdn.pydata.org/bokeh/release/bokeh-widgets-1.0.4.min.js\", \"https://cdn.pydata.org/bokeh/release/bokeh-tables-1.0.4.min.js\", \"https://cdn.pydata.org/bokeh/release/bokeh-gl-1.0.4.min.js\"];\n",
              "\n",
              "  var inline_js = [\n",
              "    function(Bokeh) {\n",
              "      Bokeh.set_log_level(\"info\");\n",
              "    },\n",
              "    \n",
              "    function(Bokeh) {\n",
              "      \n",
              "    },\n",
              "    function(Bokeh) {\n",
              "      console.log(\"Bokeh: injecting CSS: https://cdn.pydata.org/bokeh/release/bokeh-1.0.4.min.css\");\n",
              "      Bokeh.embed.inject_css(\"https://cdn.pydata.org/bokeh/release/bokeh-1.0.4.min.css\");\n",
              "      console.log(\"Bokeh: injecting CSS: https://cdn.pydata.org/bokeh/release/bokeh-widgets-1.0.4.min.css\");\n",
              "      Bokeh.embed.inject_css(\"https://cdn.pydata.org/bokeh/release/bokeh-widgets-1.0.4.min.css\");\n",
              "      console.log(\"Bokeh: injecting CSS: https://cdn.pydata.org/bokeh/release/bokeh-tables-1.0.4.min.css\");\n",
              "      Bokeh.embed.inject_css(\"https://cdn.pydata.org/bokeh/release/bokeh-tables-1.0.4.min.css\");\n",
              "    }\n",
              "  ];\n",
              "\n",
              "  function run_inline_js() {\n",
              "    \n",
              "    if ((root.Bokeh !== undefined) || (force === true)) {\n",
              "      for (var i = 0; i < inline_js.length; i++) {\n",
              "        inline_js[i].call(root, root.Bokeh);\n",
              "      }} else if (Date.now() < root._bokeh_timeout) {\n",
              "      setTimeout(run_inline_js, 100);\n",
              "    } else if (!root._bokeh_failed_load) {\n",
              "      console.log(\"Bokeh: BokehJS failed to load within specified timeout.\");\n",
              "      root._bokeh_failed_load = true;\n",
              "    } else if (force !== true) {\n",
              "      var cell = $(document.getElementById(null)).parents('.cell').data().cell;\n",
              "      cell.output_area.append_execute_result(NB_LOAD_WARNING)\n",
              "    }\n",
              "\n",
              "  }\n",
              "\n",
              "  if (root._bokeh_is_loading === 0) {\n",
              "    console.log(\"Bokeh: BokehJS loaded, going straight to plotting\");\n",
              "    run_inline_js();\n",
              "  } else {\n",
              "    load_libs(js_urls, function() {\n",
              "      console.log(\"Bokeh: BokehJS plotting callback run at\", now());\n",
              "      run_inline_js();\n",
              "    });\n",
              "  }\n",
              "}(window));"
            ],
            "application/vnd.bokehjs_load.v0+json": "\n(function(root) {\n  function now() {\n    return new Date();\n  }\n\n  var force = true;\n\n  if (typeof (root._bokeh_onload_callbacks) === \"undefined\" || force === true) {\n    root._bokeh_onload_callbacks = [];\n    root._bokeh_is_loading = undefined;\n  }\n\n  \n\n  \n  if (typeof (root._bokeh_timeout) === \"undefined\" || force === true) {\n    root._bokeh_timeout = Date.now() + 5000;\n    root._bokeh_failed_load = false;\n  }\n\n  var NB_LOAD_WARNING = {'data': {'text/html':\n     \"<div style='background-color: #fdd'>\\n\"+\n     \"<p>\\n\"+\n     \"BokehJS does not appear to have successfully loaded. If loading BokehJS from CDN, this \\n\"+\n     \"may be due to a slow or bad network connection. Possible fixes:\\n\"+\n     \"</p>\\n\"+\n     \"<ul>\\n\"+\n     \"<li>re-rerun `output_notebook()` to attempt to load from CDN again, or</li>\\n\"+\n     \"<li>use INLINE resources instead, as so:</li>\\n\"+\n     \"</ul>\\n\"+\n     \"<code>\\n\"+\n     \"from bokeh.resources import INLINE\\n\"+\n     \"output_notebook(resources=INLINE)\\n\"+\n     \"</code>\\n\"+\n     \"</div>\"}};\n\n  function display_loaded() {\n    var el = document.getElementById(null);\n    if (el != null) {\n      el.textContent = \"BokehJS is loading...\";\n    }\n    if (root.Bokeh !== undefined) {\n      if (el != null) {\n        el.textContent = \"BokehJS \" + root.Bokeh.version + \" successfully loaded.\";\n      }\n    } else if (Date.now() < root._bokeh_timeout) {\n      setTimeout(display_loaded, 100)\n    }\n  }\n\n\n  function run_callbacks() {\n    try {\n      root._bokeh_onload_callbacks.forEach(function(callback) { callback() });\n    }\n    finally {\n      delete root._bokeh_onload_callbacks\n    }\n    console.info(\"Bokeh: all callbacks have finished\");\n  }\n\n  function load_libs(js_urls, callback) {\n    root._bokeh_onload_callbacks.push(callback);\n    if (root._bokeh_is_loading > 0) {\n      console.log(\"Bokeh: BokehJS is being loaded, scheduling callback at\", now());\n      return null;\n    }\n    if (js_urls == null || js_urls.length === 0) {\n      run_callbacks();\n      return null;\n    }\n    console.log(\"Bokeh: BokehJS not loaded, scheduling load and callback at\", now());\n    root._bokeh_is_loading = js_urls.length;\n    for (var i = 0; i < js_urls.length; i++) {\n      var url = js_urls[i];\n      var s = document.createElement('script');\n      s.src = url;\n      s.async = false;\n      s.onreadystatechange = s.onload = function() {\n        root._bokeh_is_loading--;\n        if (root._bokeh_is_loading === 0) {\n          console.log(\"Bokeh: all BokehJS libraries loaded\");\n          run_callbacks()\n        }\n      };\n      s.onerror = function() {\n        console.warn(\"failed to load library \" + url);\n      };\n      console.log(\"Bokeh: injecting script tag for BokehJS library: \", url);\n      document.getElementsByTagName(\"head\")[0].appendChild(s);\n    }\n  };\n\n  var js_urls = [\"https://cdn.pydata.org/bokeh/release/bokeh-1.0.4.min.js\", \"https://cdn.pydata.org/bokeh/release/bokeh-widgets-1.0.4.min.js\", \"https://cdn.pydata.org/bokeh/release/bokeh-tables-1.0.4.min.js\", \"https://cdn.pydata.org/bokeh/release/bokeh-gl-1.0.4.min.js\"];\n\n  var inline_js = [\n    function(Bokeh) {\n      Bokeh.set_log_level(\"info\");\n    },\n    \n    function(Bokeh) {\n      \n    },\n    function(Bokeh) {\n      console.log(\"Bokeh: injecting CSS: https://cdn.pydata.org/bokeh/release/bokeh-1.0.4.min.css\");\n      Bokeh.embed.inject_css(\"https://cdn.pydata.org/bokeh/release/bokeh-1.0.4.min.css\");\n      console.log(\"Bokeh: injecting CSS: https://cdn.pydata.org/bokeh/release/bokeh-widgets-1.0.4.min.css\");\n      Bokeh.embed.inject_css(\"https://cdn.pydata.org/bokeh/release/bokeh-widgets-1.0.4.min.css\");\n      console.log(\"Bokeh: injecting CSS: https://cdn.pydata.org/bokeh/release/bokeh-tables-1.0.4.min.css\");\n      Bokeh.embed.inject_css(\"https://cdn.pydata.org/bokeh/release/bokeh-tables-1.0.4.min.css\");\n    }\n  ];\n\n  function run_inline_js() {\n    \n    if ((root.Bokeh !== undefined) || (force === true)) {\n      for (var i = 0; i < inline_js.length; i++) {\n        inline_js[i].call(root, root.Bokeh);\n      }} else if (Date.now() < root._bokeh_timeout) {\n      setTimeout(run_inline_js, 100);\n    } else if (!root._bokeh_failed_load) {\n      console.log(\"Bokeh: BokehJS failed to load within specified timeout.\");\n      root._bokeh_failed_load = true;\n    } else if (force !== true) {\n      var cell = $(document.getElementById(null)).parents('.cell').data().cell;\n      cell.output_area.append_execute_result(NB_LOAD_WARNING)\n    }\n\n  }\n\n  if (root._bokeh_is_loading === 0) {\n    console.log(\"Bokeh: BokehJS loaded, going straight to plotting\");\n    run_inline_js();\n  } else {\n    load_libs(js_urls, function() {\n      console.log(\"Bokeh: BokehJS plotting callback run at\", now());\n      run_inline_js();\n    });\n  }\n}(window));"
          },
          "metadata": {
            "tags": []
          }
        },
        {
          "output_type": "display_data",
          "data": {
            "text/html": [
              "\n",
              "\n",
              "\n",
              "\n",
              "\n",
              "\n",
              "  <div class=\"bk-root\" id=\"e6b19144-d1a2-4727-b167-1fc2a03b9fee\" data-root-id=\"1223\"></div>\n"
            ]
          },
          "metadata": {
            "tags": []
          }
        },
        {
          "output_type": "display_data",
          "data": {
            "application/javascript": [
              "(function(root) {\n",
              "  function embed_document(root) {\n",
              "    \n",
              "  var docs_json = {\"e5a6e407-59f0-4425-a18c-553ebd411ebb\":{\"roots\":{\"references\":[{\"attributes\":{\"below\":[{\"id\":\"1233\",\"type\":\"LinearAxis\"}],\"left\":[{\"id\":\"1238\",\"type\":\"LinearAxis\"}],\"plot_height\":300,\"plot_width\":300,\"renderers\":[{\"id\":\"1233\",\"type\":\"LinearAxis\"},{\"id\":\"1237\",\"type\":\"Grid\"},{\"id\":\"1238\",\"type\":\"LinearAxis\"},{\"id\":\"1242\",\"type\":\"Grid\"},{\"id\":\"1251\",\"type\":\"BoxAnnotation\"},{\"id\":\"1261\",\"type\":\"GlyphRenderer\"}],\"title\":{\"id\":\"1222\",\"type\":\"Title\"},\"toolbar\":{\"id\":\"1249\",\"type\":\"Toolbar\"},\"x_range\":{\"id\":\"1225\",\"type\":\"DataRange1d\"},\"x_scale\":{\"id\":\"1229\",\"type\":\"LinearScale\"},\"y_range\":{\"id\":\"1227\",\"type\":\"DataRange1d\"},\"y_scale\":{\"id\":\"1231\",\"type\":\"LinearScale\"}},\"id\":\"1223\",\"subtype\":\"Figure\",\"type\":\"Plot\"},{\"attributes\":{},\"id\":\"1284\",\"type\":\"BasicTickFormatter\"},{\"attributes\":{},\"id\":\"1244\",\"type\":\"WheelZoomTool\"},{\"attributes\":{},\"id\":\"1287\",\"type\":\"UnionRenderers\"},{\"attributes\":{},\"id\":\"1282\",\"type\":\"BasicTickFormatter\"},{\"attributes\":{\"plot\":null,\"text\":\"Beispiel\"},\"id\":\"1222\",\"type\":\"Title\"},{\"attributes\":{\"line_alpha\":0.1,\"line_color\":\"#1f77b4\",\"x\":{\"field\":\"x\"},\"y\":{\"field\":\"y\"}},\"id\":\"1260\",\"type\":\"Line\"},{\"attributes\":{\"line_color\":\"#0A09A2\",\"x\":{\"field\":\"x\"},\"y\":{\"field\":\"y\"}},\"id\":\"1259\",\"type\":\"Line\"},{\"attributes\":{\"plot\":{\"id\":\"1223\",\"subtype\":\"Figure\",\"type\":\"Plot\"},\"ticker\":{\"id\":\"1234\",\"type\":\"BasicTicker\"}},\"id\":\"1237\",\"type\":\"Grid\"},{\"attributes\":{},\"id\":\"1247\",\"type\":\"ResetTool\"},{\"attributes\":{\"callback\":null,\"data\":{\"x\":[0,0,1,1,0],\"y\":[0,1,1,0,0]},\"selected\":{\"id\":\"1288\",\"type\":\"Selection\"},\"selection_policy\":{\"id\":\"1287\",\"type\":\"UnionRenderers\"}},\"id\":\"1258\",\"type\":\"ColumnDataSource\"},{\"attributes\":{\"data_source\":{\"id\":\"1258\",\"type\":\"ColumnDataSource\"},\"glyph\":{\"id\":\"1259\",\"type\":\"Line\"},\"hover_glyph\":null,\"muted_glyph\":null,\"nonselection_glyph\":{\"id\":\"1260\",\"type\":\"Line\"},\"selection_glyph\":null,\"view\":{\"id\":\"1262\",\"type\":\"CDSView\"}},\"id\":\"1261\",\"type\":\"GlyphRenderer\"},{\"attributes\":{\"callback\":null},\"id\":\"1225\",\"type\":\"DataRange1d\"},{\"attributes\":{\"active_drag\":\"auto\",\"active_inspect\":\"auto\",\"active_multi\":null,\"active_scroll\":\"auto\",\"active_tap\":\"auto\",\"tools\":[{\"id\":\"1243\",\"type\":\"PanTool\"},{\"id\":\"1244\",\"type\":\"WheelZoomTool\"},{\"id\":\"1245\",\"type\":\"BoxZoomTool\"},{\"id\":\"1246\",\"type\":\"SaveTool\"},{\"id\":\"1247\",\"type\":\"ResetTool\"},{\"id\":\"1248\",\"type\":\"HelpTool\"}]},\"id\":\"1249\",\"type\":\"Toolbar\"},{\"attributes\":{},\"id\":\"1229\",\"type\":\"LinearScale\"},{\"attributes\":{\"callback\":null},\"id\":\"1227\",\"type\":\"DataRange1d\"},{\"attributes\":{},\"id\":\"1248\",\"type\":\"HelpTool\"},{\"attributes\":{\"formatter\":{\"id\":\"1284\",\"type\":\"BasicTickFormatter\"},\"plot\":{\"id\":\"1223\",\"subtype\":\"Figure\",\"type\":\"Plot\"},\"ticker\":{\"id\":\"1234\",\"type\":\"BasicTicker\"}},\"id\":\"1233\",\"type\":\"LinearAxis\"},{\"attributes\":{},\"id\":\"1243\",\"type\":\"PanTool\"},{\"attributes\":{},\"id\":\"1231\",\"type\":\"LinearScale\"},{\"attributes\":{\"dimension\":1,\"plot\":{\"id\":\"1223\",\"subtype\":\"Figure\",\"type\":\"Plot\"},\"ticker\":{\"id\":\"1239\",\"type\":\"BasicTicker\"}},\"id\":\"1242\",\"type\":\"Grid\"},{\"attributes\":{},\"id\":\"1239\",\"type\":\"BasicTicker\"},{\"attributes\":{},\"id\":\"1246\",\"type\":\"SaveTool\"},{\"attributes\":{\"bottom_units\":\"screen\",\"fill_alpha\":{\"value\":0.5},\"fill_color\":{\"value\":\"lightgrey\"},\"left_units\":\"screen\",\"level\":\"overlay\",\"line_alpha\":{\"value\":1.0},\"line_color\":{\"value\":\"black\"},\"line_dash\":[4,4],\"line_width\":{\"value\":2},\"plot\":null,\"render_mode\":\"css\",\"right_units\":\"screen\",\"top_units\":\"screen\"},\"id\":\"1251\",\"type\":\"BoxAnnotation\"},{\"attributes\":{\"formatter\":{\"id\":\"1282\",\"type\":\"BasicTickFormatter\"},\"plot\":{\"id\":\"1223\",\"subtype\":\"Figure\",\"type\":\"Plot\"},\"ticker\":{\"id\":\"1239\",\"type\":\"BasicTicker\"}},\"id\":\"1238\",\"type\":\"LinearAxis\"},{\"attributes\":{\"overlay\":{\"id\":\"1251\",\"type\":\"BoxAnnotation\"}},\"id\":\"1245\",\"type\":\"BoxZoomTool\"},{\"attributes\":{},\"id\":\"1234\",\"type\":\"BasicTicker\"},{\"attributes\":{\"source\":{\"id\":\"1258\",\"type\":\"ColumnDataSource\"}},\"id\":\"1262\",\"type\":\"CDSView\"},{\"attributes\":{},\"id\":\"1288\",\"type\":\"Selection\"}],\"root_ids\":[\"1223\"]},\"title\":\"Bokeh Application\",\"version\":\"1.0.4\"}};\n",
              "  var render_items = [{\"docid\":\"e5a6e407-59f0-4425-a18c-553ebd411ebb\",\"roots\":{\"1223\":\"e6b19144-d1a2-4727-b167-1fc2a03b9fee\"}}];\n",
              "  root.Bokeh.embed.embed_items_notebook(docs_json, render_items);\n",
              "\n",
              "  }\n",
              "  if (root.Bokeh !== undefined) {\n",
              "    embed_document(root);\n",
              "  } else {\n",
              "    var attempts = 0;\n",
              "    var timer = setInterval(function(root) {\n",
              "      if (root.Bokeh !== undefined) {\n",
              "        embed_document(root);\n",
              "        clearInterval(timer);\n",
              "      }\n",
              "      attempts++;\n",
              "      if (attempts > 100) {\n",
              "        console.log(\"Bokeh: ERROR: Unable to run BokehJS code because BokehJS library is missing\");\n",
              "        clearInterval(timer);\n",
              "      }\n",
              "    }, 10, root)\n",
              "  }\n",
              "})(window);"
            ],
            "application/vnd.bokehjs_exec.v0+json": ""
          },
          "metadata": {
            "tags": [],
            "application/vnd.bokehjs_exec.v0+json": {
              "id": "1223"
            }
          }
        }
      ]
    },
    {
      "cell_type": "markdown",
      "metadata": {
        "id": "QS1N8CUJ0O1Q",
        "colab_type": "text"
      },
      "source": [
        "Aufgabe 2\n",
        "\n",
        "Verändern Sie die Farbe des Vierecks.\n",
        "\n",
        "Es können englische Namen für Farben verwendet werden, oder eine RGB Kodierung. Farben in RGB werden wie folgt beschrieben:\n",
        "\n",
        "\"#RRGGBB\"\n",
        "\n",
        "Die ersten beiden Ziffern beschreiben den Rotanteil einer Farbe. Die zweiten beiden Ziffern beschreiben den Grünateil und die letzten beiden Ziffern den Blauanteil. Für jede Ziffer kann eine der folgenden Zahlen verwendet werden:\n",
        "\n",
        "0,1,2,3,4,5,6,7,8,9,A,B,C,D,E,F, wobei F für die Zahl 15 steht, A entsprechend für 10\n",
        "\n",
        "* \"#0000FF\" ist ein kräftiges Blau\n",
        "* \"#00FF00\" ist ein kräftiges Grün\n",
        "* \"#FF0000\" ist ein kräftiges Rot\n",
        "* \"#000000\" ist Schwarz\n",
        "* \"#FFFFFF\" ist Weiß\n",
        "* \"#888888\" ergibt Grau\n",
        "\n",
        "Probieren Sie bitte unterschiedliche Farben aus.\n",
        "\n"
      ]
    },
    {
      "cell_type": "code",
      "metadata": {
        "id": "4rOep5FP0WiB",
        "colab_type": "code",
        "outputId": "bf4aa56d-8e86-49f6-9b8c-70ea9b6904a2",
        "colab": {
          "base_uri": "https://localhost:8080/",
          "height": 317
        }
      },
      "source": [
        "x = [ 0,0,1,1,0 ]\n",
        "y = [ 0,1,1,0,0 ]\n",
        "\n",
        "p = figure(title = \"Beispiel\", plot_width=300, plot_height=300)\n",
        "p.line(x, y, color=\"#A0A0A0\")\n",
        "show(p)"
      ],
      "execution_count": 0,
      "outputs": [
        {
          "output_type": "display_data",
          "data": {
            "application/javascript": [
              "\n",
              "(function(root) {\n",
              "  function now() {\n",
              "    return new Date();\n",
              "  }\n",
              "\n",
              "  var force = true;\n",
              "\n",
              "  if (typeof (root._bokeh_onload_callbacks) === \"undefined\" || force === true) {\n",
              "    root._bokeh_onload_callbacks = [];\n",
              "    root._bokeh_is_loading = undefined;\n",
              "  }\n",
              "\n",
              "  var JS_MIME_TYPE = 'application/javascript';\n",
              "  var HTML_MIME_TYPE = 'text/html';\n",
              "  var EXEC_MIME_TYPE = 'application/vnd.bokehjs_exec.v0+json';\n",
              "  var CLASS_NAME = 'output_bokeh rendered_html';\n",
              "\n",
              "  /**\n",
              "   * Render data to the DOM node\n",
              "   */\n",
              "  function render(props, node) {\n",
              "    var script = document.createElement(\"script\");\n",
              "    node.appendChild(script);\n",
              "  }\n",
              "\n",
              "  /**\n",
              "   * Handle when an output is cleared or removed\n",
              "   */\n",
              "  function handleClearOutput(event, handle) {\n",
              "    var cell = handle.cell;\n",
              "\n",
              "    var id = cell.output_area._bokeh_element_id;\n",
              "    var server_id = cell.output_area._bokeh_server_id;\n",
              "    // Clean up Bokeh references\n",
              "    if (id != null && id in Bokeh.index) {\n",
              "      Bokeh.index[id].model.document.clear();\n",
              "      delete Bokeh.index[id];\n",
              "    }\n",
              "\n",
              "    if (server_id !== undefined) {\n",
              "      // Clean up Bokeh references\n",
              "      var cmd = \"from bokeh.io.state import curstate; print(curstate().uuid_to_server['\" + server_id + \"'].get_sessions()[0].document.roots[0]._id)\";\n",
              "      cell.notebook.kernel.execute(cmd, {\n",
              "        iopub: {\n",
              "          output: function(msg) {\n",
              "            var id = msg.content.text.trim();\n",
              "            if (id in Bokeh.index) {\n",
              "              Bokeh.index[id].model.document.clear();\n",
              "              delete Bokeh.index[id];\n",
              "            }\n",
              "          }\n",
              "        }\n",
              "      });\n",
              "      // Destroy server and session\n",
              "      var cmd = \"import bokeh.io.notebook as ion; ion.destroy_server('\" + server_id + \"')\";\n",
              "      cell.notebook.kernel.execute(cmd);\n",
              "    }\n",
              "  }\n",
              "\n",
              "  /**\n",
              "   * Handle when a new output is added\n",
              "   */\n",
              "  function handleAddOutput(event, handle) {\n",
              "    var output_area = handle.output_area;\n",
              "    var output = handle.output;\n",
              "\n",
              "    // limit handleAddOutput to display_data with EXEC_MIME_TYPE content only\n",
              "    if ((output.output_type != \"display_data\") || (!output.data.hasOwnProperty(EXEC_MIME_TYPE))) {\n",
              "      return\n",
              "    }\n",
              "\n",
              "    var toinsert = output_area.element.find(\".\" + CLASS_NAME.split(' ')[0]);\n",
              "\n",
              "    if (output.metadata[EXEC_MIME_TYPE][\"id\"] !== undefined) {\n",
              "      toinsert[toinsert.length - 1].firstChild.textContent = output.data[JS_MIME_TYPE];\n",
              "      // store reference to embed id on output_area\n",
              "      output_area._bokeh_element_id = output.metadata[EXEC_MIME_TYPE][\"id\"];\n",
              "    }\n",
              "    if (output.metadata[EXEC_MIME_TYPE][\"server_id\"] !== undefined) {\n",
              "      var bk_div = document.createElement(\"div\");\n",
              "      bk_div.innerHTML = output.data[HTML_MIME_TYPE];\n",
              "      var script_attrs = bk_div.children[0].attributes;\n",
              "      for (var i = 0; i < script_attrs.length; i++) {\n",
              "        toinsert[toinsert.length - 1].firstChild.setAttribute(script_attrs[i].name, script_attrs[i].value);\n",
              "      }\n",
              "      // store reference to server id on output_area\n",
              "      output_area._bokeh_server_id = output.metadata[EXEC_MIME_TYPE][\"server_id\"];\n",
              "    }\n",
              "  }\n",
              "\n",
              "  function register_renderer(events, OutputArea) {\n",
              "\n",
              "    function append_mime(data, metadata, element) {\n",
              "      // create a DOM node to render to\n",
              "      var toinsert = this.create_output_subarea(\n",
              "        metadata,\n",
              "        CLASS_NAME,\n",
              "        EXEC_MIME_TYPE\n",
              "      );\n",
              "      this.keyboard_manager.register_events(toinsert);\n",
              "      // Render to node\n",
              "      var props = {data: data, metadata: metadata[EXEC_MIME_TYPE]};\n",
              "      render(props, toinsert[toinsert.length - 1]);\n",
              "      element.append(toinsert);\n",
              "      return toinsert\n",
              "    }\n",
              "\n",
              "    /* Handle when an output is cleared or removed */\n",
              "    events.on('clear_output.CodeCell', handleClearOutput);\n",
              "    events.on('delete.Cell', handleClearOutput);\n",
              "\n",
              "    /* Handle when a new output is added */\n",
              "    events.on('output_added.OutputArea', handleAddOutput);\n",
              "\n",
              "    /**\n",
              "     * Register the mime type and append_mime function with output_area\n",
              "     */\n",
              "    OutputArea.prototype.register_mime_type(EXEC_MIME_TYPE, append_mime, {\n",
              "      /* Is output safe? */\n",
              "      safe: true,\n",
              "      /* Index of renderer in `output_area.display_order` */\n",
              "      index: 0\n",
              "    });\n",
              "  }\n",
              "\n",
              "  // register the mime type if in Jupyter Notebook environment and previously unregistered\n",
              "  if (root.Jupyter !== undefined) {\n",
              "    var events = require('base/js/events');\n",
              "    var OutputArea = require('notebook/js/outputarea').OutputArea;\n",
              "\n",
              "    if (OutputArea.prototype.mime_types().indexOf(EXEC_MIME_TYPE) == -1) {\n",
              "      register_renderer(events, OutputArea);\n",
              "    }\n",
              "  }\n",
              "\n",
              "  \n",
              "  if (typeof (root._bokeh_timeout) === \"undefined\" || force === true) {\n",
              "    root._bokeh_timeout = Date.now() + 5000;\n",
              "    root._bokeh_failed_load = false;\n",
              "  }\n",
              "\n",
              "  var NB_LOAD_WARNING = {'data': {'text/html':\n",
              "     \"<div style='background-color: #fdd'>\\n\"+\n",
              "     \"<p>\\n\"+\n",
              "     \"BokehJS does not appear to have successfully loaded. If loading BokehJS from CDN, this \\n\"+\n",
              "     \"may be due to a slow or bad network connection. Possible fixes:\\n\"+\n",
              "     \"</p>\\n\"+\n",
              "     \"<ul>\\n\"+\n",
              "     \"<li>re-rerun `output_notebook()` to attempt to load from CDN again, or</li>\\n\"+\n",
              "     \"<li>use INLINE resources instead, as so:</li>\\n\"+\n",
              "     \"</ul>\\n\"+\n",
              "     \"<code>\\n\"+\n",
              "     \"from bokeh.resources import INLINE\\n\"+\n",
              "     \"output_notebook(resources=INLINE)\\n\"+\n",
              "     \"</code>\\n\"+\n",
              "     \"</div>\"}};\n",
              "\n",
              "  function display_loaded() {\n",
              "    var el = document.getElementById(null);\n",
              "    if (el != null) {\n",
              "      el.textContent = \"BokehJS is loading...\";\n",
              "    }\n",
              "    if (root.Bokeh !== undefined) {\n",
              "      if (el != null) {\n",
              "        el.textContent = \"BokehJS \" + root.Bokeh.version + \" successfully loaded.\";\n",
              "      }\n",
              "    } else if (Date.now() < root._bokeh_timeout) {\n",
              "      setTimeout(display_loaded, 100)\n",
              "    }\n",
              "  }\n",
              "\n",
              "\n",
              "  function run_callbacks() {\n",
              "    try {\n",
              "      root._bokeh_onload_callbacks.forEach(function(callback) { callback() });\n",
              "    }\n",
              "    finally {\n",
              "      delete root._bokeh_onload_callbacks\n",
              "    }\n",
              "    console.info(\"Bokeh: all callbacks have finished\");\n",
              "  }\n",
              "\n",
              "  function load_libs(js_urls, callback) {\n",
              "    root._bokeh_onload_callbacks.push(callback);\n",
              "    if (root._bokeh_is_loading > 0) {\n",
              "      console.log(\"Bokeh: BokehJS is being loaded, scheduling callback at\", now());\n",
              "      return null;\n",
              "    }\n",
              "    if (js_urls == null || js_urls.length === 0) {\n",
              "      run_callbacks();\n",
              "      return null;\n",
              "    }\n",
              "    console.log(\"Bokeh: BokehJS not loaded, scheduling load and callback at\", now());\n",
              "    root._bokeh_is_loading = js_urls.length;\n",
              "    for (var i = 0; i < js_urls.length; i++) {\n",
              "      var url = js_urls[i];\n",
              "      var s = document.createElement('script');\n",
              "      s.src = url;\n",
              "      s.async = false;\n",
              "      s.onreadystatechange = s.onload = function() {\n",
              "        root._bokeh_is_loading--;\n",
              "        if (root._bokeh_is_loading === 0) {\n",
              "          console.log(\"Bokeh: all BokehJS libraries loaded\");\n",
              "          run_callbacks()\n",
              "        }\n",
              "      };\n",
              "      s.onerror = function() {\n",
              "        console.warn(\"failed to load library \" + url);\n",
              "      };\n",
              "      console.log(\"Bokeh: injecting script tag for BokehJS library: \", url);\n",
              "      document.getElementsByTagName(\"head\")[0].appendChild(s);\n",
              "    }\n",
              "  };\n",
              "\n",
              "  var js_urls = [\"https://cdn.pydata.org/bokeh/release/bokeh-1.0.4.min.js\", \"https://cdn.pydata.org/bokeh/release/bokeh-widgets-1.0.4.min.js\", \"https://cdn.pydata.org/bokeh/release/bokeh-tables-1.0.4.min.js\", \"https://cdn.pydata.org/bokeh/release/bokeh-gl-1.0.4.min.js\"];\n",
              "\n",
              "  var inline_js = [\n",
              "    function(Bokeh) {\n",
              "      Bokeh.set_log_level(\"info\");\n",
              "    },\n",
              "    \n",
              "    function(Bokeh) {\n",
              "      \n",
              "    },\n",
              "    function(Bokeh) {\n",
              "      console.log(\"Bokeh: injecting CSS: https://cdn.pydata.org/bokeh/release/bokeh-1.0.4.min.css\");\n",
              "      Bokeh.embed.inject_css(\"https://cdn.pydata.org/bokeh/release/bokeh-1.0.4.min.css\");\n",
              "      console.log(\"Bokeh: injecting CSS: https://cdn.pydata.org/bokeh/release/bokeh-widgets-1.0.4.min.css\");\n",
              "      Bokeh.embed.inject_css(\"https://cdn.pydata.org/bokeh/release/bokeh-widgets-1.0.4.min.css\");\n",
              "      console.log(\"Bokeh: injecting CSS: https://cdn.pydata.org/bokeh/release/bokeh-tables-1.0.4.min.css\");\n",
              "      Bokeh.embed.inject_css(\"https://cdn.pydata.org/bokeh/release/bokeh-tables-1.0.4.min.css\");\n",
              "    }\n",
              "  ];\n",
              "\n",
              "  function run_inline_js() {\n",
              "    \n",
              "    if ((root.Bokeh !== undefined) || (force === true)) {\n",
              "      for (var i = 0; i < inline_js.length; i++) {\n",
              "        inline_js[i].call(root, root.Bokeh);\n",
              "      }} else if (Date.now() < root._bokeh_timeout) {\n",
              "      setTimeout(run_inline_js, 100);\n",
              "    } else if (!root._bokeh_failed_load) {\n",
              "      console.log(\"Bokeh: BokehJS failed to load within specified timeout.\");\n",
              "      root._bokeh_failed_load = true;\n",
              "    } else if (force !== true) {\n",
              "      var cell = $(document.getElementById(null)).parents('.cell').data().cell;\n",
              "      cell.output_area.append_execute_result(NB_LOAD_WARNING)\n",
              "    }\n",
              "\n",
              "  }\n",
              "\n",
              "  if (root._bokeh_is_loading === 0) {\n",
              "    console.log(\"Bokeh: BokehJS loaded, going straight to plotting\");\n",
              "    run_inline_js();\n",
              "  } else {\n",
              "    load_libs(js_urls, function() {\n",
              "      console.log(\"Bokeh: BokehJS plotting callback run at\", now());\n",
              "      run_inline_js();\n",
              "    });\n",
              "  }\n",
              "}(window));"
            ],
            "application/vnd.bokehjs_load.v0+json": "\n(function(root) {\n  function now() {\n    return new Date();\n  }\n\n  var force = true;\n\n  if (typeof (root._bokeh_onload_callbacks) === \"undefined\" || force === true) {\n    root._bokeh_onload_callbacks = [];\n    root._bokeh_is_loading = undefined;\n  }\n\n  \n\n  \n  if (typeof (root._bokeh_timeout) === \"undefined\" || force === true) {\n    root._bokeh_timeout = Date.now() + 5000;\n    root._bokeh_failed_load = false;\n  }\n\n  var NB_LOAD_WARNING = {'data': {'text/html':\n     \"<div style='background-color: #fdd'>\\n\"+\n     \"<p>\\n\"+\n     \"BokehJS does not appear to have successfully loaded. If loading BokehJS from CDN, this \\n\"+\n     \"may be due to a slow or bad network connection. Possible fixes:\\n\"+\n     \"</p>\\n\"+\n     \"<ul>\\n\"+\n     \"<li>re-rerun `output_notebook()` to attempt to load from CDN again, or</li>\\n\"+\n     \"<li>use INLINE resources instead, as so:</li>\\n\"+\n     \"</ul>\\n\"+\n     \"<code>\\n\"+\n     \"from bokeh.resources import INLINE\\n\"+\n     \"output_notebook(resources=INLINE)\\n\"+\n     \"</code>\\n\"+\n     \"</div>\"}};\n\n  function display_loaded() {\n    var el = document.getElementById(null);\n    if (el != null) {\n      el.textContent = \"BokehJS is loading...\";\n    }\n    if (root.Bokeh !== undefined) {\n      if (el != null) {\n        el.textContent = \"BokehJS \" + root.Bokeh.version + \" successfully loaded.\";\n      }\n    } else if (Date.now() < root._bokeh_timeout) {\n      setTimeout(display_loaded, 100)\n    }\n  }\n\n\n  function run_callbacks() {\n    try {\n      root._bokeh_onload_callbacks.forEach(function(callback) { callback() });\n    }\n    finally {\n      delete root._bokeh_onload_callbacks\n    }\n    console.info(\"Bokeh: all callbacks have finished\");\n  }\n\n  function load_libs(js_urls, callback) {\n    root._bokeh_onload_callbacks.push(callback);\n    if (root._bokeh_is_loading > 0) {\n      console.log(\"Bokeh: BokehJS is being loaded, scheduling callback at\", now());\n      return null;\n    }\n    if (js_urls == null || js_urls.length === 0) {\n      run_callbacks();\n      return null;\n    }\n    console.log(\"Bokeh: BokehJS not loaded, scheduling load and callback at\", now());\n    root._bokeh_is_loading = js_urls.length;\n    for (var i = 0; i < js_urls.length; i++) {\n      var url = js_urls[i];\n      var s = document.createElement('script');\n      s.src = url;\n      s.async = false;\n      s.onreadystatechange = s.onload = function() {\n        root._bokeh_is_loading--;\n        if (root._bokeh_is_loading === 0) {\n          console.log(\"Bokeh: all BokehJS libraries loaded\");\n          run_callbacks()\n        }\n      };\n      s.onerror = function() {\n        console.warn(\"failed to load library \" + url);\n      };\n      console.log(\"Bokeh: injecting script tag for BokehJS library: \", url);\n      document.getElementsByTagName(\"head\")[0].appendChild(s);\n    }\n  };\n\n  var js_urls = [\"https://cdn.pydata.org/bokeh/release/bokeh-1.0.4.min.js\", \"https://cdn.pydata.org/bokeh/release/bokeh-widgets-1.0.4.min.js\", \"https://cdn.pydata.org/bokeh/release/bokeh-tables-1.0.4.min.js\", \"https://cdn.pydata.org/bokeh/release/bokeh-gl-1.0.4.min.js\"];\n\n  var inline_js = [\n    function(Bokeh) {\n      Bokeh.set_log_level(\"info\");\n    },\n    \n    function(Bokeh) {\n      \n    },\n    function(Bokeh) {\n      console.log(\"Bokeh: injecting CSS: https://cdn.pydata.org/bokeh/release/bokeh-1.0.4.min.css\");\n      Bokeh.embed.inject_css(\"https://cdn.pydata.org/bokeh/release/bokeh-1.0.4.min.css\");\n      console.log(\"Bokeh: injecting CSS: https://cdn.pydata.org/bokeh/release/bokeh-widgets-1.0.4.min.css\");\n      Bokeh.embed.inject_css(\"https://cdn.pydata.org/bokeh/release/bokeh-widgets-1.0.4.min.css\");\n      console.log(\"Bokeh: injecting CSS: https://cdn.pydata.org/bokeh/release/bokeh-tables-1.0.4.min.css\");\n      Bokeh.embed.inject_css(\"https://cdn.pydata.org/bokeh/release/bokeh-tables-1.0.4.min.css\");\n    }\n  ];\n\n  function run_inline_js() {\n    \n    if ((root.Bokeh !== undefined) || (force === true)) {\n      for (var i = 0; i < inline_js.length; i++) {\n        inline_js[i].call(root, root.Bokeh);\n      }} else if (Date.now() < root._bokeh_timeout) {\n      setTimeout(run_inline_js, 100);\n    } else if (!root._bokeh_failed_load) {\n      console.log(\"Bokeh: BokehJS failed to load within specified timeout.\");\n      root._bokeh_failed_load = true;\n    } else if (force !== true) {\n      var cell = $(document.getElementById(null)).parents('.cell').data().cell;\n      cell.output_area.append_execute_result(NB_LOAD_WARNING)\n    }\n\n  }\n\n  if (root._bokeh_is_loading === 0) {\n    console.log(\"Bokeh: BokehJS loaded, going straight to plotting\");\n    run_inline_js();\n  } else {\n    load_libs(js_urls, function() {\n      console.log(\"Bokeh: BokehJS plotting callback run at\", now());\n      run_inline_js();\n    });\n  }\n}(window));"
          },
          "metadata": {
            "tags": []
          }
        },
        {
          "output_type": "display_data",
          "data": {
            "text/html": [
              "\n",
              "\n",
              "\n",
              "\n",
              "\n",
              "\n",
              "  <div class=\"bk-root\" id=\"efd52092-c8de-4eb8-b5e7-6a994de6bf41\" data-root-id=\"2928\"></div>\n"
            ]
          },
          "metadata": {
            "tags": []
          }
        },
        {
          "output_type": "display_data",
          "data": {
            "application/javascript": [
              "(function(root) {\n",
              "  function embed_document(root) {\n",
              "    \n",
              "  var docs_json = {\"7ff8d5b7-8ce8-420e-a705-a1a1bb709528\":{\"roots\":{\"references\":[{\"attributes\":{\"below\":[{\"id\":\"2938\",\"type\":\"LinearAxis\"}],\"left\":[{\"id\":\"2943\",\"type\":\"LinearAxis\"}],\"plot_height\":300,\"plot_width\":300,\"renderers\":[{\"id\":\"2938\",\"type\":\"LinearAxis\"},{\"id\":\"2942\",\"type\":\"Grid\"},{\"id\":\"2943\",\"type\":\"LinearAxis\"},{\"id\":\"2947\",\"type\":\"Grid\"},{\"id\":\"2956\",\"type\":\"BoxAnnotation\"},{\"id\":\"2966\",\"type\":\"GlyphRenderer\"}],\"title\":{\"id\":\"2927\",\"type\":\"Title\"},\"toolbar\":{\"id\":\"2954\",\"type\":\"Toolbar\"},\"x_range\":{\"id\":\"2930\",\"type\":\"DataRange1d\"},\"x_scale\":{\"id\":\"2934\",\"type\":\"LinearScale\"},\"y_range\":{\"id\":\"2932\",\"type\":\"DataRange1d\"},\"y_scale\":{\"id\":\"2936\",\"type\":\"LinearScale\"}},\"id\":\"2928\",\"subtype\":\"Figure\",\"type\":\"Plot\"},{\"attributes\":{\"data_source\":{\"id\":\"2963\",\"type\":\"ColumnDataSource\"},\"glyph\":{\"id\":\"2964\",\"type\":\"Line\"},\"hover_glyph\":null,\"muted_glyph\":null,\"nonselection_glyph\":{\"id\":\"2965\",\"type\":\"Line\"},\"selection_glyph\":null,\"view\":{\"id\":\"2967\",\"type\":\"CDSView\"}},\"id\":\"2966\",\"type\":\"GlyphRenderer\"},{\"attributes\":{\"line_color\":\"#A0A0A0\",\"x\":{\"field\":\"x\"},\"y\":{\"field\":\"y\"}},\"id\":\"2964\",\"type\":\"Line\"},{\"attributes\":{},\"id\":\"2948\",\"type\":\"PanTool\"},{\"attributes\":{\"active_drag\":\"auto\",\"active_inspect\":\"auto\",\"active_multi\":null,\"active_scroll\":\"auto\",\"active_tap\":\"auto\",\"tools\":[{\"id\":\"2948\",\"type\":\"PanTool\"},{\"id\":\"2949\",\"type\":\"WheelZoomTool\"},{\"id\":\"2950\",\"type\":\"BoxZoomTool\"},{\"id\":\"2951\",\"type\":\"SaveTool\"},{\"id\":\"2952\",\"type\":\"ResetTool\"},{\"id\":\"2953\",\"type\":\"HelpTool\"}]},\"id\":\"2954\",\"type\":\"Toolbar\"},{\"attributes\":{},\"id\":\"2949\",\"type\":\"WheelZoomTool\"},{\"attributes\":{\"formatter\":{\"id\":\"3077\",\"type\":\"BasicTickFormatter\"},\"plot\":{\"id\":\"2928\",\"subtype\":\"Figure\",\"type\":\"Plot\"},\"ticker\":{\"id\":\"2939\",\"type\":\"BasicTicker\"}},\"id\":\"2938\",\"type\":\"LinearAxis\"},{\"attributes\":{\"overlay\":{\"id\":\"2956\",\"type\":\"BoxAnnotation\"}},\"id\":\"2950\",\"type\":\"BoxZoomTool\"},{\"attributes\":{},\"id\":\"2951\",\"type\":\"SaveTool\"},{\"attributes\":{},\"id\":\"2952\",\"type\":\"ResetTool\"},{\"attributes\":{\"dimension\":1,\"plot\":{\"id\":\"2928\",\"subtype\":\"Figure\",\"type\":\"Plot\"},\"ticker\":{\"id\":\"2944\",\"type\":\"BasicTicker\"}},\"id\":\"2947\",\"type\":\"Grid\"},{\"attributes\":{},\"id\":\"2953\",\"type\":\"HelpTool\"},{\"attributes\":{},\"id\":\"2936\",\"type\":\"LinearScale\"},{\"attributes\":{},\"id\":\"2944\",\"type\":\"BasicTicker\"},{\"attributes\":{\"source\":{\"id\":\"2963\",\"type\":\"ColumnDataSource\"}},\"id\":\"2967\",\"type\":\"CDSView\"},{\"attributes\":{\"callback\":null},\"id\":\"2930\",\"type\":\"DataRange1d\"},{\"attributes\":{\"callback\":null,\"data\":{\"x\":[0,0,1,1,0],\"y\":[0,1,1,0,0]},\"selected\":{\"id\":\"3081\",\"type\":\"Selection\"},\"selection_policy\":{\"id\":\"3080\",\"type\":\"UnionRenderers\"}},\"id\":\"2963\",\"type\":\"ColumnDataSource\"},{\"attributes\":{},\"id\":\"2939\",\"type\":\"BasicTicker\"},{\"attributes\":{\"callback\":null},\"id\":\"2932\",\"type\":\"DataRange1d\"},{\"attributes\":{},\"id\":\"3077\",\"type\":\"BasicTickFormatter\"},{\"attributes\":{},\"id\":\"3080\",\"type\":\"UnionRenderers\"},{\"attributes\":{\"line_alpha\":0.1,\"line_color\":\"#1f77b4\",\"x\":{\"field\":\"x\"},\"y\":{\"field\":\"y\"}},\"id\":\"2965\",\"type\":\"Line\"},{\"attributes\":{\"bottom_units\":\"screen\",\"fill_alpha\":{\"value\":0.5},\"fill_color\":{\"value\":\"lightgrey\"},\"left_units\":\"screen\",\"level\":\"overlay\",\"line_alpha\":{\"value\":1.0},\"line_color\":{\"value\":\"black\"},\"line_dash\":[4,4],\"line_width\":{\"value\":2},\"plot\":null,\"render_mode\":\"css\",\"right_units\":\"screen\",\"top_units\":\"screen\"},\"id\":\"2956\",\"type\":\"BoxAnnotation\"},{\"attributes\":{\"formatter\":{\"id\":\"3075\",\"type\":\"BasicTickFormatter\"},\"plot\":{\"id\":\"2928\",\"subtype\":\"Figure\",\"type\":\"Plot\"},\"ticker\":{\"id\":\"2944\",\"type\":\"BasicTicker\"}},\"id\":\"2943\",\"type\":\"LinearAxis\"},{\"attributes\":{},\"id\":\"2934\",\"type\":\"LinearScale\"},{\"attributes\":{},\"id\":\"3081\",\"type\":\"Selection\"},{\"attributes\":{},\"id\":\"3075\",\"type\":\"BasicTickFormatter\"},{\"attributes\":{\"plot\":null,\"text\":\"Beispiel\"},\"id\":\"2927\",\"type\":\"Title\"},{\"attributes\":{\"plot\":{\"id\":\"2928\",\"subtype\":\"Figure\",\"type\":\"Plot\"},\"ticker\":{\"id\":\"2939\",\"type\":\"BasicTicker\"}},\"id\":\"2942\",\"type\":\"Grid\"}],\"root_ids\":[\"2928\"]},\"title\":\"Bokeh Application\",\"version\":\"1.0.4\"}};\n",
              "  var render_items = [{\"docid\":\"7ff8d5b7-8ce8-420e-a705-a1a1bb709528\",\"roots\":{\"2928\":\"efd52092-c8de-4eb8-b5e7-6a994de6bf41\"}}];\n",
              "  root.Bokeh.embed.embed_items_notebook(docs_json, render_items);\n",
              "\n",
              "  }\n",
              "  if (root.Bokeh !== undefined) {\n",
              "    embed_document(root);\n",
              "  } else {\n",
              "    var attempts = 0;\n",
              "    var timer = setInterval(function(root) {\n",
              "      if (root.Bokeh !== undefined) {\n",
              "        embed_document(root);\n",
              "        clearInterval(timer);\n",
              "      }\n",
              "      attempts++;\n",
              "      if (attempts > 100) {\n",
              "        console.log(\"Bokeh: ERROR: Unable to run BokehJS code because BokehJS library is missing\");\n",
              "        clearInterval(timer);\n",
              "      }\n",
              "    }, 10, root)\n",
              "  }\n",
              "})(window);"
            ],
            "application/vnd.bokehjs_exec.v0+json": ""
          },
          "metadata": {
            "tags": [],
            "application/vnd.bokehjs_exec.v0+json": {
              "id": "2928"
            }
          }
        }
      ]
    },
    {
      "cell_type": "markdown",
      "metadata": {
        "id": "TjCcLTAwoNXu",
        "colab_type": "text"
      },
      "source": [
        "## Visualisierung der Einkommensdaten"
      ]
    },
    {
      "cell_type": "markdown",
      "metadata": {
        "id": "nn0LRzbLspLY",
        "colab_type": "text"
      },
      "source": [
        "Als nächstes reproduzieren wir die Plots aus den Folien. Der erste Plot zeigte den Zusammenhang zwischen Bildung, Einkommen und Geschlecht.\n",
        "\n",
        "Für das Geschlecht haben wir 2 Farben gewählt. Diese müssen wir dem Datensatz noch hinzufügen.\n",
        "\n",
        "Das machen wir mit den folgenden Zeilen:\n",
        "\n",
        "```\n",
        "colormap = {'W': 'green', 'M': 'orange'}\n",
        "colors = [colormap[x] for x in Einkommensdaten['Geschlecht']]\n",
        "Einkommensdaten['Farbe'] = colors\n",
        "source = ColumnDataSource(Einkommensdaten)\n",
        "```\n",
        "\n",
        "Die erste Zeile legt fest, welche Farben wir für W (weiblich) und M (männlich) haben wollen. Die zweite Zeile weist diese Farben jedem Eintrag in dem Datensatz zu und die dritte Zeile erstellt eine neue Spalte namens 'Farbe', in der die Werte gespeichert werden. Die vierte Zeile legt fest, dass der Datensatz *Einkommensdaten* die Datengrundlage für die Visualiserung ist. So kann man deutlich einfacher auf die Daten zugreifen (sieht man bei dem p.circle weiter unten).\n",
        "\n",
        "\n",
        "Die folgenden Zeilen erstellen wieder das \"Blatt\" und legen die Achsenbeschriftung fest.\n",
        "```\n",
        "p = figure(title = \"Gehaltsdaten\")\n",
        "p.xaxis.axis_label = 'Bildung'\n",
        "p.yaxis.axis_label = 'Einkommen'\n",
        "\n",
        "```\n",
        "\n",
        "Als nächsten zeichen wir die Punkte auf. Hier sehen wir auch warum wir die Zeile *source = ColumnDataSource(Einkommensdaten)* oben verwendet haben. Wir können nun einfach die Namen der Spalten angeben:\n",
        "\n",
        "```\n",
        "p.circle(\"Bildung\",      # x-Achse\n",
        "         \"Einkommen\",    # y-Achse\n",
        "         color=\"Farbe\",  # Die Farbe für jeden Punkt\n",
        "         fill_alpha=0.2, # Leicht transparent\n",
        "         size=10,        # 10 Pixel gross\n",
        "         legend=\"Geschlecht\", # Legende ist W und M\n",
        "         source=source) # Datengrundlagen ist die Variable source\n",
        "p.legend.location = \"top_left\" # Die Legende soll in der oberen, linken Ecke sein\n",
        "```\n",
        "\n",
        "Zum Schluss müssen wir das \"Blatt\" noch anzeigen.\n",
        "\n",
        "```\n",
        "show(p)\n",
        "```\n",
        "\n"
      ]
    },
    {
      "cell_type": "code",
      "metadata": {
        "id": "s3d0GPiG9CyZ",
        "colab_type": "code",
        "outputId": "9b7de306-6151-43d1-a5e8-0d51fc785985",
        "colab": {
          "base_uri": "https://localhost:8080/",
          "height": 617
        }
      },
      "source": [
        "colormap = {'W': 'green', 'M': 'orange'}\n",
        "colors = [colormap[x] for x in Einkommensdaten['Geschlecht']]\n",
        "Einkommensdaten['Farbe'] = colors\n",
        "\n",
        "source = ColumnDataSource(Einkommensdaten)\n",
        "\n",
        "p = figure(title = \"Gehaltsdaten\")\n",
        "p.xaxis.axis_label = 'Bildung'\n",
        "p.yaxis.axis_label = 'Einkommen'\n",
        "\n",
        "p.circle(\"Bildung\",\n",
        "         \"Einkommen\",\n",
        "         color=\"Farbe\",\n",
        "         fill_alpha=0.2,\n",
        "         size=10,\n",
        "         legend=\"Geschlecht\",\n",
        "         source=source)\n",
        "p.legend.location = \"top_left\"\n",
        "\n",
        "show(p)"
      ],
      "execution_count": 0,
      "outputs": [
        {
          "output_type": "display_data",
          "data": {
            "application/javascript": [
              "\n",
              "(function(root) {\n",
              "  function now() {\n",
              "    return new Date();\n",
              "  }\n",
              "\n",
              "  var force = true;\n",
              "\n",
              "  if (typeof (root._bokeh_onload_callbacks) === \"undefined\" || force === true) {\n",
              "    root._bokeh_onload_callbacks = [];\n",
              "    root._bokeh_is_loading = undefined;\n",
              "  }\n",
              "\n",
              "  var JS_MIME_TYPE = 'application/javascript';\n",
              "  var HTML_MIME_TYPE = 'text/html';\n",
              "  var EXEC_MIME_TYPE = 'application/vnd.bokehjs_exec.v0+json';\n",
              "  var CLASS_NAME = 'output_bokeh rendered_html';\n",
              "\n",
              "  /**\n",
              "   * Render data to the DOM node\n",
              "   */\n",
              "  function render(props, node) {\n",
              "    var script = document.createElement(\"script\");\n",
              "    node.appendChild(script);\n",
              "  }\n",
              "\n",
              "  /**\n",
              "   * Handle when an output is cleared or removed\n",
              "   */\n",
              "  function handleClearOutput(event, handle) {\n",
              "    var cell = handle.cell;\n",
              "\n",
              "    var id = cell.output_area._bokeh_element_id;\n",
              "    var server_id = cell.output_area._bokeh_server_id;\n",
              "    // Clean up Bokeh references\n",
              "    if (id != null && id in Bokeh.index) {\n",
              "      Bokeh.index[id].model.document.clear();\n",
              "      delete Bokeh.index[id];\n",
              "    }\n",
              "\n",
              "    if (server_id !== undefined) {\n",
              "      // Clean up Bokeh references\n",
              "      var cmd = \"from bokeh.io.state import curstate; print(curstate().uuid_to_server['\" + server_id + \"'].get_sessions()[0].document.roots[0]._id)\";\n",
              "      cell.notebook.kernel.execute(cmd, {\n",
              "        iopub: {\n",
              "          output: function(msg) {\n",
              "            var id = msg.content.text.trim();\n",
              "            if (id in Bokeh.index) {\n",
              "              Bokeh.index[id].model.document.clear();\n",
              "              delete Bokeh.index[id];\n",
              "            }\n",
              "          }\n",
              "        }\n",
              "      });\n",
              "      // Destroy server and session\n",
              "      var cmd = \"import bokeh.io.notebook as ion; ion.destroy_server('\" + server_id + \"')\";\n",
              "      cell.notebook.kernel.execute(cmd);\n",
              "    }\n",
              "  }\n",
              "\n",
              "  /**\n",
              "   * Handle when a new output is added\n",
              "   */\n",
              "  function handleAddOutput(event, handle) {\n",
              "    var output_area = handle.output_area;\n",
              "    var output = handle.output;\n",
              "\n",
              "    // limit handleAddOutput to display_data with EXEC_MIME_TYPE content only\n",
              "    if ((output.output_type != \"display_data\") || (!output.data.hasOwnProperty(EXEC_MIME_TYPE))) {\n",
              "      return\n",
              "    }\n",
              "\n",
              "    var toinsert = output_area.element.find(\".\" + CLASS_NAME.split(' ')[0]);\n",
              "\n",
              "    if (output.metadata[EXEC_MIME_TYPE][\"id\"] !== undefined) {\n",
              "      toinsert[toinsert.length - 1].firstChild.textContent = output.data[JS_MIME_TYPE];\n",
              "      // store reference to embed id on output_area\n",
              "      output_area._bokeh_element_id = output.metadata[EXEC_MIME_TYPE][\"id\"];\n",
              "    }\n",
              "    if (output.metadata[EXEC_MIME_TYPE][\"server_id\"] !== undefined) {\n",
              "      var bk_div = document.createElement(\"div\");\n",
              "      bk_div.innerHTML = output.data[HTML_MIME_TYPE];\n",
              "      var script_attrs = bk_div.children[0].attributes;\n",
              "      for (var i = 0; i < script_attrs.length; i++) {\n",
              "        toinsert[toinsert.length - 1].firstChild.setAttribute(script_attrs[i].name, script_attrs[i].value);\n",
              "      }\n",
              "      // store reference to server id on output_area\n",
              "      output_area._bokeh_server_id = output.metadata[EXEC_MIME_TYPE][\"server_id\"];\n",
              "    }\n",
              "  }\n",
              "\n",
              "  function register_renderer(events, OutputArea) {\n",
              "\n",
              "    function append_mime(data, metadata, element) {\n",
              "      // create a DOM node to render to\n",
              "      var toinsert = this.create_output_subarea(\n",
              "        metadata,\n",
              "        CLASS_NAME,\n",
              "        EXEC_MIME_TYPE\n",
              "      );\n",
              "      this.keyboard_manager.register_events(toinsert);\n",
              "      // Render to node\n",
              "      var props = {data: data, metadata: metadata[EXEC_MIME_TYPE]};\n",
              "      render(props, toinsert[toinsert.length - 1]);\n",
              "      element.append(toinsert);\n",
              "      return toinsert\n",
              "    }\n",
              "\n",
              "    /* Handle when an output is cleared or removed */\n",
              "    events.on('clear_output.CodeCell', handleClearOutput);\n",
              "    events.on('delete.Cell', handleClearOutput);\n",
              "\n",
              "    /* Handle when a new output is added */\n",
              "    events.on('output_added.OutputArea', handleAddOutput);\n",
              "\n",
              "    /**\n",
              "     * Register the mime type and append_mime function with output_area\n",
              "     */\n",
              "    OutputArea.prototype.register_mime_type(EXEC_MIME_TYPE, append_mime, {\n",
              "      /* Is output safe? */\n",
              "      safe: true,\n",
              "      /* Index of renderer in `output_area.display_order` */\n",
              "      index: 0\n",
              "    });\n",
              "  }\n",
              "\n",
              "  // register the mime type if in Jupyter Notebook environment and previously unregistered\n",
              "  if (root.Jupyter !== undefined) {\n",
              "    var events = require('base/js/events');\n",
              "    var OutputArea = require('notebook/js/outputarea').OutputArea;\n",
              "\n",
              "    if (OutputArea.prototype.mime_types().indexOf(EXEC_MIME_TYPE) == -1) {\n",
              "      register_renderer(events, OutputArea);\n",
              "    }\n",
              "  }\n",
              "\n",
              "  \n",
              "  if (typeof (root._bokeh_timeout) === \"undefined\" || force === true) {\n",
              "    root._bokeh_timeout = Date.now() + 5000;\n",
              "    root._bokeh_failed_load = false;\n",
              "  }\n",
              "\n",
              "  var NB_LOAD_WARNING = {'data': {'text/html':\n",
              "     \"<div style='background-color: #fdd'>\\n\"+\n",
              "     \"<p>\\n\"+\n",
              "     \"BokehJS does not appear to have successfully loaded. If loading BokehJS from CDN, this \\n\"+\n",
              "     \"may be due to a slow or bad network connection. Possible fixes:\\n\"+\n",
              "     \"</p>\\n\"+\n",
              "     \"<ul>\\n\"+\n",
              "     \"<li>re-rerun `output_notebook()` to attempt to load from CDN again, or</li>\\n\"+\n",
              "     \"<li>use INLINE resources instead, as so:</li>\\n\"+\n",
              "     \"</ul>\\n\"+\n",
              "     \"<code>\\n\"+\n",
              "     \"from bokeh.resources import INLINE\\n\"+\n",
              "     \"output_notebook(resources=INLINE)\\n\"+\n",
              "     \"</code>\\n\"+\n",
              "     \"</div>\"}};\n",
              "\n",
              "  function display_loaded() {\n",
              "    var el = document.getElementById(null);\n",
              "    if (el != null) {\n",
              "      el.textContent = \"BokehJS is loading...\";\n",
              "    }\n",
              "    if (root.Bokeh !== undefined) {\n",
              "      if (el != null) {\n",
              "        el.textContent = \"BokehJS \" + root.Bokeh.version + \" successfully loaded.\";\n",
              "      }\n",
              "    } else if (Date.now() < root._bokeh_timeout) {\n",
              "      setTimeout(display_loaded, 100)\n",
              "    }\n",
              "  }\n",
              "\n",
              "\n",
              "  function run_callbacks() {\n",
              "    try {\n",
              "      root._bokeh_onload_callbacks.forEach(function(callback) { callback() });\n",
              "    }\n",
              "    finally {\n",
              "      delete root._bokeh_onload_callbacks\n",
              "    }\n",
              "    console.info(\"Bokeh: all callbacks have finished\");\n",
              "  }\n",
              "\n",
              "  function load_libs(js_urls, callback) {\n",
              "    root._bokeh_onload_callbacks.push(callback);\n",
              "    if (root._bokeh_is_loading > 0) {\n",
              "      console.log(\"Bokeh: BokehJS is being loaded, scheduling callback at\", now());\n",
              "      return null;\n",
              "    }\n",
              "    if (js_urls == null || js_urls.length === 0) {\n",
              "      run_callbacks();\n",
              "      return null;\n",
              "    }\n",
              "    console.log(\"Bokeh: BokehJS not loaded, scheduling load and callback at\", now());\n",
              "    root._bokeh_is_loading = js_urls.length;\n",
              "    for (var i = 0; i < js_urls.length; i++) {\n",
              "      var url = js_urls[i];\n",
              "      var s = document.createElement('script');\n",
              "      s.src = url;\n",
              "      s.async = false;\n",
              "      s.onreadystatechange = s.onload = function() {\n",
              "        root._bokeh_is_loading--;\n",
              "        if (root._bokeh_is_loading === 0) {\n",
              "          console.log(\"Bokeh: all BokehJS libraries loaded\");\n",
              "          run_callbacks()\n",
              "        }\n",
              "      };\n",
              "      s.onerror = function() {\n",
              "        console.warn(\"failed to load library \" + url);\n",
              "      };\n",
              "      console.log(\"Bokeh: injecting script tag for BokehJS library: \", url);\n",
              "      document.getElementsByTagName(\"head\")[0].appendChild(s);\n",
              "    }\n",
              "  };\n",
              "\n",
              "  var js_urls = [\"https://cdn.pydata.org/bokeh/release/bokeh-1.0.4.min.js\", \"https://cdn.pydata.org/bokeh/release/bokeh-widgets-1.0.4.min.js\", \"https://cdn.pydata.org/bokeh/release/bokeh-tables-1.0.4.min.js\", \"https://cdn.pydata.org/bokeh/release/bokeh-gl-1.0.4.min.js\"];\n",
              "\n",
              "  var inline_js = [\n",
              "    function(Bokeh) {\n",
              "      Bokeh.set_log_level(\"info\");\n",
              "    },\n",
              "    \n",
              "    function(Bokeh) {\n",
              "      \n",
              "    },\n",
              "    function(Bokeh) {\n",
              "      console.log(\"Bokeh: injecting CSS: https://cdn.pydata.org/bokeh/release/bokeh-1.0.4.min.css\");\n",
              "      Bokeh.embed.inject_css(\"https://cdn.pydata.org/bokeh/release/bokeh-1.0.4.min.css\");\n",
              "      console.log(\"Bokeh: injecting CSS: https://cdn.pydata.org/bokeh/release/bokeh-widgets-1.0.4.min.css\");\n",
              "      Bokeh.embed.inject_css(\"https://cdn.pydata.org/bokeh/release/bokeh-widgets-1.0.4.min.css\");\n",
              "      console.log(\"Bokeh: injecting CSS: https://cdn.pydata.org/bokeh/release/bokeh-tables-1.0.4.min.css\");\n",
              "      Bokeh.embed.inject_css(\"https://cdn.pydata.org/bokeh/release/bokeh-tables-1.0.4.min.css\");\n",
              "    }\n",
              "  ];\n",
              "\n",
              "  function run_inline_js() {\n",
              "    \n",
              "    if ((root.Bokeh !== undefined) || (force === true)) {\n",
              "      for (var i = 0; i < inline_js.length; i++) {\n",
              "        inline_js[i].call(root, root.Bokeh);\n",
              "      }} else if (Date.now() < root._bokeh_timeout) {\n",
              "      setTimeout(run_inline_js, 100);\n",
              "    } else if (!root._bokeh_failed_load) {\n",
              "      console.log(\"Bokeh: BokehJS failed to load within specified timeout.\");\n",
              "      root._bokeh_failed_load = true;\n",
              "    } else if (force !== true) {\n",
              "      var cell = $(document.getElementById(null)).parents('.cell').data().cell;\n",
              "      cell.output_area.append_execute_result(NB_LOAD_WARNING)\n",
              "    }\n",
              "\n",
              "  }\n",
              "\n",
              "  if (root._bokeh_is_loading === 0) {\n",
              "    console.log(\"Bokeh: BokehJS loaded, going straight to plotting\");\n",
              "    run_inline_js();\n",
              "  } else {\n",
              "    load_libs(js_urls, function() {\n",
              "      console.log(\"Bokeh: BokehJS plotting callback run at\", now());\n",
              "      run_inline_js();\n",
              "    });\n",
              "  }\n",
              "}(window));"
            ],
            "application/vnd.bokehjs_load.v0+json": "\n(function(root) {\n  function now() {\n    return new Date();\n  }\n\n  var force = true;\n\n  if (typeof (root._bokeh_onload_callbacks) === \"undefined\" || force === true) {\n    root._bokeh_onload_callbacks = [];\n    root._bokeh_is_loading = undefined;\n  }\n\n  \n\n  \n  if (typeof (root._bokeh_timeout) === \"undefined\" || force === true) {\n    root._bokeh_timeout = Date.now() + 5000;\n    root._bokeh_failed_load = false;\n  }\n\n  var NB_LOAD_WARNING = {'data': {'text/html':\n     \"<div style='background-color: #fdd'>\\n\"+\n     \"<p>\\n\"+\n     \"BokehJS does not appear to have successfully loaded. If loading BokehJS from CDN, this \\n\"+\n     \"may be due to a slow or bad network connection. Possible fixes:\\n\"+\n     \"</p>\\n\"+\n     \"<ul>\\n\"+\n     \"<li>re-rerun `output_notebook()` to attempt to load from CDN again, or</li>\\n\"+\n     \"<li>use INLINE resources instead, as so:</li>\\n\"+\n     \"</ul>\\n\"+\n     \"<code>\\n\"+\n     \"from bokeh.resources import INLINE\\n\"+\n     \"output_notebook(resources=INLINE)\\n\"+\n     \"</code>\\n\"+\n     \"</div>\"}};\n\n  function display_loaded() {\n    var el = document.getElementById(null);\n    if (el != null) {\n      el.textContent = \"BokehJS is loading...\";\n    }\n    if (root.Bokeh !== undefined) {\n      if (el != null) {\n        el.textContent = \"BokehJS \" + root.Bokeh.version + \" successfully loaded.\";\n      }\n    } else if (Date.now() < root._bokeh_timeout) {\n      setTimeout(display_loaded, 100)\n    }\n  }\n\n\n  function run_callbacks() {\n    try {\n      root._bokeh_onload_callbacks.forEach(function(callback) { callback() });\n    }\n    finally {\n      delete root._bokeh_onload_callbacks\n    }\n    console.info(\"Bokeh: all callbacks have finished\");\n  }\n\n  function load_libs(js_urls, callback) {\n    root._bokeh_onload_callbacks.push(callback);\n    if (root._bokeh_is_loading > 0) {\n      console.log(\"Bokeh: BokehJS is being loaded, scheduling callback at\", now());\n      return null;\n    }\n    if (js_urls == null || js_urls.length === 0) {\n      run_callbacks();\n      return null;\n    }\n    console.log(\"Bokeh: BokehJS not loaded, scheduling load and callback at\", now());\n    root._bokeh_is_loading = js_urls.length;\n    for (var i = 0; i < js_urls.length; i++) {\n      var url = js_urls[i];\n      var s = document.createElement('script');\n      s.src = url;\n      s.async = false;\n      s.onreadystatechange = s.onload = function() {\n        root._bokeh_is_loading--;\n        if (root._bokeh_is_loading === 0) {\n          console.log(\"Bokeh: all BokehJS libraries loaded\");\n          run_callbacks()\n        }\n      };\n      s.onerror = function() {\n        console.warn(\"failed to load library \" + url);\n      };\n      console.log(\"Bokeh: injecting script tag for BokehJS library: \", url);\n      document.getElementsByTagName(\"head\")[0].appendChild(s);\n    }\n  };\n\n  var js_urls = [\"https://cdn.pydata.org/bokeh/release/bokeh-1.0.4.min.js\", \"https://cdn.pydata.org/bokeh/release/bokeh-widgets-1.0.4.min.js\", \"https://cdn.pydata.org/bokeh/release/bokeh-tables-1.0.4.min.js\", \"https://cdn.pydata.org/bokeh/release/bokeh-gl-1.0.4.min.js\"];\n\n  var inline_js = [\n    function(Bokeh) {\n      Bokeh.set_log_level(\"info\");\n    },\n    \n    function(Bokeh) {\n      \n    },\n    function(Bokeh) {\n      console.log(\"Bokeh: injecting CSS: https://cdn.pydata.org/bokeh/release/bokeh-1.0.4.min.css\");\n      Bokeh.embed.inject_css(\"https://cdn.pydata.org/bokeh/release/bokeh-1.0.4.min.css\");\n      console.log(\"Bokeh: injecting CSS: https://cdn.pydata.org/bokeh/release/bokeh-widgets-1.0.4.min.css\");\n      Bokeh.embed.inject_css(\"https://cdn.pydata.org/bokeh/release/bokeh-widgets-1.0.4.min.css\");\n      console.log(\"Bokeh: injecting CSS: https://cdn.pydata.org/bokeh/release/bokeh-tables-1.0.4.min.css\");\n      Bokeh.embed.inject_css(\"https://cdn.pydata.org/bokeh/release/bokeh-tables-1.0.4.min.css\");\n    }\n  ];\n\n  function run_inline_js() {\n    \n    if ((root.Bokeh !== undefined) || (force === true)) {\n      for (var i = 0; i < inline_js.length; i++) {\n        inline_js[i].call(root, root.Bokeh);\n      }} else if (Date.now() < root._bokeh_timeout) {\n      setTimeout(run_inline_js, 100);\n    } else if (!root._bokeh_failed_load) {\n      console.log(\"Bokeh: BokehJS failed to load within specified timeout.\");\n      root._bokeh_failed_load = true;\n    } else if (force !== true) {\n      var cell = $(document.getElementById(null)).parents('.cell').data().cell;\n      cell.output_area.append_execute_result(NB_LOAD_WARNING)\n    }\n\n  }\n\n  if (root._bokeh_is_loading === 0) {\n    console.log(\"Bokeh: BokehJS loaded, going straight to plotting\");\n    run_inline_js();\n  } else {\n    load_libs(js_urls, function() {\n      console.log(\"Bokeh: BokehJS plotting callback run at\", now());\n      run_inline_js();\n    });\n  }\n}(window));"
          },
          "metadata": {
            "tags": []
          }
        },
        {
          "output_type": "display_data",
          "data": {
            "text/html": [
              "\n",
              "\n",
              "\n",
              "\n",
              "\n",
              "\n",
              "  <div class=\"bk-root\" id=\"02b39af4-8921-467e-acc8-eda23fd4c2d0\" data-root-id=\"3132\"></div>\n"
            ]
          },
          "metadata": {
            "tags": []
          }
        },
        {
          "output_type": "display_data",
          "data": {
            "application/javascript": [
              "(function(root) {\n",
              "  function embed_document(root) {\n",
              "    \n",
              "  var docs_json = {\"cc711dcd-7a79-4328-b36d-9528a7c32e8e\":{\"roots\":{\"references\":[{\"attributes\":{\"below\":[{\"id\":\"3142\",\"type\":\"LinearAxis\"}],\"left\":[{\"id\":\"3147\",\"type\":\"LinearAxis\"}],\"renderers\":[{\"id\":\"3142\",\"type\":\"LinearAxis\"},{\"id\":\"3146\",\"type\":\"Grid\"},{\"id\":\"3147\",\"type\":\"LinearAxis\"},{\"id\":\"3151\",\"type\":\"Grid\"},{\"id\":\"3160\",\"type\":\"BoxAnnotation\"},{\"id\":\"3178\",\"type\":\"Legend\"},{\"id\":\"3170\",\"type\":\"GlyphRenderer\"}],\"title\":{\"id\":\"3131\",\"type\":\"Title\"},\"toolbar\":{\"id\":\"3158\",\"type\":\"Toolbar\"},\"x_range\":{\"id\":\"3134\",\"type\":\"DataRange1d\"},\"x_scale\":{\"id\":\"3138\",\"type\":\"LinearScale\"},\"y_range\":{\"id\":\"3136\",\"type\":\"DataRange1d\"},\"y_scale\":{\"id\":\"3140\",\"type\":\"LinearScale\"}},\"id\":\"3132\",\"subtype\":\"Figure\",\"type\":\"Plot\"},{\"attributes\":{},\"id\":\"3138\",\"type\":\"LinearScale\"},{\"attributes\":{\"overlay\":{\"id\":\"3160\",\"type\":\"BoxAnnotation\"}},\"id\":\"3154\",\"type\":\"BoxZoomTool\"},{\"attributes\":{},\"id\":\"3301\",\"type\":\"Selection\"},{\"attributes\":{},\"id\":\"3156\",\"type\":\"ResetTool\"},{\"attributes\":{},\"id\":\"3157\",\"type\":\"HelpTool\"},{\"attributes\":{\"callback\":null},\"id\":\"3136\",\"type\":\"DataRange1d\"},{\"attributes\":{\"bottom_units\":\"screen\",\"fill_alpha\":{\"value\":0.5},\"fill_color\":{\"value\":\"lightgrey\"},\"left_units\":\"screen\",\"level\":\"overlay\",\"line_alpha\":{\"value\":1.0},\"line_color\":{\"value\":\"black\"},\"line_dash\":[4,4],\"line_width\":{\"value\":2},\"plot\":null,\"render_mode\":\"css\",\"right_units\":\"screen\",\"top_units\":\"screen\"},\"id\":\"3160\",\"type\":\"BoxAnnotation\"},{\"attributes\":{\"callback\":null},\"id\":\"3134\",\"type\":\"DataRange1d\"},{\"attributes\":{\"data_source\":{\"id\":\"3130\",\"type\":\"ColumnDataSource\"},\"glyph\":{\"id\":\"3168\",\"type\":\"Circle\"},\"hover_glyph\":null,\"muted_glyph\":null,\"nonselection_glyph\":{\"id\":\"3169\",\"type\":\"Circle\"},\"selection_glyph\":null,\"view\":{\"id\":\"3171\",\"type\":\"CDSView\"}},\"id\":\"3170\",\"type\":\"GlyphRenderer\"},{\"attributes\":{\"source\":{\"id\":\"3130\",\"type\":\"ColumnDataSource\"}},\"id\":\"3171\",\"type\":\"CDSView\"},{\"attributes\":{\"plot\":null,\"text\":\"Gehaltsdaten\"},\"id\":\"3131\",\"type\":\"Title\"},{\"attributes\":{},\"id\":\"3140\",\"type\":\"LinearScale\"},{\"attributes\":{},\"id\":\"3175\",\"type\":\"BasicTickFormatter\"},{\"attributes\":{\"axis_label\":\"Bildung\",\"formatter\":{\"id\":\"3175\",\"type\":\"BasicTickFormatter\"},\"plot\":{\"id\":\"3132\",\"subtype\":\"Figure\",\"type\":\"Plot\"},\"ticker\":{\"id\":\"3143\",\"type\":\"BasicTicker\"}},\"id\":\"3142\",\"type\":\"LinearAxis\"},{\"attributes\":{\"items\":[{\"id\":\"3179\",\"type\":\"LegendItem\"}],\"location\":\"top_left\",\"plot\":{\"id\":\"3132\",\"subtype\":\"Figure\",\"type\":\"Plot\"}},\"id\":\"3178\",\"type\":\"Legend\"},{\"attributes\":{},\"id\":\"3173\",\"type\":\"BasicTickFormatter\"},{\"attributes\":{},\"id\":\"3143\",\"type\":\"BasicTicker\"},{\"attributes\":{\"label\":{\"field\":\"Geschlecht\"},\"renderers\":[{\"id\":\"3170\",\"type\":\"GlyphRenderer\"}]},\"id\":\"3179\",\"type\":\"LegendItem\"},{\"attributes\":{\"plot\":{\"id\":\"3132\",\"subtype\":\"Figure\",\"type\":\"Plot\"},\"ticker\":{\"id\":\"3143\",\"type\":\"BasicTicker\"}},\"id\":\"3146\",\"type\":\"Grid\"},{\"attributes\":{},\"id\":\"3300\",\"type\":\"UnionRenderers\"},{\"attributes\":{\"axis_label\":\"Einkommen\",\"formatter\":{\"id\":\"3173\",\"type\":\"BasicTickFormatter\"},\"plot\":{\"id\":\"3132\",\"subtype\":\"Figure\",\"type\":\"Plot\"},\"ticker\":{\"id\":\"3148\",\"type\":\"BasicTicker\"}},\"id\":\"3147\",\"type\":\"LinearAxis\"},{\"attributes\":{\"callback\":null,\"data\":{\"Arbeitserfahrung\":{\"__ndarray__\":\"DgAAAA8AAAANAAAAFwAAAAMAAAADAAAAEwAAAAoAAAALAAAADgAAAAYAAAASAAAAAwAAAAwAAAAXAAAADAAAAAMAAAAGAAAAFgAAABcAAAANAAAAEQAAAAwAAAAEAAAAAwAAAAYAAAAVAAAABwAAAAQAAAANAAAA\",\"dtype\":\"int32\",\"shape\":[30]},\"Bildung\":{\"__ndarray__\":\"FgAAABIAAAAMAAAAEQAAABQAAAASAAAAFAAAABUAAAAUAAAACgAAAA4AAAATAAAADAAAABEAAAAKAAAAFAAAAA4AAAARAAAAEQAAABQAAAASAAAADwAAABEAAAAKAAAAFgAAAAsAAAAUAAAADAAAAAwAAAARAAAA\",\"dtype\":\"int32\",\"shape\":[30]},\"Einkommen\":{\"__ndarray__\":\"ZAAAAF0AAAAjAAAATwAAAEQAAABIAAAAWAAAAFAAAABaAAAALgAAACAAAABgAAAAHAAAAEMAAAAqAAAAWQAAAB0AAAA6AAAARgAAAGMAAABLAAAANgAAAEgAAAATAAAATwAAABUAAABbAAAAFwAAABIAAABLAAAA\",\"dtype\":\"int32\",\"shape\":[30]},\"Farbe\":[\"green\",\"green\",\"orange\",\"green\",\"green\",\"green\",\"green\",\"green\",\"green\",\"orange\",\"orange\",\"orange\",\"green\",\"green\",\"green\",\"orange\",\"orange\",\"orange\",\"orange\",\"green\",\"green\",\"orange\",\"orange\",\"green\",\"orange\",\"orange\",\"green\",\"green\",\"orange\",\"green\"],\"Geschlecht\":[\"W\",\"W\",\"M\",\"W\",\"W\",\"W\",\"W\",\"W\",\"W\",\"M\",\"M\",\"M\",\"W\",\"W\",\"W\",\"M\",\"M\",\"M\",\"M\",\"W\",\"W\",\"M\",\"M\",\"W\",\"M\",\"M\",\"W\",\"W\",\"M\",\"W\"],\"Haarlaenge\":{\"__ndarray__\":\"FAAAABkAAAACAAAAAwAAAA8AAAAuAAAAIQAAABUAAAAcAAAACgAAAAYAAAAGAAAADAAAABIAAAAnAAAAEAAAAAkAAAAjAAAAFgAAABcAAAAiAAAAEAAAAAMAAAARAAAABQAAAAEAAAATAAAAGgAAABIAAAAYAAAA\",\"dtype\":\"int32\",\"shape\":[30]},\"Person\":{\"__ndarray__\":\"AQAAAAIAAAADAAAABAAAAAUAAAAGAAAABwAAAAgAAAAJAAAACgAAAAsAAAAMAAAADQAAAA4AAAAPAAAAEAAAABEAAAASAAAAEwAAABQAAAAVAAAAFgAAABcAAAAYAAAAGQAAABoAAAAbAAAAHAAAAB0AAAAeAAAA\",\"dtype\":\"int32\",\"shape\":[30]},\"index\":[0,1,2,3,4,5,6,7,8,9,10,11,12,13,14,15,16,17,18,19,20,21,22,23,24,25,26,27,28,29]},\"selected\":{\"id\":\"3301\",\"type\":\"Selection\"},\"selection_policy\":{\"id\":\"3300\",\"type\":\"UnionRenderers\"}},\"id\":\"3130\",\"type\":\"ColumnDataSource\"},{\"attributes\":{},\"id\":\"3148\",\"type\":\"BasicTicker\"},{\"attributes\":{\"dimension\":1,\"plot\":{\"id\":\"3132\",\"subtype\":\"Figure\",\"type\":\"Plot\"},\"ticker\":{\"id\":\"3148\",\"type\":\"BasicTicker\"}},\"id\":\"3151\",\"type\":\"Grid\"},{\"attributes\":{\"fill_alpha\":{\"value\":0.1},\"fill_color\":{\"value\":\"#1f77b4\"},\"line_alpha\":{\"value\":0.1},\"line_color\":{\"value\":\"#1f77b4\"},\"size\":{\"units\":\"screen\",\"value\":10},\"x\":{\"field\":\"Bildung\"},\"y\":{\"field\":\"Einkommen\"}},\"id\":\"3169\",\"type\":\"Circle\"},{\"attributes\":{},\"id\":\"3155\",\"type\":\"SaveTool\"},{\"attributes\":{\"fill_alpha\":{\"value\":0.2},\"fill_color\":{\"field\":\"Farbe\"},\"line_color\":{\"field\":\"Farbe\"},\"size\":{\"units\":\"screen\",\"value\":10},\"x\":{\"field\":\"Bildung\"},\"y\":{\"field\":\"Einkommen\"}},\"id\":\"3168\",\"type\":\"Circle\"},{\"attributes\":{\"active_drag\":\"auto\",\"active_inspect\":\"auto\",\"active_multi\":null,\"active_scroll\":\"auto\",\"active_tap\":\"auto\",\"tools\":[{\"id\":\"3152\",\"type\":\"PanTool\"},{\"id\":\"3153\",\"type\":\"WheelZoomTool\"},{\"id\":\"3154\",\"type\":\"BoxZoomTool\"},{\"id\":\"3155\",\"type\":\"SaveTool\"},{\"id\":\"3156\",\"type\":\"ResetTool\"},{\"id\":\"3157\",\"type\":\"HelpTool\"}]},\"id\":\"3158\",\"type\":\"Toolbar\"},{\"attributes\":{},\"id\":\"3152\",\"type\":\"PanTool\"},{\"attributes\":{},\"id\":\"3153\",\"type\":\"WheelZoomTool\"}],\"root_ids\":[\"3132\"]},\"title\":\"Bokeh Application\",\"version\":\"1.0.4\"}};\n",
              "  var render_items = [{\"docid\":\"cc711dcd-7a79-4328-b36d-9528a7c32e8e\",\"roots\":{\"3132\":\"02b39af4-8921-467e-acc8-eda23fd4c2d0\"}}];\n",
              "  root.Bokeh.embed.embed_items_notebook(docs_json, render_items);\n",
              "\n",
              "  }\n",
              "  if (root.Bokeh !== undefined) {\n",
              "    embed_document(root);\n",
              "  } else {\n",
              "    var attempts = 0;\n",
              "    var timer = setInterval(function(root) {\n",
              "      if (root.Bokeh !== undefined) {\n",
              "        embed_document(root);\n",
              "        clearInterval(timer);\n",
              "      }\n",
              "      attempts++;\n",
              "      if (attempts > 100) {\n",
              "        console.log(\"Bokeh: ERROR: Unable to run BokehJS code because BokehJS library is missing\");\n",
              "        clearInterval(timer);\n",
              "      }\n",
              "    }, 10, root)\n",
              "  }\n",
              "})(window);"
            ],
            "application/vnd.bokehjs_exec.v0+json": ""
          },
          "metadata": {
            "tags": [],
            "application/vnd.bokehjs_exec.v0+json": {
              "id": "3132"
            }
          }
        }
      ]
    },
    {
      "cell_type": "markdown",
      "metadata": {
        "id": "xO158zCkwsES",
        "colab_type": "text"
      },
      "source": [
        "In der folgenden Zelle können Sie unterschiedliche Zusammenhänge ausprobiern, z.B. könnten Sie sich anschauen, wie sich das Gehalt zur Haarlänge verhält."
      ]
    },
    {
      "cell_type": "code",
      "metadata": {
        "id": "K7RaatoMNzeI",
        "colab_type": "code",
        "outputId": "ae925a2c-fec9-4224-a219-94695d2829f2",
        "colab": {
          "base_uri": "https://localhost:8080/",
          "height": 617
        }
      },
      "source": [
        "colormap = {'W': 'green', 'M': 'orange'}\n",
        "colors = [colormap[x] for x in Einkommensdaten['Geschlecht']]\n",
        "Einkommensdaten['Farbe'] = colors\n",
        "\n",
        "source = ColumnDataSource(Einkommensdaten)\n",
        "\n",
        "p = figure(title = \"Gehaltsdaten\")\n",
        "p.xaxis.axis_label = 'Bildung'\n",
        "p.yaxis.axis_label = 'Einkommen'\n",
        "\n",
        "p.circle(\"Bildung\",\n",
        "         'Einkommen',\n",
        "         color=\"Farbe\",\n",
        "         fill_alpha=0.2,\n",
        "         size=10,\n",
        "         legend=\"Geschlecht\",\n",
        "         source=source)\n",
        "p.legend.location = \"top_left\"\n",
        "\n",
        "show(p)"
      ],
      "execution_count": 0,
      "outputs": [
        {
          "output_type": "display_data",
          "data": {
            "application/javascript": [
              "\n",
              "(function(root) {\n",
              "  function now() {\n",
              "    return new Date();\n",
              "  }\n",
              "\n",
              "  var force = true;\n",
              "\n",
              "  if (typeof (root._bokeh_onload_callbacks) === \"undefined\" || force === true) {\n",
              "    root._bokeh_onload_callbacks = [];\n",
              "    root._bokeh_is_loading = undefined;\n",
              "  }\n",
              "\n",
              "  var JS_MIME_TYPE = 'application/javascript';\n",
              "  var HTML_MIME_TYPE = 'text/html';\n",
              "  var EXEC_MIME_TYPE = 'application/vnd.bokehjs_exec.v0+json';\n",
              "  var CLASS_NAME = 'output_bokeh rendered_html';\n",
              "\n",
              "  /**\n",
              "   * Render data to the DOM node\n",
              "   */\n",
              "  function render(props, node) {\n",
              "    var script = document.createElement(\"script\");\n",
              "    node.appendChild(script);\n",
              "  }\n",
              "\n",
              "  /**\n",
              "   * Handle when an output is cleared or removed\n",
              "   */\n",
              "  function handleClearOutput(event, handle) {\n",
              "    var cell = handle.cell;\n",
              "\n",
              "    var id = cell.output_area._bokeh_element_id;\n",
              "    var server_id = cell.output_area._bokeh_server_id;\n",
              "    // Clean up Bokeh references\n",
              "    if (id != null && id in Bokeh.index) {\n",
              "      Bokeh.index[id].model.document.clear();\n",
              "      delete Bokeh.index[id];\n",
              "    }\n",
              "\n",
              "    if (server_id !== undefined) {\n",
              "      // Clean up Bokeh references\n",
              "      var cmd = \"from bokeh.io.state import curstate; print(curstate().uuid_to_server['\" + server_id + \"'].get_sessions()[0].document.roots[0]._id)\";\n",
              "      cell.notebook.kernel.execute(cmd, {\n",
              "        iopub: {\n",
              "          output: function(msg) {\n",
              "            var id = msg.content.text.trim();\n",
              "            if (id in Bokeh.index) {\n",
              "              Bokeh.index[id].model.document.clear();\n",
              "              delete Bokeh.index[id];\n",
              "            }\n",
              "          }\n",
              "        }\n",
              "      });\n",
              "      // Destroy server and session\n",
              "      var cmd = \"import bokeh.io.notebook as ion; ion.destroy_server('\" + server_id + \"')\";\n",
              "      cell.notebook.kernel.execute(cmd);\n",
              "    }\n",
              "  }\n",
              "\n",
              "  /**\n",
              "   * Handle when a new output is added\n",
              "   */\n",
              "  function handleAddOutput(event, handle) {\n",
              "    var output_area = handle.output_area;\n",
              "    var output = handle.output;\n",
              "\n",
              "    // limit handleAddOutput to display_data with EXEC_MIME_TYPE content only\n",
              "    if ((output.output_type != \"display_data\") || (!output.data.hasOwnProperty(EXEC_MIME_TYPE))) {\n",
              "      return\n",
              "    }\n",
              "\n",
              "    var toinsert = output_area.element.find(\".\" + CLASS_NAME.split(' ')[0]);\n",
              "\n",
              "    if (output.metadata[EXEC_MIME_TYPE][\"id\"] !== undefined) {\n",
              "      toinsert[toinsert.length - 1].firstChild.textContent = output.data[JS_MIME_TYPE];\n",
              "      // store reference to embed id on output_area\n",
              "      output_area._bokeh_element_id = output.metadata[EXEC_MIME_TYPE][\"id\"];\n",
              "    }\n",
              "    if (output.metadata[EXEC_MIME_TYPE][\"server_id\"] !== undefined) {\n",
              "      var bk_div = document.createElement(\"div\");\n",
              "      bk_div.innerHTML = output.data[HTML_MIME_TYPE];\n",
              "      var script_attrs = bk_div.children[0].attributes;\n",
              "      for (var i = 0; i < script_attrs.length; i++) {\n",
              "        toinsert[toinsert.length - 1].firstChild.setAttribute(script_attrs[i].name, script_attrs[i].value);\n",
              "      }\n",
              "      // store reference to server id on output_area\n",
              "      output_area._bokeh_server_id = output.metadata[EXEC_MIME_TYPE][\"server_id\"];\n",
              "    }\n",
              "  }\n",
              "\n",
              "  function register_renderer(events, OutputArea) {\n",
              "\n",
              "    function append_mime(data, metadata, element) {\n",
              "      // create a DOM node to render to\n",
              "      var toinsert = this.create_output_subarea(\n",
              "        metadata,\n",
              "        CLASS_NAME,\n",
              "        EXEC_MIME_TYPE\n",
              "      );\n",
              "      this.keyboard_manager.register_events(toinsert);\n",
              "      // Render to node\n",
              "      var props = {data: data, metadata: metadata[EXEC_MIME_TYPE]};\n",
              "      render(props, toinsert[toinsert.length - 1]);\n",
              "      element.append(toinsert);\n",
              "      return toinsert\n",
              "    }\n",
              "\n",
              "    /* Handle when an output is cleared or removed */\n",
              "    events.on('clear_output.CodeCell', handleClearOutput);\n",
              "    events.on('delete.Cell', handleClearOutput);\n",
              "\n",
              "    /* Handle when a new output is added */\n",
              "    events.on('output_added.OutputArea', handleAddOutput);\n",
              "\n",
              "    /**\n",
              "     * Register the mime type and append_mime function with output_area\n",
              "     */\n",
              "    OutputArea.prototype.register_mime_type(EXEC_MIME_TYPE, append_mime, {\n",
              "      /* Is output safe? */\n",
              "      safe: true,\n",
              "      /* Index of renderer in `output_area.display_order` */\n",
              "      index: 0\n",
              "    });\n",
              "  }\n",
              "\n",
              "  // register the mime type if in Jupyter Notebook environment and previously unregistered\n",
              "  if (root.Jupyter !== undefined) {\n",
              "    var events = require('base/js/events');\n",
              "    var OutputArea = require('notebook/js/outputarea').OutputArea;\n",
              "\n",
              "    if (OutputArea.prototype.mime_types().indexOf(EXEC_MIME_TYPE) == -1) {\n",
              "      register_renderer(events, OutputArea);\n",
              "    }\n",
              "  }\n",
              "\n",
              "  \n",
              "  if (typeof (root._bokeh_timeout) === \"undefined\" || force === true) {\n",
              "    root._bokeh_timeout = Date.now() + 5000;\n",
              "    root._bokeh_failed_load = false;\n",
              "  }\n",
              "\n",
              "  var NB_LOAD_WARNING = {'data': {'text/html':\n",
              "     \"<div style='background-color: #fdd'>\\n\"+\n",
              "     \"<p>\\n\"+\n",
              "     \"BokehJS does not appear to have successfully loaded. If loading BokehJS from CDN, this \\n\"+\n",
              "     \"may be due to a slow or bad network connection. Possible fixes:\\n\"+\n",
              "     \"</p>\\n\"+\n",
              "     \"<ul>\\n\"+\n",
              "     \"<li>re-rerun `output_notebook()` to attempt to load from CDN again, or</li>\\n\"+\n",
              "     \"<li>use INLINE resources instead, as so:</li>\\n\"+\n",
              "     \"</ul>\\n\"+\n",
              "     \"<code>\\n\"+\n",
              "     \"from bokeh.resources import INLINE\\n\"+\n",
              "     \"output_notebook(resources=INLINE)\\n\"+\n",
              "     \"</code>\\n\"+\n",
              "     \"</div>\"}};\n",
              "\n",
              "  function display_loaded() {\n",
              "    var el = document.getElementById(null);\n",
              "    if (el != null) {\n",
              "      el.textContent = \"BokehJS is loading...\";\n",
              "    }\n",
              "    if (root.Bokeh !== undefined) {\n",
              "      if (el != null) {\n",
              "        el.textContent = \"BokehJS \" + root.Bokeh.version + \" successfully loaded.\";\n",
              "      }\n",
              "    } else if (Date.now() < root._bokeh_timeout) {\n",
              "      setTimeout(display_loaded, 100)\n",
              "    }\n",
              "  }\n",
              "\n",
              "\n",
              "  function run_callbacks() {\n",
              "    try {\n",
              "      root._bokeh_onload_callbacks.forEach(function(callback) { callback() });\n",
              "    }\n",
              "    finally {\n",
              "      delete root._bokeh_onload_callbacks\n",
              "    }\n",
              "    console.info(\"Bokeh: all callbacks have finished\");\n",
              "  }\n",
              "\n",
              "  function load_libs(js_urls, callback) {\n",
              "    root._bokeh_onload_callbacks.push(callback);\n",
              "    if (root._bokeh_is_loading > 0) {\n",
              "      console.log(\"Bokeh: BokehJS is being loaded, scheduling callback at\", now());\n",
              "      return null;\n",
              "    }\n",
              "    if (js_urls == null || js_urls.length === 0) {\n",
              "      run_callbacks();\n",
              "      return null;\n",
              "    }\n",
              "    console.log(\"Bokeh: BokehJS not loaded, scheduling load and callback at\", now());\n",
              "    root._bokeh_is_loading = js_urls.length;\n",
              "    for (var i = 0; i < js_urls.length; i++) {\n",
              "      var url = js_urls[i];\n",
              "      var s = document.createElement('script');\n",
              "      s.src = url;\n",
              "      s.async = false;\n",
              "      s.onreadystatechange = s.onload = function() {\n",
              "        root._bokeh_is_loading--;\n",
              "        if (root._bokeh_is_loading === 0) {\n",
              "          console.log(\"Bokeh: all BokehJS libraries loaded\");\n",
              "          run_callbacks()\n",
              "        }\n",
              "      };\n",
              "      s.onerror = function() {\n",
              "        console.warn(\"failed to load library \" + url);\n",
              "      };\n",
              "      console.log(\"Bokeh: injecting script tag for BokehJS library: \", url);\n",
              "      document.getElementsByTagName(\"head\")[0].appendChild(s);\n",
              "    }\n",
              "  };\n",
              "\n",
              "  var js_urls = [\"https://cdn.pydata.org/bokeh/release/bokeh-1.0.4.min.js\", \"https://cdn.pydata.org/bokeh/release/bokeh-widgets-1.0.4.min.js\", \"https://cdn.pydata.org/bokeh/release/bokeh-tables-1.0.4.min.js\", \"https://cdn.pydata.org/bokeh/release/bokeh-gl-1.0.4.min.js\"];\n",
              "\n",
              "  var inline_js = [\n",
              "    function(Bokeh) {\n",
              "      Bokeh.set_log_level(\"info\");\n",
              "    },\n",
              "    \n",
              "    function(Bokeh) {\n",
              "      \n",
              "    },\n",
              "    function(Bokeh) {\n",
              "      console.log(\"Bokeh: injecting CSS: https://cdn.pydata.org/bokeh/release/bokeh-1.0.4.min.css\");\n",
              "      Bokeh.embed.inject_css(\"https://cdn.pydata.org/bokeh/release/bokeh-1.0.4.min.css\");\n",
              "      console.log(\"Bokeh: injecting CSS: https://cdn.pydata.org/bokeh/release/bokeh-widgets-1.0.4.min.css\");\n",
              "      Bokeh.embed.inject_css(\"https://cdn.pydata.org/bokeh/release/bokeh-widgets-1.0.4.min.css\");\n",
              "      console.log(\"Bokeh: injecting CSS: https://cdn.pydata.org/bokeh/release/bokeh-tables-1.0.4.min.css\");\n",
              "      Bokeh.embed.inject_css(\"https://cdn.pydata.org/bokeh/release/bokeh-tables-1.0.4.min.css\");\n",
              "    }\n",
              "  ];\n",
              "\n",
              "  function run_inline_js() {\n",
              "    \n",
              "    if ((root.Bokeh !== undefined) || (force === true)) {\n",
              "      for (var i = 0; i < inline_js.length; i++) {\n",
              "        inline_js[i].call(root, root.Bokeh);\n",
              "      }} else if (Date.now() < root._bokeh_timeout) {\n",
              "      setTimeout(run_inline_js, 100);\n",
              "    } else if (!root._bokeh_failed_load) {\n",
              "      console.log(\"Bokeh: BokehJS failed to load within specified timeout.\");\n",
              "      root._bokeh_failed_load = true;\n",
              "    } else if (force !== true) {\n",
              "      var cell = $(document.getElementById(null)).parents('.cell').data().cell;\n",
              "      cell.output_area.append_execute_result(NB_LOAD_WARNING)\n",
              "    }\n",
              "\n",
              "  }\n",
              "\n",
              "  if (root._bokeh_is_loading === 0) {\n",
              "    console.log(\"Bokeh: BokehJS loaded, going straight to plotting\");\n",
              "    run_inline_js();\n",
              "  } else {\n",
              "    load_libs(js_urls, function() {\n",
              "      console.log(\"Bokeh: BokehJS plotting callback run at\", now());\n",
              "      run_inline_js();\n",
              "    });\n",
              "  }\n",
              "}(window));"
            ],
            "application/vnd.bokehjs_load.v0+json": "\n(function(root) {\n  function now() {\n    return new Date();\n  }\n\n  var force = true;\n\n  if (typeof (root._bokeh_onload_callbacks) === \"undefined\" || force === true) {\n    root._bokeh_onload_callbacks = [];\n    root._bokeh_is_loading = undefined;\n  }\n\n  \n\n  \n  if (typeof (root._bokeh_timeout) === \"undefined\" || force === true) {\n    root._bokeh_timeout = Date.now() + 5000;\n    root._bokeh_failed_load = false;\n  }\n\n  var NB_LOAD_WARNING = {'data': {'text/html':\n     \"<div style='background-color: #fdd'>\\n\"+\n     \"<p>\\n\"+\n     \"BokehJS does not appear to have successfully loaded. If loading BokehJS from CDN, this \\n\"+\n     \"may be due to a slow or bad network connection. Possible fixes:\\n\"+\n     \"</p>\\n\"+\n     \"<ul>\\n\"+\n     \"<li>re-rerun `output_notebook()` to attempt to load from CDN again, or</li>\\n\"+\n     \"<li>use INLINE resources instead, as so:</li>\\n\"+\n     \"</ul>\\n\"+\n     \"<code>\\n\"+\n     \"from bokeh.resources import INLINE\\n\"+\n     \"output_notebook(resources=INLINE)\\n\"+\n     \"</code>\\n\"+\n     \"</div>\"}};\n\n  function display_loaded() {\n    var el = document.getElementById(null);\n    if (el != null) {\n      el.textContent = \"BokehJS is loading...\";\n    }\n    if (root.Bokeh !== undefined) {\n      if (el != null) {\n        el.textContent = \"BokehJS \" + root.Bokeh.version + \" successfully loaded.\";\n      }\n    } else if (Date.now() < root._bokeh_timeout) {\n      setTimeout(display_loaded, 100)\n    }\n  }\n\n\n  function run_callbacks() {\n    try {\n      root._bokeh_onload_callbacks.forEach(function(callback) { callback() });\n    }\n    finally {\n      delete root._bokeh_onload_callbacks\n    }\n    console.info(\"Bokeh: all callbacks have finished\");\n  }\n\n  function load_libs(js_urls, callback) {\n    root._bokeh_onload_callbacks.push(callback);\n    if (root._bokeh_is_loading > 0) {\n      console.log(\"Bokeh: BokehJS is being loaded, scheduling callback at\", now());\n      return null;\n    }\n    if (js_urls == null || js_urls.length === 0) {\n      run_callbacks();\n      return null;\n    }\n    console.log(\"Bokeh: BokehJS not loaded, scheduling load and callback at\", now());\n    root._bokeh_is_loading = js_urls.length;\n    for (var i = 0; i < js_urls.length; i++) {\n      var url = js_urls[i];\n      var s = document.createElement('script');\n      s.src = url;\n      s.async = false;\n      s.onreadystatechange = s.onload = function() {\n        root._bokeh_is_loading--;\n        if (root._bokeh_is_loading === 0) {\n          console.log(\"Bokeh: all BokehJS libraries loaded\");\n          run_callbacks()\n        }\n      };\n      s.onerror = function() {\n        console.warn(\"failed to load library \" + url);\n      };\n      console.log(\"Bokeh: injecting script tag for BokehJS library: \", url);\n      document.getElementsByTagName(\"head\")[0].appendChild(s);\n    }\n  };\n\n  var js_urls = [\"https://cdn.pydata.org/bokeh/release/bokeh-1.0.4.min.js\", \"https://cdn.pydata.org/bokeh/release/bokeh-widgets-1.0.4.min.js\", \"https://cdn.pydata.org/bokeh/release/bokeh-tables-1.0.4.min.js\", \"https://cdn.pydata.org/bokeh/release/bokeh-gl-1.0.4.min.js\"];\n\n  var inline_js = [\n    function(Bokeh) {\n      Bokeh.set_log_level(\"info\");\n    },\n    \n    function(Bokeh) {\n      \n    },\n    function(Bokeh) {\n      console.log(\"Bokeh: injecting CSS: https://cdn.pydata.org/bokeh/release/bokeh-1.0.4.min.css\");\n      Bokeh.embed.inject_css(\"https://cdn.pydata.org/bokeh/release/bokeh-1.0.4.min.css\");\n      console.log(\"Bokeh: injecting CSS: https://cdn.pydata.org/bokeh/release/bokeh-widgets-1.0.4.min.css\");\n      Bokeh.embed.inject_css(\"https://cdn.pydata.org/bokeh/release/bokeh-widgets-1.0.4.min.css\");\n      console.log(\"Bokeh: injecting CSS: https://cdn.pydata.org/bokeh/release/bokeh-tables-1.0.4.min.css\");\n      Bokeh.embed.inject_css(\"https://cdn.pydata.org/bokeh/release/bokeh-tables-1.0.4.min.css\");\n    }\n  ];\n\n  function run_inline_js() {\n    \n    if ((root.Bokeh !== undefined) || (force === true)) {\n      for (var i = 0; i < inline_js.length; i++) {\n        inline_js[i].call(root, root.Bokeh);\n      }} else if (Date.now() < root._bokeh_timeout) {\n      setTimeout(run_inline_js, 100);\n    } else if (!root._bokeh_failed_load) {\n      console.log(\"Bokeh: BokehJS failed to load within specified timeout.\");\n      root._bokeh_failed_load = true;\n    } else if (force !== true) {\n      var cell = $(document.getElementById(null)).parents('.cell').data().cell;\n      cell.output_area.append_execute_result(NB_LOAD_WARNING)\n    }\n\n  }\n\n  if (root._bokeh_is_loading === 0) {\n    console.log(\"Bokeh: BokehJS loaded, going straight to plotting\");\n    run_inline_js();\n  } else {\n    load_libs(js_urls, function() {\n      console.log(\"Bokeh: BokehJS plotting callback run at\", now());\n      run_inline_js();\n    });\n  }\n}(window));"
          },
          "metadata": {
            "tags": []
          }
        },
        {
          "output_type": "display_data",
          "data": {
            "text/html": [
              "\n",
              "\n",
              "\n",
              "\n",
              "\n",
              "\n",
              "  <div class=\"bk-root\" id=\"08d6ce09-23a8-4f42-88ce-3835170cdd4e\" data-root-id=\"3352\"></div>\n"
            ]
          },
          "metadata": {
            "tags": []
          }
        },
        {
          "output_type": "display_data",
          "data": {
            "application/javascript": [
              "(function(root) {\n",
              "  function embed_document(root) {\n",
              "    \n",
              "  var docs_json = {\"ce1fa3ca-7222-49b8-871a-60dccdfd2d9c\":{\"roots\":{\"references\":[{\"attributes\":{\"below\":[{\"id\":\"3362\",\"type\":\"LinearAxis\"}],\"left\":[{\"id\":\"3367\",\"type\":\"LinearAxis\"}],\"renderers\":[{\"id\":\"3362\",\"type\":\"LinearAxis\"},{\"id\":\"3366\",\"type\":\"Grid\"},{\"id\":\"3367\",\"type\":\"LinearAxis\"},{\"id\":\"3371\",\"type\":\"Grid\"},{\"id\":\"3380\",\"type\":\"BoxAnnotation\"},{\"id\":\"3398\",\"type\":\"Legend\"},{\"id\":\"3390\",\"type\":\"GlyphRenderer\"}],\"title\":{\"id\":\"3351\",\"type\":\"Title\"},\"toolbar\":{\"id\":\"3378\",\"type\":\"Toolbar\"},\"x_range\":{\"id\":\"3354\",\"type\":\"DataRange1d\"},\"x_scale\":{\"id\":\"3358\",\"type\":\"LinearScale\"},\"y_range\":{\"id\":\"3356\",\"type\":\"DataRange1d\"},\"y_scale\":{\"id\":\"3360\",\"type\":\"LinearScale\"}},\"id\":\"3352\",\"subtype\":\"Figure\",\"type\":\"Plot\"},{\"attributes\":{\"dimension\":1,\"plot\":{\"id\":\"3352\",\"subtype\":\"Figure\",\"type\":\"Plot\"},\"ticker\":{\"id\":\"3368\",\"type\":\"BasicTicker\"}},\"id\":\"3371\",\"type\":\"Grid\"},{\"attributes\":{\"fill_alpha\":{\"value\":0.2},\"fill_color\":{\"field\":\"Farbe\"},\"line_color\":{\"field\":\"Farbe\"},\"size\":{\"units\":\"screen\",\"value\":10},\"x\":{\"field\":\"Bildung\"},\"y\":{\"field\":\"Einkommen\"}},\"id\":\"3388\",\"type\":\"Circle\"},{\"attributes\":{\"active_drag\":\"auto\",\"active_inspect\":\"auto\",\"active_multi\":null,\"active_scroll\":\"auto\",\"active_tap\":\"auto\",\"tools\":[{\"id\":\"3372\",\"type\":\"PanTool\"},{\"id\":\"3373\",\"type\":\"WheelZoomTool\"},{\"id\":\"3374\",\"type\":\"BoxZoomTool\"},{\"id\":\"3375\",\"type\":\"SaveTool\"},{\"id\":\"3376\",\"type\":\"ResetTool\"},{\"id\":\"3377\",\"type\":\"HelpTool\"}]},\"id\":\"3378\",\"type\":\"Toolbar\"},{\"attributes\":{},\"id\":\"3372\",\"type\":\"PanTool\"},{\"attributes\":{},\"id\":\"3373\",\"type\":\"WheelZoomTool\"},{\"attributes\":{},\"id\":\"3358\",\"type\":\"LinearScale\"},{\"attributes\":{\"overlay\":{\"id\":\"3380\",\"type\":\"BoxAnnotation\"}},\"id\":\"3374\",\"type\":\"BoxZoomTool\"},{\"attributes\":{\"callback\":null,\"data\":{\"Arbeitserfahrung\":{\"__ndarray__\":\"DgAAAA8AAAANAAAAFwAAAAMAAAADAAAAEwAAAAoAAAALAAAADgAAAAYAAAASAAAAAwAAAAwAAAAXAAAADAAAAAMAAAAGAAAAFgAAABcAAAANAAAAEQAAAAwAAAAEAAAAAwAAAAYAAAAVAAAABwAAAAQAAAANAAAA\",\"dtype\":\"int32\",\"shape\":[30]},\"Bildung\":{\"__ndarray__\":\"FgAAABIAAAAMAAAAEQAAABQAAAASAAAAFAAAABUAAAAUAAAACgAAAA4AAAATAAAADAAAABEAAAAKAAAAFAAAAA4AAAARAAAAEQAAABQAAAASAAAADwAAABEAAAAKAAAAFgAAAAsAAAAUAAAADAAAAAwAAAARAAAA\",\"dtype\":\"int32\",\"shape\":[30]},\"Einkommen\":{\"__ndarray__\":\"ZAAAAF0AAAAjAAAATwAAAEQAAABIAAAAWAAAAFAAAABaAAAALgAAACAAAABgAAAAHAAAAEMAAAAqAAAAWQAAAB0AAAA6AAAARgAAAGMAAABLAAAANgAAAEgAAAATAAAATwAAABUAAABbAAAAFwAAABIAAABLAAAA\",\"dtype\":\"int32\",\"shape\":[30]},\"Farbe\":[\"green\",\"green\",\"orange\",\"green\",\"green\",\"green\",\"green\",\"green\",\"green\",\"orange\",\"orange\",\"orange\",\"green\",\"green\",\"green\",\"orange\",\"orange\",\"orange\",\"orange\",\"green\",\"green\",\"orange\",\"orange\",\"green\",\"orange\",\"orange\",\"green\",\"green\",\"orange\",\"green\"],\"Geschlecht\":[\"W\",\"W\",\"M\",\"W\",\"W\",\"W\",\"W\",\"W\",\"W\",\"M\",\"M\",\"M\",\"W\",\"W\",\"W\",\"M\",\"M\",\"M\",\"M\",\"W\",\"W\",\"M\",\"M\",\"W\",\"M\",\"M\",\"W\",\"W\",\"M\",\"W\"],\"Haarlaenge\":{\"__ndarray__\":\"FAAAABkAAAACAAAAAwAAAA8AAAAuAAAAIQAAABUAAAAcAAAACgAAAAYAAAAGAAAADAAAABIAAAAnAAAAEAAAAAkAAAAjAAAAFgAAABcAAAAiAAAAEAAAAAMAAAARAAAABQAAAAEAAAATAAAAGgAAABIAAAAYAAAA\",\"dtype\":\"int32\",\"shape\":[30]},\"Person\":{\"__ndarray__\":\"AQAAAAIAAAADAAAABAAAAAUAAAAGAAAABwAAAAgAAAAJAAAACgAAAAsAAAAMAAAADQAAAA4AAAAPAAAAEAAAABEAAAASAAAAEwAAABQAAAAVAAAAFgAAABcAAAAYAAAAGQAAABoAAAAbAAAAHAAAAB0AAAAeAAAA\",\"dtype\":\"int32\",\"shape\":[30]},\"index\":[0,1,2,3,4,5,6,7,8,9,10,11,12,13,14,15,16,17,18,19,20,21,22,23,24,25,26,27,28,29]},\"selected\":{\"id\":\"3529\",\"type\":\"Selection\"},\"selection_policy\":{\"id\":\"3528\",\"type\":\"UnionRenderers\"}},\"id\":\"3350\",\"type\":\"ColumnDataSource\"},{\"attributes\":{\"fill_alpha\":{\"value\":0.1},\"fill_color\":{\"value\":\"#1f77b4\"},\"line_alpha\":{\"value\":0.1},\"line_color\":{\"value\":\"#1f77b4\"},\"size\":{\"units\":\"screen\",\"value\":10},\"x\":{\"field\":\"Bildung\"},\"y\":{\"field\":\"Einkommen\"}},\"id\":\"3389\",\"type\":\"Circle\"},{\"attributes\":{\"bottom_units\":\"screen\",\"fill_alpha\":{\"value\":0.5},\"fill_color\":{\"value\":\"lightgrey\"},\"left_units\":\"screen\",\"level\":\"overlay\",\"line_alpha\":{\"value\":1.0},\"line_color\":{\"value\":\"black\"},\"line_dash\":[4,4],\"line_width\":{\"value\":2},\"plot\":null,\"render_mode\":\"css\",\"right_units\":\"screen\",\"top_units\":\"screen\"},\"id\":\"3380\",\"type\":\"BoxAnnotation\"},{\"attributes\":{\"plot\":null,\"text\":\"Gehaltsdaten\"},\"id\":\"3351\",\"type\":\"Title\"},{\"attributes\":{},\"id\":\"3360\",\"type\":\"LinearScale\"},{\"attributes\":{\"data_source\":{\"id\":\"3350\",\"type\":\"ColumnDataSource\"},\"glyph\":{\"id\":\"3388\",\"type\":\"Circle\"},\"hover_glyph\":null,\"muted_glyph\":null,\"nonselection_glyph\":{\"id\":\"3389\",\"type\":\"Circle\"},\"selection_glyph\":null,\"view\":{\"id\":\"3391\",\"type\":\"CDSView\"}},\"id\":\"3390\",\"type\":\"GlyphRenderer\"},{\"attributes\":{\"callback\":null},\"id\":\"3356\",\"type\":\"DataRange1d\"},{\"attributes\":{\"source\":{\"id\":\"3350\",\"type\":\"ColumnDataSource\"}},\"id\":\"3391\",\"type\":\"CDSView\"},{\"attributes\":{\"callback\":null},\"id\":\"3354\",\"type\":\"DataRange1d\"},{\"attributes\":{},\"id\":\"3393\",\"type\":\"BasicTickFormatter\"},{\"attributes\":{},\"id\":\"3529\",\"type\":\"Selection\"},{\"attributes\":{},\"id\":\"3395\",\"type\":\"BasicTickFormatter\"},{\"attributes\":{},\"id\":\"3376\",\"type\":\"ResetTool\"},{\"attributes\":{\"items\":[{\"id\":\"3399\",\"type\":\"LegendItem\"}],\"location\":\"top_left\",\"plot\":{\"id\":\"3352\",\"subtype\":\"Figure\",\"type\":\"Plot\"}},\"id\":\"3398\",\"type\":\"Legend\"},{\"attributes\":{\"axis_label\":\"Bildung\",\"formatter\":{\"id\":\"3395\",\"type\":\"BasicTickFormatter\"},\"plot\":{\"id\":\"3352\",\"subtype\":\"Figure\",\"type\":\"Plot\"},\"ticker\":{\"id\":\"3363\",\"type\":\"BasicTicker\"}},\"id\":\"3362\",\"type\":\"LinearAxis\"},{\"attributes\":{\"label\":{\"field\":\"Geschlecht\"},\"renderers\":[{\"id\":\"3390\",\"type\":\"GlyphRenderer\"}]},\"id\":\"3399\",\"type\":\"LegendItem\"},{\"attributes\":{},\"id\":\"3363\",\"type\":\"BasicTicker\"},{\"attributes\":{\"plot\":{\"id\":\"3352\",\"subtype\":\"Figure\",\"type\":\"Plot\"},\"ticker\":{\"id\":\"3363\",\"type\":\"BasicTicker\"}},\"id\":\"3366\",\"type\":\"Grid\"},{\"attributes\":{},\"id\":\"3377\",\"type\":\"HelpTool\"},{\"attributes\":{\"axis_label\":\"Einkommen\",\"formatter\":{\"id\":\"3393\",\"type\":\"BasicTickFormatter\"},\"plot\":{\"id\":\"3352\",\"subtype\":\"Figure\",\"type\":\"Plot\"},\"ticker\":{\"id\":\"3368\",\"type\":\"BasicTicker\"}},\"id\":\"3367\",\"type\":\"LinearAxis\"},{\"attributes\":{},\"id\":\"3528\",\"type\":\"UnionRenderers\"},{\"attributes\":{},\"id\":\"3375\",\"type\":\"SaveTool\"},{\"attributes\":{},\"id\":\"3368\",\"type\":\"BasicTicker\"}],\"root_ids\":[\"3352\"]},\"title\":\"Bokeh Application\",\"version\":\"1.0.4\"}};\n",
              "  var render_items = [{\"docid\":\"ce1fa3ca-7222-49b8-871a-60dccdfd2d9c\",\"roots\":{\"3352\":\"08d6ce09-23a8-4f42-88ce-3835170cdd4e\"}}];\n",
              "  root.Bokeh.embed.embed_items_notebook(docs_json, render_items);\n",
              "\n",
              "  }\n",
              "  if (root.Bokeh !== undefined) {\n",
              "    embed_document(root);\n",
              "  } else {\n",
              "    var attempts = 0;\n",
              "    var timer = setInterval(function(root) {\n",
              "      if (root.Bokeh !== undefined) {\n",
              "        embed_document(root);\n",
              "        clearInterval(timer);\n",
              "      }\n",
              "      attempts++;\n",
              "      if (attempts > 100) {\n",
              "        console.log(\"Bokeh: ERROR: Unable to run BokehJS code because BokehJS library is missing\");\n",
              "        clearInterval(timer);\n",
              "      }\n",
              "    }, 10, root)\n",
              "  }\n",
              "})(window);"
            ],
            "application/vnd.bokehjs_exec.v0+json": ""
          },
          "metadata": {
            "tags": [],
            "application/vnd.bokehjs_exec.v0+json": {
              "id": "3352"
            }
          }
        }
      ]
    },
    {
      "cell_type": "markdown",
      "metadata": {
        "id": "RPi74Duqypyj",
        "colab_type": "text"
      },
      "source": [
        "## Modellierung der Einkommensdaten (manuell)"
      ]
    },
    {
      "cell_type": "code",
      "metadata": {
        "id": "C-cp7sSKca9w",
        "colab_type": "code",
        "outputId": "c5de71d7-8de2-4fbc-80ea-f311c7c1c3e1",
        "colab": {
          "base_uri": "https://localhost:8080/",
          "height": 617
        }
      },
      "source": [
        "minimum = np.min(Einkommensdaten['Bildung'])\n",
        "maximum = np.max(Einkommensdaten['Bildung'])\n",
        "\n",
        "xp   = np.linspace(minimum, maximum, 1000)\n",
        "\n",
        "fit  = np.polyfit(x=Einkommensdaten['Bildung'], y=Einkommensdaten['Einkommen'],\n",
        "                  deg=3) # <<<< Den Grad hier ändern\n",
        "\n",
        "func = np.poly1d(fit)\n",
        "yp   = [func(v) for v in xp]\n",
        "\n",
        "colormap = {'W': 'green', 'M': 'orange'}\n",
        "colors = [colormap[x] for x in Einkommensdaten['Geschlecht']]\n",
        "Einkommensdaten['colors'] = colors\n",
        "\n",
        "source = ColumnDataSource(Einkommensdaten)\n",
        "\n",
        "p = figure(title = \"Gehaltsdaten\")\n",
        "p.xaxis.axis_label = 'Bildung'\n",
        "p.yaxis.axis_label = 'Einkommen'\n",
        "\n",
        "p.circle(\"Bildung\",\n",
        "         \"Einkommen\",\n",
        "         color=\"colors\",\n",
        "         fill_alpha=0.2,\n",
        "         size=10,\n",
        "         legend=\"Geschlecht\",\n",
        "         source=source)\n",
        "p.line(xp,yp)\n",
        "p.legend.location = \"top_left\"\n",
        "\n",
        "show(p)"
      ],
      "execution_count": 0,
      "outputs": [
        {
          "output_type": "display_data",
          "data": {
            "application/javascript": [
              "\n",
              "(function(root) {\n",
              "  function now() {\n",
              "    return new Date();\n",
              "  }\n",
              "\n",
              "  var force = true;\n",
              "\n",
              "  if (typeof (root._bokeh_onload_callbacks) === \"undefined\" || force === true) {\n",
              "    root._bokeh_onload_callbacks = [];\n",
              "    root._bokeh_is_loading = undefined;\n",
              "  }\n",
              "\n",
              "  var JS_MIME_TYPE = 'application/javascript';\n",
              "  var HTML_MIME_TYPE = 'text/html';\n",
              "  var EXEC_MIME_TYPE = 'application/vnd.bokehjs_exec.v0+json';\n",
              "  var CLASS_NAME = 'output_bokeh rendered_html';\n",
              "\n",
              "  /**\n",
              "   * Render data to the DOM node\n",
              "   */\n",
              "  function render(props, node) {\n",
              "    var script = document.createElement(\"script\");\n",
              "    node.appendChild(script);\n",
              "  }\n",
              "\n",
              "  /**\n",
              "   * Handle when an output is cleared or removed\n",
              "   */\n",
              "  function handleClearOutput(event, handle) {\n",
              "    var cell = handle.cell;\n",
              "\n",
              "    var id = cell.output_area._bokeh_element_id;\n",
              "    var server_id = cell.output_area._bokeh_server_id;\n",
              "    // Clean up Bokeh references\n",
              "    if (id != null && id in Bokeh.index) {\n",
              "      Bokeh.index[id].model.document.clear();\n",
              "      delete Bokeh.index[id];\n",
              "    }\n",
              "\n",
              "    if (server_id !== undefined) {\n",
              "      // Clean up Bokeh references\n",
              "      var cmd = \"from bokeh.io.state import curstate; print(curstate().uuid_to_server['\" + server_id + \"'].get_sessions()[0].document.roots[0]._id)\";\n",
              "      cell.notebook.kernel.execute(cmd, {\n",
              "        iopub: {\n",
              "          output: function(msg) {\n",
              "            var id = msg.content.text.trim();\n",
              "            if (id in Bokeh.index) {\n",
              "              Bokeh.index[id].model.document.clear();\n",
              "              delete Bokeh.index[id];\n",
              "            }\n",
              "          }\n",
              "        }\n",
              "      });\n",
              "      // Destroy server and session\n",
              "      var cmd = \"import bokeh.io.notebook as ion; ion.destroy_server('\" + server_id + \"')\";\n",
              "      cell.notebook.kernel.execute(cmd);\n",
              "    }\n",
              "  }\n",
              "\n",
              "  /**\n",
              "   * Handle when a new output is added\n",
              "   */\n",
              "  function handleAddOutput(event, handle) {\n",
              "    var output_area = handle.output_area;\n",
              "    var output = handle.output;\n",
              "\n",
              "    // limit handleAddOutput to display_data with EXEC_MIME_TYPE content only\n",
              "    if ((output.output_type != \"display_data\") || (!output.data.hasOwnProperty(EXEC_MIME_TYPE))) {\n",
              "      return\n",
              "    }\n",
              "\n",
              "    var toinsert = output_area.element.find(\".\" + CLASS_NAME.split(' ')[0]);\n",
              "\n",
              "    if (output.metadata[EXEC_MIME_TYPE][\"id\"] !== undefined) {\n",
              "      toinsert[toinsert.length - 1].firstChild.textContent = output.data[JS_MIME_TYPE];\n",
              "      // store reference to embed id on output_area\n",
              "      output_area._bokeh_element_id = output.metadata[EXEC_MIME_TYPE][\"id\"];\n",
              "    }\n",
              "    if (output.metadata[EXEC_MIME_TYPE][\"server_id\"] !== undefined) {\n",
              "      var bk_div = document.createElement(\"div\");\n",
              "      bk_div.innerHTML = output.data[HTML_MIME_TYPE];\n",
              "      var script_attrs = bk_div.children[0].attributes;\n",
              "      for (var i = 0; i < script_attrs.length; i++) {\n",
              "        toinsert[toinsert.length - 1].firstChild.setAttribute(script_attrs[i].name, script_attrs[i].value);\n",
              "      }\n",
              "      // store reference to server id on output_area\n",
              "      output_area._bokeh_server_id = output.metadata[EXEC_MIME_TYPE][\"server_id\"];\n",
              "    }\n",
              "  }\n",
              "\n",
              "  function register_renderer(events, OutputArea) {\n",
              "\n",
              "    function append_mime(data, metadata, element) {\n",
              "      // create a DOM node to render to\n",
              "      var toinsert = this.create_output_subarea(\n",
              "        metadata,\n",
              "        CLASS_NAME,\n",
              "        EXEC_MIME_TYPE\n",
              "      );\n",
              "      this.keyboard_manager.register_events(toinsert);\n",
              "      // Render to node\n",
              "      var props = {data: data, metadata: metadata[EXEC_MIME_TYPE]};\n",
              "      render(props, toinsert[toinsert.length - 1]);\n",
              "      element.append(toinsert);\n",
              "      return toinsert\n",
              "    }\n",
              "\n",
              "    /* Handle when an output is cleared or removed */\n",
              "    events.on('clear_output.CodeCell', handleClearOutput);\n",
              "    events.on('delete.Cell', handleClearOutput);\n",
              "\n",
              "    /* Handle when a new output is added */\n",
              "    events.on('output_added.OutputArea', handleAddOutput);\n",
              "\n",
              "    /**\n",
              "     * Register the mime type and append_mime function with output_area\n",
              "     */\n",
              "    OutputArea.prototype.register_mime_type(EXEC_MIME_TYPE, append_mime, {\n",
              "      /* Is output safe? */\n",
              "      safe: true,\n",
              "      /* Index of renderer in `output_area.display_order` */\n",
              "      index: 0\n",
              "    });\n",
              "  }\n",
              "\n",
              "  // register the mime type if in Jupyter Notebook environment and previously unregistered\n",
              "  if (root.Jupyter !== undefined) {\n",
              "    var events = require('base/js/events');\n",
              "    var OutputArea = require('notebook/js/outputarea').OutputArea;\n",
              "\n",
              "    if (OutputArea.prototype.mime_types().indexOf(EXEC_MIME_TYPE) == -1) {\n",
              "      register_renderer(events, OutputArea);\n",
              "    }\n",
              "  }\n",
              "\n",
              "  \n",
              "  if (typeof (root._bokeh_timeout) === \"undefined\" || force === true) {\n",
              "    root._bokeh_timeout = Date.now() + 5000;\n",
              "    root._bokeh_failed_load = false;\n",
              "  }\n",
              "\n",
              "  var NB_LOAD_WARNING = {'data': {'text/html':\n",
              "     \"<div style='background-color: #fdd'>\\n\"+\n",
              "     \"<p>\\n\"+\n",
              "     \"BokehJS does not appear to have successfully loaded. If loading BokehJS from CDN, this \\n\"+\n",
              "     \"may be due to a slow or bad network connection. Possible fixes:\\n\"+\n",
              "     \"</p>\\n\"+\n",
              "     \"<ul>\\n\"+\n",
              "     \"<li>re-rerun `output_notebook()` to attempt to load from CDN again, or</li>\\n\"+\n",
              "     \"<li>use INLINE resources instead, as so:</li>\\n\"+\n",
              "     \"</ul>\\n\"+\n",
              "     \"<code>\\n\"+\n",
              "     \"from bokeh.resources import INLINE\\n\"+\n",
              "     \"output_notebook(resources=INLINE)\\n\"+\n",
              "     \"</code>\\n\"+\n",
              "     \"</div>\"}};\n",
              "\n",
              "  function display_loaded() {\n",
              "    var el = document.getElementById(null);\n",
              "    if (el != null) {\n",
              "      el.textContent = \"BokehJS is loading...\";\n",
              "    }\n",
              "    if (root.Bokeh !== undefined) {\n",
              "      if (el != null) {\n",
              "        el.textContent = \"BokehJS \" + root.Bokeh.version + \" successfully loaded.\";\n",
              "      }\n",
              "    } else if (Date.now() < root._bokeh_timeout) {\n",
              "      setTimeout(display_loaded, 100)\n",
              "    }\n",
              "  }\n",
              "\n",
              "\n",
              "  function run_callbacks() {\n",
              "    try {\n",
              "      root._bokeh_onload_callbacks.forEach(function(callback) { callback() });\n",
              "    }\n",
              "    finally {\n",
              "      delete root._bokeh_onload_callbacks\n",
              "    }\n",
              "    console.info(\"Bokeh: all callbacks have finished\");\n",
              "  }\n",
              "\n",
              "  function load_libs(js_urls, callback) {\n",
              "    root._bokeh_onload_callbacks.push(callback);\n",
              "    if (root._bokeh_is_loading > 0) {\n",
              "      console.log(\"Bokeh: BokehJS is being loaded, scheduling callback at\", now());\n",
              "      return null;\n",
              "    }\n",
              "    if (js_urls == null || js_urls.length === 0) {\n",
              "      run_callbacks();\n",
              "      return null;\n",
              "    }\n",
              "    console.log(\"Bokeh: BokehJS not loaded, scheduling load and callback at\", now());\n",
              "    root._bokeh_is_loading = js_urls.length;\n",
              "    for (var i = 0; i < js_urls.length; i++) {\n",
              "      var url = js_urls[i];\n",
              "      var s = document.createElement('script');\n",
              "      s.src = url;\n",
              "      s.async = false;\n",
              "      s.onreadystatechange = s.onload = function() {\n",
              "        root._bokeh_is_loading--;\n",
              "        if (root._bokeh_is_loading === 0) {\n",
              "          console.log(\"Bokeh: all BokehJS libraries loaded\");\n",
              "          run_callbacks()\n",
              "        }\n",
              "      };\n",
              "      s.onerror = function() {\n",
              "        console.warn(\"failed to load library \" + url);\n",
              "      };\n",
              "      console.log(\"Bokeh: injecting script tag for BokehJS library: \", url);\n",
              "      document.getElementsByTagName(\"head\")[0].appendChild(s);\n",
              "    }\n",
              "  };\n",
              "\n",
              "  var js_urls = [\"https://cdn.pydata.org/bokeh/release/bokeh-1.0.4.min.js\", \"https://cdn.pydata.org/bokeh/release/bokeh-widgets-1.0.4.min.js\", \"https://cdn.pydata.org/bokeh/release/bokeh-tables-1.0.4.min.js\", \"https://cdn.pydata.org/bokeh/release/bokeh-gl-1.0.4.min.js\"];\n",
              "\n",
              "  var inline_js = [\n",
              "    function(Bokeh) {\n",
              "      Bokeh.set_log_level(\"info\");\n",
              "    },\n",
              "    \n",
              "    function(Bokeh) {\n",
              "      \n",
              "    },\n",
              "    function(Bokeh) {\n",
              "      console.log(\"Bokeh: injecting CSS: https://cdn.pydata.org/bokeh/release/bokeh-1.0.4.min.css\");\n",
              "      Bokeh.embed.inject_css(\"https://cdn.pydata.org/bokeh/release/bokeh-1.0.4.min.css\");\n",
              "      console.log(\"Bokeh: injecting CSS: https://cdn.pydata.org/bokeh/release/bokeh-widgets-1.0.4.min.css\");\n",
              "      Bokeh.embed.inject_css(\"https://cdn.pydata.org/bokeh/release/bokeh-widgets-1.0.4.min.css\");\n",
              "      console.log(\"Bokeh: injecting CSS: https://cdn.pydata.org/bokeh/release/bokeh-tables-1.0.4.min.css\");\n",
              "      Bokeh.embed.inject_css(\"https://cdn.pydata.org/bokeh/release/bokeh-tables-1.0.4.min.css\");\n",
              "    }\n",
              "  ];\n",
              "\n",
              "  function run_inline_js() {\n",
              "    \n",
              "    if ((root.Bokeh !== undefined) || (force === true)) {\n",
              "      for (var i = 0; i < inline_js.length; i++) {\n",
              "        inline_js[i].call(root, root.Bokeh);\n",
              "      }} else if (Date.now() < root._bokeh_timeout) {\n",
              "      setTimeout(run_inline_js, 100);\n",
              "    } else if (!root._bokeh_failed_load) {\n",
              "      console.log(\"Bokeh: BokehJS failed to load within specified timeout.\");\n",
              "      root._bokeh_failed_load = true;\n",
              "    } else if (force !== true) {\n",
              "      var cell = $(document.getElementById(null)).parents('.cell').data().cell;\n",
              "      cell.output_area.append_execute_result(NB_LOAD_WARNING)\n",
              "    }\n",
              "\n",
              "  }\n",
              "\n",
              "  if (root._bokeh_is_loading === 0) {\n",
              "    console.log(\"Bokeh: BokehJS loaded, going straight to plotting\");\n",
              "    run_inline_js();\n",
              "  } else {\n",
              "    load_libs(js_urls, function() {\n",
              "      console.log(\"Bokeh: BokehJS plotting callback run at\", now());\n",
              "      run_inline_js();\n",
              "    });\n",
              "  }\n",
              "}(window));"
            ],
            "application/vnd.bokehjs_load.v0+json": "\n(function(root) {\n  function now() {\n    return new Date();\n  }\n\n  var force = true;\n\n  if (typeof (root._bokeh_onload_callbacks) === \"undefined\" || force === true) {\n    root._bokeh_onload_callbacks = [];\n    root._bokeh_is_loading = undefined;\n  }\n\n  \n\n  \n  if (typeof (root._bokeh_timeout) === \"undefined\" || force === true) {\n    root._bokeh_timeout = Date.now() + 5000;\n    root._bokeh_failed_load = false;\n  }\n\n  var NB_LOAD_WARNING = {'data': {'text/html':\n     \"<div style='background-color: #fdd'>\\n\"+\n     \"<p>\\n\"+\n     \"BokehJS does not appear to have successfully loaded. If loading BokehJS from CDN, this \\n\"+\n     \"may be due to a slow or bad network connection. Possible fixes:\\n\"+\n     \"</p>\\n\"+\n     \"<ul>\\n\"+\n     \"<li>re-rerun `output_notebook()` to attempt to load from CDN again, or</li>\\n\"+\n     \"<li>use INLINE resources instead, as so:</li>\\n\"+\n     \"</ul>\\n\"+\n     \"<code>\\n\"+\n     \"from bokeh.resources import INLINE\\n\"+\n     \"output_notebook(resources=INLINE)\\n\"+\n     \"</code>\\n\"+\n     \"</div>\"}};\n\n  function display_loaded() {\n    var el = document.getElementById(null);\n    if (el != null) {\n      el.textContent = \"BokehJS is loading...\";\n    }\n    if (root.Bokeh !== undefined) {\n      if (el != null) {\n        el.textContent = \"BokehJS \" + root.Bokeh.version + \" successfully loaded.\";\n      }\n    } else if (Date.now() < root._bokeh_timeout) {\n      setTimeout(display_loaded, 100)\n    }\n  }\n\n\n  function run_callbacks() {\n    try {\n      root._bokeh_onload_callbacks.forEach(function(callback) { callback() });\n    }\n    finally {\n      delete root._bokeh_onload_callbacks\n    }\n    console.info(\"Bokeh: all callbacks have finished\");\n  }\n\n  function load_libs(js_urls, callback) {\n    root._bokeh_onload_callbacks.push(callback);\n    if (root._bokeh_is_loading > 0) {\n      console.log(\"Bokeh: BokehJS is being loaded, scheduling callback at\", now());\n      return null;\n    }\n    if (js_urls == null || js_urls.length === 0) {\n      run_callbacks();\n      return null;\n    }\n    console.log(\"Bokeh: BokehJS not loaded, scheduling load and callback at\", now());\n    root._bokeh_is_loading = js_urls.length;\n    for (var i = 0; i < js_urls.length; i++) {\n      var url = js_urls[i];\n      var s = document.createElement('script');\n      s.src = url;\n      s.async = false;\n      s.onreadystatechange = s.onload = function() {\n        root._bokeh_is_loading--;\n        if (root._bokeh_is_loading === 0) {\n          console.log(\"Bokeh: all BokehJS libraries loaded\");\n          run_callbacks()\n        }\n      };\n      s.onerror = function() {\n        console.warn(\"failed to load library \" + url);\n      };\n      console.log(\"Bokeh: injecting script tag for BokehJS library: \", url);\n      document.getElementsByTagName(\"head\")[0].appendChild(s);\n    }\n  };\n\n  var js_urls = [\"https://cdn.pydata.org/bokeh/release/bokeh-1.0.4.min.js\", \"https://cdn.pydata.org/bokeh/release/bokeh-widgets-1.0.4.min.js\", \"https://cdn.pydata.org/bokeh/release/bokeh-tables-1.0.4.min.js\", \"https://cdn.pydata.org/bokeh/release/bokeh-gl-1.0.4.min.js\"];\n\n  var inline_js = [\n    function(Bokeh) {\n      Bokeh.set_log_level(\"info\");\n    },\n    \n    function(Bokeh) {\n      \n    },\n    function(Bokeh) {\n      console.log(\"Bokeh: injecting CSS: https://cdn.pydata.org/bokeh/release/bokeh-1.0.4.min.css\");\n      Bokeh.embed.inject_css(\"https://cdn.pydata.org/bokeh/release/bokeh-1.0.4.min.css\");\n      console.log(\"Bokeh: injecting CSS: https://cdn.pydata.org/bokeh/release/bokeh-widgets-1.0.4.min.css\");\n      Bokeh.embed.inject_css(\"https://cdn.pydata.org/bokeh/release/bokeh-widgets-1.0.4.min.css\");\n      console.log(\"Bokeh: injecting CSS: https://cdn.pydata.org/bokeh/release/bokeh-tables-1.0.4.min.css\");\n      Bokeh.embed.inject_css(\"https://cdn.pydata.org/bokeh/release/bokeh-tables-1.0.4.min.css\");\n    }\n  ];\n\n  function run_inline_js() {\n    \n    if ((root.Bokeh !== undefined) || (force === true)) {\n      for (var i = 0; i < inline_js.length; i++) {\n        inline_js[i].call(root, root.Bokeh);\n      }} else if (Date.now() < root._bokeh_timeout) {\n      setTimeout(run_inline_js, 100);\n    } else if (!root._bokeh_failed_load) {\n      console.log(\"Bokeh: BokehJS failed to load within specified timeout.\");\n      root._bokeh_failed_load = true;\n    } else if (force !== true) {\n      var cell = $(document.getElementById(null)).parents('.cell').data().cell;\n      cell.output_area.append_execute_result(NB_LOAD_WARNING)\n    }\n\n  }\n\n  if (root._bokeh_is_loading === 0) {\n    console.log(\"Bokeh: BokehJS loaded, going straight to plotting\");\n    run_inline_js();\n  } else {\n    load_libs(js_urls, function() {\n      console.log(\"Bokeh: BokehJS plotting callback run at\", now());\n      run_inline_js();\n    });\n  }\n}(window));"
          },
          "metadata": {
            "tags": []
          }
        },
        {
          "output_type": "display_data",
          "data": {
            "text/html": [
              "\n",
              "\n",
              "\n",
              "\n",
              "\n",
              "\n",
              "  <div class=\"bk-root\" id=\"8cc7ca6f-27ab-4746-b01d-74b7490b0681\" data-root-id=\"4375\"></div>\n"
            ]
          },
          "metadata": {
            "tags": []
          }
        },
        {
          "output_type": "display_data",
          "data": {
            "application/javascript": [
              "(function(root) {\n",
              "  function embed_document(root) {\n",
              "    \n",
              "  var docs_json = {\"6fdf402a-f3a6-4448-a0f5-b47d23626321\":{\"roots\":{\"references\":[{\"attributes\":{\"below\":[{\"id\":\"4385\",\"type\":\"LinearAxis\"}],\"left\":[{\"id\":\"4390\",\"type\":\"LinearAxis\"}],\"renderers\":[{\"id\":\"4385\",\"type\":\"LinearAxis\"},{\"id\":\"4389\",\"type\":\"Grid\"},{\"id\":\"4390\",\"type\":\"LinearAxis\"},{\"id\":\"4394\",\"type\":\"Grid\"},{\"id\":\"4403\",\"type\":\"BoxAnnotation\"},{\"id\":\"4421\",\"type\":\"Legend\"},{\"id\":\"4413\",\"type\":\"GlyphRenderer\"},{\"id\":\"4426\",\"type\":\"GlyphRenderer\"}],\"title\":{\"id\":\"4374\",\"type\":\"Title\"},\"toolbar\":{\"id\":\"4401\",\"type\":\"Toolbar\"},\"x_range\":{\"id\":\"4377\",\"type\":\"DataRange1d\"},\"x_scale\":{\"id\":\"4381\",\"type\":\"LinearScale\"},\"y_range\":{\"id\":\"4379\",\"type\":\"DataRange1d\"},\"y_scale\":{\"id\":\"4383\",\"type\":\"LinearScale\"}},\"id\":\"4375\",\"subtype\":\"Figure\",\"type\":\"Plot\"},{\"attributes\":{\"plot\":{\"id\":\"4375\",\"subtype\":\"Figure\",\"type\":\"Plot\"},\"ticker\":{\"id\":\"4386\",\"type\":\"BasicTicker\"}},\"id\":\"4389\",\"type\":\"Grid\"},{\"attributes\":{\"source\":{\"id\":\"4373\",\"type\":\"ColumnDataSource\"}},\"id\":\"4414\",\"type\":\"CDSView\"},{\"attributes\":{},\"id\":\"4383\",\"type\":\"LinearScale\"},{\"attributes\":{},\"id\":\"4416\",\"type\":\"BasicTickFormatter\"},{\"attributes\":{\"callback\":null},\"id\":\"4379\",\"type\":\"DataRange1d\"},{\"attributes\":{},\"id\":\"4418\",\"type\":\"BasicTickFormatter\"},{\"attributes\":{},\"id\":\"4400\",\"type\":\"HelpTool\"},{\"attributes\":{\"items\":[{\"id\":\"4422\",\"type\":\"LegendItem\"}],\"location\":\"top_left\",\"plot\":{\"id\":\"4375\",\"subtype\":\"Figure\",\"type\":\"Plot\"}},\"id\":\"4421\",\"type\":\"Legend\"},{\"attributes\":{},\"id\":\"4399\",\"type\":\"ResetTool\"},{\"attributes\":{\"active_drag\":\"auto\",\"active_inspect\":\"auto\",\"active_multi\":null,\"active_scroll\":\"auto\",\"active_tap\":\"auto\",\"tools\":[{\"id\":\"4395\",\"type\":\"PanTool\"},{\"id\":\"4396\",\"type\":\"WheelZoomTool\"},{\"id\":\"4397\",\"type\":\"BoxZoomTool\"},{\"id\":\"4398\",\"type\":\"SaveTool\"},{\"id\":\"4399\",\"type\":\"ResetTool\"},{\"id\":\"4400\",\"type\":\"HelpTool\"}]},\"id\":\"4401\",\"type\":\"Toolbar\"},{\"attributes\":{\"line_alpha\":0.1,\"line_color\":\"#1f77b4\",\"x\":{\"field\":\"x\"},\"y\":{\"field\":\"y\"}},\"id\":\"4425\",\"type\":\"Line\"},{\"attributes\":{\"data_source\":{\"id\":\"4423\",\"type\":\"ColumnDataSource\"},\"glyph\":{\"id\":\"4424\",\"type\":\"Line\"},\"hover_glyph\":null,\"muted_glyph\":null,\"nonselection_glyph\":{\"id\":\"4425\",\"type\":\"Line\"},\"selection_glyph\":null,\"view\":{\"id\":\"4427\",\"type\":\"CDSView\"}},\"id\":\"4426\",\"type\":\"GlyphRenderer\"},{\"attributes\":{},\"id\":\"4398\",\"type\":\"SaveTool\"},{\"attributes\":{},\"id\":\"4396\",\"type\":\"WheelZoomTool\"},{\"attributes\":{\"callback\":null,\"data\":{\"Arbeitserfahrung\":{\"__ndarray__\":\"DgAAAA8AAAANAAAAFwAAAAMAAAADAAAAEwAAAAoAAAALAAAADgAAAAYAAAASAAAAAwAAAAwAAAAXAAAADAAAAAMAAAAGAAAAFgAAABcAAAANAAAAEQAAAAwAAAAEAAAAAwAAAAYAAAAVAAAABwAAAAQAAAANAAAA\",\"dtype\":\"int32\",\"shape\":[30]},\"Bildung\":{\"__ndarray__\":\"FgAAABIAAAAMAAAAEQAAABQAAAASAAAAFAAAABUAAAAUAAAACgAAAA4AAAATAAAADAAAABEAAAAKAAAAFAAAAA4AAAARAAAAEQAAABQAAAASAAAADwAAABEAAAAKAAAAFgAAAAsAAAAUAAAADAAAAAwAAAARAAAA\",\"dtype\":\"int32\",\"shape\":[30]},\"Einkommen\":{\"__ndarray__\":\"ZAAAAF0AAAAjAAAATwAAAEQAAABIAAAAWAAAAFAAAABaAAAALgAAACAAAABgAAAAHAAAAEMAAAAqAAAAWQAAAB0AAAA6AAAARgAAAGMAAABLAAAANgAAAEgAAAATAAAATwAAABUAAABbAAAAFwAAABIAAABLAAAA\",\"dtype\":\"int32\",\"shape\":[30]},\"Farbe\":[\"green\",\"green\",\"orange\",\"green\",\"green\",\"green\",\"green\",\"green\",\"green\",\"orange\",\"orange\",\"orange\",\"green\",\"green\",\"green\",\"orange\",\"orange\",\"orange\",\"orange\",\"green\",\"green\",\"orange\",\"orange\",\"green\",\"orange\",\"orange\",\"green\",\"green\",\"orange\",\"green\"],\"Geschlecht\":[\"W\",\"W\",\"M\",\"W\",\"W\",\"W\",\"W\",\"W\",\"W\",\"M\",\"M\",\"M\",\"W\",\"W\",\"W\",\"M\",\"M\",\"M\",\"M\",\"W\",\"W\",\"M\",\"M\",\"W\",\"M\",\"M\",\"W\",\"W\",\"M\",\"W\"],\"Haarlaenge\":{\"__ndarray__\":\"FAAAABkAAAACAAAAAwAAAA8AAAAuAAAAIQAAABUAAAAcAAAACgAAAAYAAAAGAAAADAAAABIAAAAnAAAAEAAAAAkAAAAjAAAAFgAAABcAAAAiAAAAEAAAAAMAAAARAAAABQAAAAEAAAATAAAAGgAAABIAAAAYAAAA\",\"dtype\":\"int32\",\"shape\":[30]},\"Person\":{\"__ndarray__\":\"AQAAAAIAAAADAAAABAAAAAUAAAAGAAAABwAAAAgAAAAJAAAACgAAAAsAAAAMAAAADQAAAA4AAAAPAAAAEAAAABEAAAASAAAAEwAAABQAAAAVAAAAFgAAABcAAAAYAAAAGQAAABoAAAAbAAAAHAAAAB0AAAAeAAAA\",\"dtype\":\"int32\",\"shape\":[30]},\"colors\":[\"green\",\"green\",\"orange\",\"green\",\"green\",\"green\",\"green\",\"green\",\"green\",\"orange\",\"orange\",\"orange\",\"green\",\"green\",\"green\",\"orange\",\"orange\",\"orange\",\"orange\",\"green\",\"green\",\"orange\",\"orange\",\"green\",\"orange\",\"orange\",\"green\",\"green\",\"orange\",\"green\"],\"index\":[0,1,2,3,4,5,6,7,8,9,10,11,12,13,14,15,16,17,18,19,20,21,22,23,24,25,26,27,28,29]},\"selected\":{\"id\":\"4595\",\"type\":\"Selection\"},\"selection_policy\":{\"id\":\"4594\",\"type\":\"UnionRenderers\"}},\"id\":\"4373\",\"type\":\"ColumnDataSource\"},{\"attributes\":{\"source\":{\"id\":\"4423\",\"type\":\"ColumnDataSource\"}},\"id\":\"4427\",\"type\":\"CDSView\"},{\"attributes\":{},\"id\":\"4395\",\"type\":\"PanTool\"},{\"attributes\":{},\"id\":\"4595\",\"type\":\"Selection\"},{\"attributes\":{\"overlay\":{\"id\":\"4403\",\"type\":\"BoxAnnotation\"}},\"id\":\"4397\",\"type\":\"BoxZoomTool\"},{\"attributes\":{\"line_color\":\"#1f77b4\",\"x\":{\"field\":\"x\"},\"y\":{\"field\":\"y\"}},\"id\":\"4424\",\"type\":\"Line\"},{\"attributes\":{},\"id\":\"4594\",\"type\":\"UnionRenderers\"},{\"attributes\":{\"callback\":null,\"data\":{\"x\":{\"__ndarray__\":\"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\",\"dtype\":\"float64\",\"shape\":[1000]},\"y\":[33.94558902330107,33.81921492682443,33.69388137265025,33.56958629159601,33.44632761447917,33.32410327211744,33.2029111953284,33.0827493149294,32.963615561738266,32.84550786657235,32.72842416024923,32.61236237358662,32.49732043740198,32.3832962825129,32.27028783973685,32.15829303989153,32.0473098137943,31.937336092262854,31.82836980611478,31.720408886167775,31.61345126323897,31.507494868146296,31.40253763170722,31.298577484739212,31.19561235805986,31.093640182486865,30.992658888837582,30.892666407929823,30.793660670580834,30.69563960760854,30.598601149830188,30.502543228063473,30.407463773125755,30.313360715835074,30.220231987008447,30.1280755174638,30.036889238018375,29.946671079490102,29.85741897269645,29.769130848454665,29.681804637582673,29.595438270898057,29.510029679217837,29.42557679336028,29.3420775441424,29.259529862382124,29.177931678896698,29.097280924504048,29.017575530021304,28.938813426266393,28.86099254405667,28.78411081420984,28.708166167543368,28.633156534874843,28.55907984702162,28.485934034801744,28.41371702903234,28.342426760530998,28.272061160115527,28.202618158603286,28.134095686811975,28.066491675559064,27.999804055662025,27.93403075793867,27.869169713206475,27.805218852282792,27.74217610598521,27.680039405131538,27.618806680539137,27.55847586302582,27.499044883408715,27.440511672505863,27.382874161134396,27.32613028011201,27.270277960256408,27.215315132385058,27.16123972731566,27.10804967586546,27.055742908852153,27.004317357093555,26.953770951406796,26.9041016226098,26.85530730151993,26.80738591895488,26.760335405731894,26.714153692669015,26.668838710583373,26.624388390292893,26.580800662614706,26.538073458366853,26.496204708366463,26.45519234343135,26.415034294379097,26.37572849202718,26.33727286719295,26.29966535069434,26.262903873348705,26.226986365973744,26.1919107593867,26.157674984405617,26.124276971847507,26.0917146525303,26.05998595727158,26.029088816888702,25.99902116219937,25.969780924020938,25.94136603317122,25.913774420467803,25.887004016728042,25.861052752769524,25.835918559409834,25.811599367466556,25.78809310775739,25.765397711099695,25.74351110831094,25.722431230209054,25.702156007611393,25.6826833713352,25.664011252198748,25.646137581018934,25.629060288613687,25.612777305800364,25.59728656339655,25.58258599222006,25.568673523088137,25.555547086818592,25.54320461422867,25.5316440361363,25.52086328335872,25.51086028671375,25.501632977018858,25.493179285091514,25.48549714174942,25.47858447780993,25.472439224090863,25.46705931140957,25.46244267058364,25.458587232430773,25.455490927768437,25.45315168741422,25.45156744218548,25.450736122900025,25.450655660375446,25.4513239854291,25.452739028878796,25.454898721541895,25.457800994235868,25.46144377777864,25.465825002987344,25.47094260068002,25.476794501673567,25.483378636786256,25.49069293683499,25.49873533263792,25.507503755012294,25.516996134775695,25.52721040274571,25.538144489739807,25.5497963265758,25.562163844070938,25.575244973042913,25.589037644309542,25.603539788688067,25.61874933699596,25.634664220051036,25.65128236867065,25.668601713672842,25.686620185874517,25.705335716093487,25.72474623514745,25.744849673853764,25.765643963030357,25.787127033494244,25.809296816063352,25.832151241555266,25.855688240787345,25.879905744577286,25.904801683742562,25.930373989100758,25.956620591469346,25.983539421666364,26.01112841050849,26.039385488814105,26.068308587400452,26.097895637085117,26.128144568685457,26.159053313019285,26.190619800904187,26.22284196315752,26.25571773059687,26.289245034040164,26.323421804304303,26.358245972207555,26.393715468566825,26.429828224200264,26.466582169925005,26.50397523655886,26.54200535491907,26.580670455823793,26.619968470089816,26.659897328535294,26.70045496197747,26.74163930123416,26.78344827712283,26.82587982046084,26.868931862065892,26.91260233275557,26.95688916334757,27.00179028465925,27.047303627507972,27.093427122711887,27.140158701088126,27.187496293454274,27.235437830627916,27.283981243426638,27.333124462668138,27.382865419169775,27.43320204374936,27.484132267224027,27.535654020411698,27.587765234129733,27.640463839195945,27.69374776642769,27.747614946642557,27.802063310658127,27.857090789291874,27.912695313361496,27.968874813684465,28.02562722107848,28.082950466360785,28.14084248034942,28.1993011938614,28.25832453771477,28.317910442726543,28.3780568397151,28.43876165949723,28.500022832890863,28.561838290713354,28.6242059637824,28.687123782915478,28.750589678930396,28.8146015826444,28.879157424875302,28.944255136440347,29.009892648157575,29.076067890843888,29.14277879531744,29.210023292395476,29.277799312895695,29.346104787635568,29.414937647432794,29.48429582310473,29.554177245469077,29.624579845343305,29.695501553545228,29.766940300891974,29.838894018201472,29.91136063629108,29.984338085978493,30.057824298081073,30.131817203416517,30.20631473280241,30.28131481705634,30.356815386995777,30.43281437343819,30.50930970720151,30.586299319102864,30.66378113996018,30.741753100590586,30.820213131811784,30.899159164441812,30.978589129297575,31.05850095719711,31.138892578957552,31.219761925396938,31.3011069273324,31.382925515581746,31.465215620962454,31.547975174292105,31.6312021063884,31.71489434806847,31.799049830150352,31.883666483451293,31.968742238789105,32.05427502698103,32.140262778845,32.22670342519814,32.31359489685849,32.4009351246433,32.48872203937026,32.576953571856734,32.665627652920534,32.75474221337902,32.84429518404977,32.93428449575072,33.024708079298875,33.11556386551217,33.20684978520785,33.29856376920384,33.390703748317605,33.48326765336651,33.576253415168026,33.669658964540304,33.76348223230025,33.857721149265785,33.95237364625427,34.04743765408341,34.14291110357078,34.23879192553375,34.33507805079023,34.43176741015736,34.52885793445307,34.626347554494714,34.724234201099875,34.82251580508614,34.92119029727098,35.0202556084721,35.11970966950696,35.21955041119327,35.319775764348265,35.42038365978976,35.52137202833546,35.62273880080272,35.72448190800901,35.8265992807718,35.929088849909135,36.031948546238254,36.13517630057663,36.23877004374208,36.342727706551955,36.447047219823844,36.551726514375446,36.656763521024004,36.76215617058767,36.867902393883355,36.97400012172898,37.08044728494201,37.18724181434004,37.29438164074054,37.40186469496109,37.509688907819395,37.61785221013281,37.72635253271915,37.83518780639565,37.94435596198025,38.05385493029007,38.16368264214327,38.27383702835664,38.38431601974844,38.49511754713569,38.60623954133632,38.71767993316769,38.829436653447715,38.94150763299331,39.053890802622504,39.16658409315289,39.279585435401714,39.39289276018678,39.506503998325684,39.62041708063566,39.73462993793464,39.84914050103998,39.9639467007695,40.079046467940316,40.19443773337025,40.31011842787689,40.42608648227781,40.54233982739038,40.658876394032404,40.77569411302113,40.89279091517449,41.01016473130983,41.12781349224474,41.245735128796696,41.36392757178328,41.482388752022416,41.60111660033135,41.72010904752733,41.839364024428505,41.958879461852234,42.07865329061576,42.198683441537014,42.31896784543335,42.43950443312269,42.56029113542229,42.68132588314961,42.80260660712224,42.924131238158,43.045897707074346,43.167903944688646,43.2901478818186,43.412627449281786,43.535340577895795,43.658285198478325,43.78145924184639,43.90486063881815,44.02848732021073,44.152337216842284,44.2764082595296,44.40069837909073,44.52520550634301,44.64992757210416,44.774862507191756,44.90000824242304,45.02536270861606,45.15092383658828,45.27668955715683,45.402657801139526,45.52882649935407,45.655193582617926,45.78175698174857,45.90851462756382,46.03546445088091,46.162604382517316,46.289932353290965,46.41744629401944,46.545144135520104,46.67302380861054,46.801083244107986,46.929320372830716,47.057733125595746,47.18631943322089,47.315077226523385,47.44400443632128,47.5730989934317,47.702358828672345,47.831781872860915,47.96136605681477,48.0911093113516,48.221009567289,48.35106475544433,48.48127280663539,48.61163165167943,48.74213922139472,48.87279344659771,49.003592258107005,49.13453358673928,49.26561536331303,49.39683551864482,49.52819198355303,49.65968268885467,49.79130556536779,49.923058543909406,50.054939555297665,50.18694653034936,50.3190773998831,50.45133009471533,50.58370254566444,50.71619268354755,50.84879843918236,50.98151774338635,51.11434852697755,51.24728872077276,51.380336255589896,51.513489062246435,51.646745071560304,51.780102214348744,51.913558421429116,52.04711162361957,52.18075975173713,52.314500736599484,52.44833250902434,52.582252999829166,52.71626013983155,52.85035185984884,52.98452609069909,53.11878076319954,53.25311380816754,53.38752315642091,53.522006738777236,53.656562486053986,53.79118832906886,53.925882198639215,54.06064202558275,54.19546574071717,54.330351274859254,54.46529655882773,54.600299523439276,54.73535809951204,54.87047021786316,55.005633809310325,55.140846804671014,55.276107134762924,55.41141273040364,55.54676152241052,55.68215144160126,55.817580418793796,55.95304638480491,56.088547270452636,56.22408100655446,56.35964552392784,56.49523875339071,56.63085862575997,56.76650307185389,56.902170022489486,57.03785740848491,57.173563160656954,57.309285209823884,57.4450214868026,57.58076992241138,57.716528447467,57.85229499278773,57.9880674891906,58.12384386749375,58.25962205851408,58.395399993069645,58.53117560197791,58.666946816056,58.80271156612207,58.93846778299371,59.07421339748748,59.20994634042222,59.34566454261471,59.481365934882774,59.6170484480441,59.75271001291583,59.8883485603161,60.02396202106172,60.15954832597106,60.295105405861136,60.43063119154965,60.566123613854074,60.70158060359245,60.837000091581444,60.97238000863956,61.107718285583815,61.243012853231676,61.378261642401185,61.513462583909586,61.64861360857424,61.78371264721318,61.918757630643654,62.053746489683476,62.18867715514989,62.32354755786059,62.45835562863306,62.5930992982851,62.72777649763418,62.862385157497556,62.99692320869303,63.13138858203854,63.26577920835098,63.40009301844793,63.53432794314779,63.66848191326733,63.802552859623916,63.93653871303616,64.07043740432061,64.20424686429521,64.33796502377743,64.4715898135853,64.6051191645355,64.73855100744629,64.87188327313481,65.00511389241933,65.13824079611663,65.27126191504442,65.40417518002039,65.53697852186212,65.66966987138744,65.80224715941324,65.93470831675756,66.06705127423777,66.19927396267155,66.33137431287685,66.4633502556702,66.59519972187024,66.72692064229352,66.85851094775853,66.98996856908263,67.12129143708285,67.2524774825772,67.38352463638284,67.5144308293178,67.64519399219967,67.77581205584545,67.90628295107342,68.03660460870037,68.1667749595448,68.29679193442314,68.42665346415379,68.5563574795541,68.68590191144165,68.8152846906338,68.94450374794815,69.07355701420238,69.20244242021431,69.33115789680107,69.45970137478048,69.58807078496932,69.71626405818665,69.8442791252487,69.97211391697408,70.09976636417912,70.22723439768231,70.3545159483009,70.48160894685282,70.60851132415519,70.73522101102549,70.86173593828141,70.98805403674112,71.11417323722117,71.2400914705396,71.36580666751388,71.49131675896217,71.61661967570114,71.7417133485485,71.8665957083224,71.99126468583995,72.11571821191887,72.23995421737652,72.36397063303048,72.48776538969855,72.6113364181981,72.73468164934707,72.85779901396245,72.98068644286184,73.10334186686339,73.22576321678378,73.34794842344161,73.46989541765379,73.59160213023756,73.7130664920112,73.83428643379182,73.9552598863977,74.07598478064517,74.19645904735285,74.31668061733762,74.43664742141755,74.55635739040986,74.67580845513214,74.79499854640221,74.91392559503777,75.0325875318556,75.15098228767363,75.26910779330979,75.38696197958143,75.50454277730569,75.62184811730094,75.7388759303841,75.85562414737274,75.97209069908456,76.08827351633761,76.20417052994867,76.31977967073556,76.43509886951585,76.55012605710749,76.66485916432748,76.77929612199353,76.89343486092343,77.00727331193457,77.12080940584451,77.23404107347073,77.34696624563094,77.45958285314293,77.57188882682351,77.68388209749094,77.79556059596234,77.90692225305577,78.01796499958846,78.128686766378,78.23908548424163,78.3491590839975,78.45890549646265,78.56832265245532,78.67740848279243,78.78616091829178,78.89457788977074,79.00265732804712,79.11039716393884,79.21779532826247,79.32484975183627,79.4315583654776,79.5379191000045,79.64392988623354,79.74958865498297,79.85489333707028,79.95984186331316,80.06443216452874,80.16866217153472,80.27252981514869,80.37603302618868,80.47916973547171,80.58193787381526,80.68433537203725,80.78636016095538,80.88801017138644,80.98928333414858,81.09017758005962,81.19069083993645,81.2908210445969,81.39056612485865,81.48992401153919,81.5888926354562,81.68746992742672,81.78565381826877,81.8834422388004,81.98083311983805,82.07782439219977,82.17441398670337,82.27059983416643,82.3663798654062,82.46175201124004,82.55671420248598,82.65126436996161,82.74540044448429,82.83912035687138,82.93242203794068,83.02530341850957,83.1177624293963,83.20979700141743,83.3014050653909,83.3925845521344,83.48333339246551,83.57364951720194,83.66353085716094,83.75297534316007,83.84198090601672,83.93054547654879,84.01866698557421,84.1063433639099,84.19357254237332,84.28035245178239,84.36668102295494,84.45255618670797,84.53797587385907,84.62293801522617,84.70744054162685,84.79148138387791,84.87505847279795,84.95816973920364,85.04081311391337,85.12298652774416,85.20468791151382,85.28591519603901,85.36666631213916,85.4469391906299,85.52673176232997,85.60604195805684,85.68486770862728,85.76320694485946,85.8410575975712,85.91841759757904,85.99528487570217,86.07165736275647,86.14753298956066,86.22290968693142,86.297785385687,86.37215801664456,86.44602551062212,86.51938579843693,86.59223681090634,86.66457647884783,86.73640273307979,86.80771350441921,86.87850672368359,86.94878032169038,87.01853222925752,87.08776037720224,87.1564626963426,87.22463711749549,87.29228157147872,87.35939398911034,87.42597230120691,87.49201443858715,87.55751833206784,87.6224819124667,87.6869031106014,87.7507798572891,87.81411008334828,87.87689171959562,87.93912269684893,88.0008009459259,88.06192439764402,88.12249098282075,88.18249863227356,88.24194527682039,88.30082884727881,88.35914727446618,88.41689848919964,88.47408042229733,88.53069100457674,88.58672816685521,88.6421898399509,88.69707395467981,88.75137844186156,88.80510123231215,88.85824025684985,88.91079344629236,88.96275873145692,89.01413404316077,89.0649173122224,89.11510646945806,89.16469944568655,89.2136941717248,89.26208857839072,89.30988059650156,89.35706815687479,89.40364919032834,89.44962162767968,89.49498339974582,89.53973243734504,89.58386667129446,89.62738403241224,89.67028245151528,89.71255985942128,89.75421418694805,89.79524336491329,89.83564532413345,89.87541799542748,89.91455930961217,89.95306719750522,89.99093958992489,90.02817441768696,90.06476961161115,90.1007231025136,90.1360328212121,90.17069669852492,90.20471266526852,90.23807865226115,90.27079259032018,90.30285241026331,90.33425604290824,90.36500141907209,90.39508646957245,90.42450912522736,90.45326731685407,90.48135897526993,90.50878203129298,90.53553441574013,90.5616140594301,90.58701889317899,90.6117468478052,90.63579585412651,90.65916384295974,90.68184874512269,90.70384849143318,90.72516101270867,90.7457842397672,90.76571610342512,90.78495453450103,90.80349746381239,90.821342822176,90.83848854041025,90.85493254933226,90.87067277975962,90.88570716251036,90.90003362840139,90.91365010825052,90.92655453287557,90.93874483309412,90.95021893972296,90.96097478358013,90.97101029548355,90.9803234062507,90.98891204669849,90.99677414764494,91.00390763990731,91.01031045430364,91.01598052165184,91.02091577276815,91.02511413847094,91.02857354957837,91.03129193690665,91.0332672312743,91.03449736349842,91.03498026439661,91.03471386478714,91.03369609548679,91.03192488731315,91.02939817108381,91.02611387761726,91.02206993772938,91.01726428223924,91.01169484196328,91.00535954772022,90.99825633032663,90.9903831206002,90.98173784935898,90.97231844742043,90.96212284560158,90.95114897472047,90.93939476559444,90.92685814904121,90.91353705587835,90.89942941692334,90.88453316299353,90.86884622490732,90.85236653348102,90.83509201953291,90.81702061388046,90.79815024734137,90.77847885073322,90.75800435487315,90.73672469057885,90.71463778866791,90.69174157995872,90.66803399526748,90.64351296541236,90.61817642121093,90.59202229348136,90.56504851303998,90.53725301070517,90.50863371729429,90.47918856362514,90.44891548051464,90.41781239878082,90.38587724924116,90.35310796271324,90.3195024700151,90.28505870196341,90.24977458937599,90.2136480630711,90.1766770538652,90.13885949257644,90.1001933100224,90.06067643702056,90.02030680438884,89.97908234294414,89.93700098350428,89.89406065688695,89.85025929391009,89.80559482539024,89.76006518214547,89.71366829499357,89.66640209475224,89.6182645122384,89.56925347826962,89.5193669236645,89.46860277923963,89.41695897581246,89.36443344420104,89.31102411522272,89.25672891969555,89.20154578843642,89.14547265226315,89.08850744199333,89.03064808844488,88.97189252243459,88.91223867477993,88.85168447629951,88.79022785781001,88.72786675012969,88.66459908407535,88.60042279046479,88.53533580011617,88.4693360438464,88.40242145247282,88.33458995681383,88.26583948768655,88.19616797590822,88.12557335229678,88.05405354766947,87.98160649284432,87.90823011863915,87.8339223558703,87.7586811353566,87.68250438791495,87.60539004436305,87.52733603551803,87.44834029219817,87.3684007452207,87.28751532540355,87.20568196356362,87.12289859051839,87.03916313708623,86.95447353408451,86.86882771233013,86.78222360264147,86.69465913583531,86.60613224273004,86.51664085414268,86.42618290089047,86.33475631379179,86.24235902366388,86.14898896132388,86.05464405758983,85.95932224327908,85.86302144920933,85.76573960619862,85.66747464506318,85.56822449662172,85.4679870916915,85.36676036108986,85.26454223563462,85.16133064614303,85.057123523433,84.95191879832191,84.84571440162745,84.73850826416697,84.63029831675794,84.52108249021887,84.41085871536598,84.29962492301718,84.18737904399075,84.07411900910392,83.95984274917384,83.84454819501809,83.72823327745459,83.61089592730116]},\"selected\":{\"id\":\"4597\",\"type\":\"Selection\"},\"selection_policy\":{\"id\":\"4596\",\"type\":\"UnionRenderers\"}},\"id\":\"4423\",\"type\":\"ColumnDataSource\"},{\"attributes\":{},\"id\":\"4596\",\"type\":\"UnionRenderers\"},{\"attributes\":{\"fill_alpha\":{\"value\":0.1},\"fill_color\":{\"value\":\"#1f77b4\"},\"line_alpha\":{\"value\":0.1},\"line_color\":{\"value\":\"#1f77b4\"},\"size\":{\"units\":\"screen\",\"value\":10},\"x\":{\"field\":\"Bildung\"},\"y\":{\"field\":\"Einkommen\"}},\"id\":\"4412\",\"type\":\"Circle\"},{\"attributes\":{},\"id\":\"4597\",\"type\":\"Selection\"},{\"attributes\":{},\"id\":\"4386\",\"type\":\"BasicTicker\"},{\"attributes\":{\"plot\":null,\"text\":\"Gehaltsdaten\"},\"id\":\"4374\",\"type\":\"Title\"},{\"attributes\":{\"callback\":null},\"id\":\"4377\",\"type\":\"DataRange1d\"},{\"attributes\":{\"axis_label\":\"Bildung\",\"formatter\":{\"id\":\"4418\",\"type\":\"BasicTickFormatter\"},\"plot\":{\"id\":\"4375\",\"subtype\":\"Figure\",\"type\":\"Plot\"},\"ticker\":{\"id\":\"4386\",\"type\":\"BasicTicker\"}},\"id\":\"4385\",\"type\":\"LinearAxis\"},{\"attributes\":{\"label\":{\"field\":\"Geschlecht\"},\"renderers\":[{\"id\":\"4413\",\"type\":\"GlyphRenderer\"}]},\"id\":\"4422\",\"type\":\"LegendItem\"},{\"attributes\":{\"axis_label\":\"Einkommen\",\"formatter\":{\"id\":\"4416\",\"type\":\"BasicTickFormatter\"},\"plot\":{\"id\":\"4375\",\"subtype\":\"Figure\",\"type\":\"Plot\"},\"ticker\":{\"id\":\"4391\",\"type\":\"BasicTicker\"}},\"id\":\"4390\",\"type\":\"LinearAxis\"},{\"attributes\":{\"bottom_units\":\"screen\",\"fill_alpha\":{\"value\":0.5},\"fill_color\":{\"value\":\"lightgrey\"},\"left_units\":\"screen\",\"level\":\"overlay\",\"line_alpha\":{\"value\":1.0},\"line_color\":{\"value\":\"black\"},\"line_dash\":[4,4],\"line_width\":{\"value\":2},\"plot\":null,\"render_mode\":\"css\",\"right_units\":\"screen\",\"top_units\":\"screen\"},\"id\":\"4403\",\"type\":\"BoxAnnotation\"},{\"attributes\":{},\"id\":\"4391\",\"type\":\"BasicTicker\"},{\"attributes\":{\"data_source\":{\"id\":\"4373\",\"type\":\"ColumnDataSource\"},\"glyph\":{\"id\":\"4411\",\"type\":\"Circle\"},\"hover_glyph\":null,\"muted_glyph\":null,\"nonselection_glyph\":{\"id\":\"4412\",\"type\":\"Circle\"},\"selection_glyph\":null,\"view\":{\"id\":\"4414\",\"type\":\"CDSView\"}},\"id\":\"4413\",\"type\":\"GlyphRenderer\"},{\"attributes\":{\"fill_alpha\":{\"value\":0.2},\"fill_color\":{\"field\":\"colors\"},\"line_color\":{\"field\":\"colors\"},\"size\":{\"units\":\"screen\",\"value\":10},\"x\":{\"field\":\"Bildung\"},\"y\":{\"field\":\"Einkommen\"}},\"id\":\"4411\",\"type\":\"Circle\"},{\"attributes\":{},\"id\":\"4381\",\"type\":\"LinearScale\"},{\"attributes\":{\"dimension\":1,\"plot\":{\"id\":\"4375\",\"subtype\":\"Figure\",\"type\":\"Plot\"},\"ticker\":{\"id\":\"4391\",\"type\":\"BasicTicker\"}},\"id\":\"4394\",\"type\":\"Grid\"}],\"root_ids\":[\"4375\"]},\"title\":\"Bokeh Application\",\"version\":\"1.0.4\"}};\n",
              "  var render_items = [{\"docid\":\"6fdf402a-f3a6-4448-a0f5-b47d23626321\",\"roots\":{\"4375\":\"8cc7ca6f-27ab-4746-b01d-74b7490b0681\"}}];\n",
              "  root.Bokeh.embed.embed_items_notebook(docs_json, render_items);\n",
              "\n",
              "  }\n",
              "  if (root.Bokeh !== undefined) {\n",
              "    embed_document(root);\n",
              "  } else {\n",
              "    var attempts = 0;\n",
              "    var timer = setInterval(function(root) {\n",
              "      if (root.Bokeh !== undefined) {\n",
              "        embed_document(root);\n",
              "        clearInterval(timer);\n",
              "      }\n",
              "      attempts++;\n",
              "      if (attempts > 100) {\n",
              "        console.log(\"Bokeh: ERROR: Unable to run BokehJS code because BokehJS library is missing\");\n",
              "        clearInterval(timer);\n",
              "      }\n",
              "    }, 10, root)\n",
              "  }\n",
              "})(window);"
            ],
            "application/vnd.bokehjs_exec.v0+json": ""
          },
          "metadata": {
            "tags": [],
            "application/vnd.bokehjs_exec.v0+json": {
              "id": "4375"
            }
          }
        }
      ]
    },
    {
      "cell_type": "markdown",
      "metadata": {
        "id": "TG4a6pzC0bAT",
        "colab_type": "text"
      },
      "source": [
        "# Transaktionsdaten"
      ]
    },
    {
      "cell_type": "markdown",
      "metadata": {
        "id": "0eh7sZxY01lo",
        "colab_type": "text"
      },
      "source": [
        "## Transaktionsdaten laden"
      ]
    },
    {
      "cell_type": "code",
      "metadata": {
        "id": "Q-ikeQnU04yf",
        "colab_type": "code",
        "colab": {}
      },
      "source": [
        "Transaktionsdaten = pyreadr.read_r('/gdrive/My Drive/ML-Workshop/transactions2.RData')['transactions2']"
      ],
      "execution_count": 0,
      "outputs": []
    },
    {
      "cell_type": "markdown",
      "metadata": {
        "id": "3U-V_8ip05q9",
        "colab_type": "text"
      },
      "source": [
        "## Datensatz inspizieren mit head"
      ]
    },
    {
      "cell_type": "code",
      "metadata": {
        "id": "joq_iW35Nq2Q",
        "colab_type": "code",
        "colab": {}
      },
      "source": [
        "Transaktionsdaten.head(n=10)"
      ],
      "execution_count": 0,
      "outputs": []
    },
    {
      "cell_type": "markdown",
      "metadata": {
        "id": "FVrSpRcY1AIs",
        "colab_type": "text"
      },
      "source": [
        "## Verhältnis von Fraud zu Non-Fraud visualisieren"
      ]
    },
    {
      "cell_type": "markdown",
      "metadata": {
        "id": "_VbmABX01Qlf",
        "colab_type": "text"
      },
      "source": [
        "Als erstes zählen wir, wie viele Fälle von Betrug in dem Datensatz vohanden sind und wie viele Fälle keine Betrugsfälle sind."
      ]
    },
    {
      "cell_type": "code",
      "metadata": {
        "id": "IhWM1Y841RCF",
        "colab_type": "code",
        "colab": {}
      },
      "source": [
        "nr_fraud = len(Transaktionsdaten[ (Transaktionsdaten[\"isFraud\"] == 1)])\n",
        "nr_no_fraud = len(Transaktionsdaten[ (Transaktionsdaten[\"isFraud\"] == 0)])\n",
        "\n",
        "print('Anzahl der Betrugsfälle:                      %d' % (nr_fraud))\n",
        "print('Anzahl der der Fääle, die keinen Betrug sind: %d' % (nr_no_fraud))"
      ],
      "execution_count": 0,
      "outputs": []
    },
    {
      "cell_type": "markdown",
      "metadata": {
        "id": "Q189nkwi1bwL",
        "colab_type": "text"
      },
      "source": [
        "Als nächsten zeigen wir diese Daten in einem Balkendiagramm an."
      ]
    },
    {
      "cell_type": "code",
      "metadata": {
        "id": "4meV6XWnc_We",
        "colab_type": "code",
        "colab": {}
      },
      "source": [
        "labels =['fraud', 'no fraud']\n",
        "p = figure(x_range=labels, plot_height=350, title=\"Fraud vs. Non-Fraud\",\n",
        "           toolbar_location=None, tools=\"\")\n",
        "\n",
        "counts =[len(Transaktionsdaten[ (Transaktionsdaten[\"isFraud\"] == 1)]),\n",
        "         len(Transaktionsdaten[ (Transaktionsdaten[\"isFraud\"] == 0)])]\n",
        "\n",
        "p.vbar(x=labels, top=counts, width=0.9)\n",
        "\n",
        "show(p)"
      ],
      "execution_count": 0,
      "outputs": []
    },
    {
      "cell_type": "markdown",
      "metadata": {
        "id": "6SO17Y8N74dO",
        "colab_type": "text"
      },
      "source": [
        "Jetzt wollen wir uns überlegen, wie wir vllt. mit einfachen Methoden Betrug (Fraud) erkennen können. Dazu schauen wir uns an, wie sich die Menge des Geldes zum Verhältnis Fraud vs Nicht-Fraud verhält. Es ist einfach Betrug vorherzusagen, wenn alle Betrugsfälle immer über einem bestimmten Betrag liegen."
      ]
    },
    {
      "cell_type": "code",
      "metadata": {
        "id": "weHI0wI5d_Qs",
        "colab_type": "code",
        "colab": {}
      },
      "source": [
        "p = figure(title = \"Transaktionsdaten\")\n",
        "p.xaxis.axis_label = 'Fraud'\n",
        "p.yaxis.axis_label = 'Amount'\n",
        "\n",
        "p.circle(Transaktionsdaten[\"isFraud\"][0:100000],\n",
        "         Transaktionsdaten[\"amount\"][0:100000],\n",
        "         fill_alpha=0.2,\n",
        "         size=10)\n",
        "show(p)"
      ],
      "execution_count": 0,
      "outputs": []
    },
    {
      "cell_type": "markdown",
      "metadata": {
        "id": "WbAc0fHZ9cGB",
        "colab_type": "text"
      },
      "source": [
        "Probieren Sie andere Zusammenhänge zu visualisieren"
      ]
    },
    {
      "cell_type": "code",
      "metadata": {
        "id": "gdVeoZP69faE",
        "colab_type": "code",
        "colab": {}
      },
      "source": [
        "p = figure(title = \"Transaktionsdaten\")\n",
        "p.xaxis.axis_label = <EINFÜGEN>\n",
        "p.yaxis.axis_label = <EINFÜGEN>\n",
        "\n",
        "p.circle(Transaktionsdaten[<EINFÜGEN>][0:100000],\n",
        "         Transaktionsdaten[<EINFÜGEN>][0:100000],\n",
        "         fill_alpha=0.2,\n",
        "         size=10)\n",
        "show(p)"
      ],
      "execution_count": 0,
      "outputs": []
    },
    {
      "cell_type": "markdown",
      "metadata": {
        "id": "vUMKI4yo8w_W",
        "colab_type": "text"
      },
      "source": [
        "Es scheint keinen einfachen Zusammenhang der Menge des Geldes und der Betrugsfälle zu geben. Wir werden also auf Methoden Maschinellen Lernens zurückgreifen müssen. Wie das geht, wird jetzt in Teil 2 erklärt."
      ]
    },
    {
      "cell_type": "markdown",
      "metadata": {
        "colab_type": "text",
        "id": "8CvQ-HciorDn"
      },
      "source": [
        "# Praktischer Teil 2: Klassifizieren mit Logistischer Regression\n",
        "\n",
        "Als nächstes widmen wir uns der Klassifizierung der Daten mit dem Modell der Logistischen Regression, das wir soeben besprochen haben. \n",
        "\n",
        "Zunächst wollen wir das auf dem Einkommensdatensatz machen. Zum Beispiel möchten wir das Geschlecht anhand der Haarlänge vorhersagen.\n",
        "Für diese Analysen laden wir uns ein paar nützliche Pakete von Scikit-Learn herunter. Scikit-Learn ist eine Sammlung von häufig verwendeten Werkzeugen im Maschinellen Lernen.\n",
        "\n",
        "Das Einbinden von SciKit-Learn erfolgt über das Paket sklearn. Weil es ziemlich umfänglich ist, laden wir nur die benötigte Funktionalität."
      ]
    },
    {
      "cell_type": "code",
      "metadata": {
        "id": "8k-1QsUq7xC5",
        "colab_type": "code",
        "colab": {}
      },
      "source": [
        "from sklearn.model_selection import train_test_split\n",
        "from sklearn.linear_model import LogisticRegression\n",
        "from sklearn.metrics import accuracy_score, confusion_matrix"
      ],
      "execution_count": 0,
      "outputs": []
    },
    {
      "cell_type": "markdown",
      "metadata": {
        "id": "sWGusy7LGf-W",
        "colab_type": "text"
      },
      "source": [
        "## Inspizieren der Daten"
      ]
    },
    {
      "cell_type": "markdown",
      "metadata": {
        "id": "ngajvbcD86io",
        "colab_type": "text"
      },
      "source": [
        "Schauen wir uns den Datensatz noch einmal an mit der \"head\" funktion, die uns eine Liste der Variablennamen und eine n-Anzahl Einträge gibt:\n",
        "\n",
        "\n",
        "```\n",
        "Einkommensdaten.head(n=5)\n",
        "```\n",
        "Bitte schauen Sie sich nun die ersten 10 Zeilen an:"
      ]
    },
    {
      "cell_type": "code",
      "metadata": {
        "id": "f2riV_4kFJDK",
        "colab_type": "code",
        "colab": {}
      },
      "source": [
        "# Code hier einfügen:\n"
      ],
      "execution_count": 0,
      "outputs": []
    },
    {
      "cell_type": "markdown",
      "metadata": {
        "id": "UYqmM2fcIrlS",
        "colab_type": "text"
      },
      "source": [
        "Die Größe des Datensatzes kann man mit *shape* erfahren. Die erste Zahl sind die Anzahl der Zeilen, die zweite Zahl sind die Anzahl der Spalten.\n",
        "\n"
      ]
    },
    {
      "cell_type": "code",
      "metadata": {
        "id": "JIHArbaqIr1N",
        "colab_type": "code",
        "outputId": "0d0afb28-32f9-4b75-d485-dae451471d82",
        "colab": {
          "base_uri": "https://localhost:8080/",
          "height": 35
        }
      },
      "source": [
        "Einkommensdaten.shape"
      ],
      "execution_count": 0,
      "outputs": [
        {
          "output_type": "execute_result",
          "data": {
            "text/plain": [
              "(30, 8)"
            ]
          },
          "metadata": {
            "tags": []
          },
          "execution_count": 42
        }
      ]
    },
    {
      "cell_type": "markdown",
      "metadata": {
        "id": "PlMPoc4IIsGJ",
        "colab_type": "text"
      },
      "source": [
        "## Aufteilen in Trainingsdaten und Testdaten"
      ]
    },
    {
      "cell_type": "markdown",
      "metadata": {
        "id": "wkgNERsQE2fd",
        "colab_type": "text"
      },
      "source": [
        "Zunächst muss der Datensatz geteilt werden \n",
        "Speichere dazu 60% der Beobachtungen in das Objekt \"samples\" und tue dies zufällig (der Code ist gegeben)"
      ]
    },
    {
      "cell_type": "code",
      "metadata": {
        "id": "DLAVW4vJFdNR",
        "colab_type": "code",
        "colab": {}
      },
      "source": [
        "seed=1\n",
        "train_size = 0.6\n",
        "Haarlaenge_train, Haarlaenge_test, Geschlecht_train, Geschlecht_test = train_test_split(Einkommensdaten[['Haarlaenge']], Einkommensdaten['Geschlecht'], train_size=train_size, random_state=seed)"
      ],
      "execution_count": 0,
      "outputs": []
    },
    {
      "cell_type": "markdown",
      "metadata": {
        "id": "M9IOtG9WGOiQ",
        "colab_type": "text"
      },
      "source": [
        "Gehen wir sicher, dass wir die richtige Anzahl an Trainingsdatensätzen haben, dafür lassen wir uns mit der \"print\" Funktion mehrere Befehle nacheinander anzeigen, z.B.\n",
        "\n",
        "```\n",
        "print(Haarlaenge_train.shape)\n",
        "```\n",
        "\n",
        "Aufgabe: Schauen Sie sich die Länge der anderen Variablen an und überprüfen Sie, ob die Daten 60/40 aufgeteilt sind:"
      ]
    },
    {
      "cell_type": "code",
      "metadata": {
        "id": "D11SzydXGYS1",
        "colab_type": "code",
        "outputId": "21c50d71-3d54-46b7-a952-37eb4ef0b442",
        "colab": {
          "base_uri": "https://localhost:8080/",
          "height": 90
        }
      },
      "source": [
        "print(Haarlaenge_train.shape)\n",
        "print(Haarlaenge_test.shape)\n",
        "print(Geschlecht_train.shape)\n",
        "print(Geschlecht_test.shape)"
      ],
      "execution_count": 0,
      "outputs": [
        {
          "output_type": "stream",
          "text": [
            "(18, 1)\n",
            "(12, 1)\n",
            "(18,)\n",
            "(12,)\n"
          ],
          "name": "stdout"
        }
      ]
    },
    {
      "cell_type": "markdown",
      "metadata": {
        "id": "GbQR0DFULZ9p",
        "colab_type": "text"
      },
      "source": [
        "## Modellbildung"
      ]
    },
    {
      "cell_type": "markdown",
      "metadata": {
        "id": "x1zuQnoxGdZI",
        "colab_type": "text"
      },
      "source": [
        "Jetzt bauen wir unser Model mit Logistischer Regression. Dafür benutzen wir eine Implementierung von Scikit-Learn mit dem passenden Namen LogisticRegression.\n"
      ]
    },
    {
      "cell_type": "code",
      "metadata": {
        "id": "UAzGPkpBoNvt",
        "colab_type": "code",
        "outputId": "d542712a-8d38-4bf5-f691-5dcef8cccbe7",
        "colab": {
          "base_uri": "https://localhost:8080/",
          "height": 108
        }
      },
      "source": [
        "logmodel = LogisticRegression(solver='lbfgs')\n",
        "logmodel.fit(Haarlaenge_train,Geschlecht_train)"
      ],
      "execution_count": 0,
      "outputs": [
        {
          "output_type": "execute_result",
          "data": {
            "text/plain": [
              "LogisticRegression(C=1.0, class_weight=None, dual=False, fit_intercept=True,\n",
              "                   intercept_scaling=1, l1_ratio=None, max_iter=100,\n",
              "                   multi_class='warn', n_jobs=None, penalty='l2',\n",
              "                   random_state=None, solver='lbfgs', tol=0.0001, verbose=0,\n",
              "                   warm_start=False)"
            ]
          },
          "metadata": {
            "tags": []
          },
          "execution_count": 51
        }
      ]
    },
    {
      "cell_type": "markdown",
      "metadata": {
        "id": "Ock18LGULczh",
        "colab_type": "text"
      },
      "source": [
        "## Verwenden des Modells für eine Vorhersage"
      ]
    },
    {
      "cell_type": "markdown",
      "metadata": {
        "id": "m7YNmyXHoQe7",
        "colab_type": "text"
      },
      "source": [
        "Das Modell können wir nun dafür verwenden Vorhersagen zu machen."
      ]
    },
    {
      "cell_type": "code",
      "metadata": {
        "id": "0VT5_sMvqNc_",
        "colab_type": "code",
        "outputId": "bc57819c-bb41-40bd-920e-b1fe2b3c2a29",
        "colab": {
          "base_uri": "https://localhost:8080/",
          "height": 271
        }
      },
      "source": [
        "Vorhersage = logmodel.predict(Haarlaenge_test)\n",
        "print(Vorhersage)\n",
        "print(Haarlaenge_test)"
      ],
      "execution_count": 0,
      "outputs": [
        {
          "output_type": "stream",
          "text": [
            "['W' 'M' 'M' 'W' 'W' 'W' 'W' 'M' 'M' 'M' 'W' 'M']\n",
            "    Haarlaenge\n",
            "17          35\n",
            "21          16\n",
            "10           6\n",
            "19          23\n",
            "14          39\n",
            "20          34\n",
            "26          19\n",
            "3            3\n",
            "24           5\n",
            "22           3\n",
            "23          17\n",
            "4           15\n"
          ],
          "name": "stdout"
        }
      ]
    },
    {
      "cell_type": "markdown",
      "metadata": {
        "id": "QaqttrP2Ludr",
        "colab_type": "text"
      },
      "source": [
        "## Genauigkeit und Präzision des Modells bestimmen"
      ]
    },
    {
      "cell_type": "markdown",
      "metadata": {
        "id": "oXcFKPyXqSGn",
        "colab_type": "text"
      },
      "source": [
        "Dieses Ergebnis schauen wir uns am Besten genauer an. Insbesondere möchten wir wissen wie gut wir das Geschlecht vorhergesagt haben. Dazu vergleichen wir die vorhergesagten Daten mit den echten. Das Scikit-Learn hat dafür auch schon ein paar nützliche Funktionen: accuracy_score und confusion_matrix, die den Vergleich für uns machen."
      ]
    },
    {
      "cell_type": "code",
      "metadata": {
        "id": "3D2zKO04Hmig",
        "colab_type": "code",
        "outputId": "26dbb48a-b8b3-484c-ce02-827e879b177c",
        "colab": {
          "base_uri": "https://localhost:8080/",
          "height": 108
        }
      },
      "source": [
        "accuracy = accuracy_score(Geschlecht_test, Vorhersage)\n",
        "cm_results = confusion_matrix(Geschlecht_test, Vorhersage).ravel()\n",
        "\n",
        "print(\"Korrekt Klassifiziert (insgesamt) :     %.2f%%\" % (accuracy * 100.0))\n",
        "print(\"Korrekt Abgelehnt (true negatives):     \" + str(cm_results[0]))\n",
        "print(\"Fälschlich Abgelehnt (false negatives): \" + str(cm_results[2]))\n",
        "print(\"Korrekt Erkannt (true positives):       \" + str(cm_results[3]))\n",
        "print(\"Fälschlich Erkannt (false positives):   \" + str(cm_results[1]))"
      ],
      "execution_count": 0,
      "outputs": [
        {
          "output_type": "stream",
          "text": [
            "Korrekt Klassifiziert (insgesamt) :     75.00%\n",
            "Korrekt Abgelehnt (true negatives):     4\n",
            "Fälschlich Abgelehnt (false negatives): 2\n",
            "Korrekt Erkannt (true positives):       5\n",
            "Fälschlich Erkannt (false positives):   1\n"
          ],
          "name": "stdout"
        }
      ]
    },
    {
      "cell_type": "markdown",
      "metadata": {
        "id": "nkPhtsC6PRKx",
        "colab_type": "text"
      },
      "source": [
        "# Logistische Regression auf den Transaktionsdaten"
      ]
    },
    {
      "cell_type": "markdown",
      "metadata": {
        "id": "rSiGtYaxswJs",
        "colab_type": "text"
      },
      "source": [
        "Als nächstes wollen wir uns an einen \"Big Data\" Datensatz machen, für die Transaktionsdaten. Auch hier können wir die logistische Regression verwenden.\n",
        "\n",
        "Bevor wir den Algorithmus einsetzen können, müssen wir wieder erst einmal das Datenset so einrichten, dass wir ein Trainingsdatenset und ein Testdatenset haben. Wir werden auf einem Teil, z.B. 80%, der Daten unser Modell trainieren, dann auf dem anderen Teil (20%) das Modell validieren. Das Modell, also das Endprodukt der Anwendung des Algorithmus, sagt in diesem Fall aus den Daten hervor, ob ein Betrug (isFraud) stattgefunden hat.\n",
        "\n",
        "Schauen wir uns die Datenstruktur genauer an.\n",
        "\n",
        "Als erstes schauen wir uns an, wie groß der Datensatz ist. Dafür kann dieselbe Funktion \"shape\" verwendet werden wie bei dem Einkommensdatensatz.\n",
        "Dort war es\n",
        "\n",
        "```\n",
        "Einkommensdaten.shape\n",
        "```\n",
        "\n",
        "\n"
      ]
    },
    {
      "cell_type": "code",
      "metadata": {
        "id": "-S8cqLCpt3l1",
        "colab_type": "code",
        "outputId": "5237e753-7fd5-4841-d5b7-faebe760d8b7",
        "colab": {
          "base_uri": "https://localhost:8080/",
          "height": 35
        }
      },
      "source": [
        "#Bitte hier den code zum Anzeigen der Datenstruktur / Größe eingeben\n",
        "Transaktionsdaten.shape"
      ],
      "execution_count": 0,
      "outputs": [
        {
          "output_type": "execute_result",
          "data": {
            "text/plain": [
              "(2770409, 8)"
            ]
          },
          "metadata": {
            "tags": []
          },
          "execution_count": 59
        }
      ]
    },
    {
      "cell_type": "markdown",
      "metadata": {
        "id": "FQXXsFhzopse",
        "colab_type": "text"
      },
      "source": [
        "An nächstes schauen wir uns an, welche Datenfelder in dem Datensatz vorhanden sind."
      ]
    },
    {
      "cell_type": "code",
      "metadata": {
        "id": "WKdzOVELou5f",
        "colab_type": "code",
        "outputId": "b22fae7c-45ae-486d-fa0c-3cd805940c29",
        "colab": {
          "base_uri": "https://localhost:8080/",
          "height": 363
        }
      },
      "source": [
        "Transaktionsdaten.head(n=10)"
      ],
      "execution_count": 0,
      "outputs": [
        {
          "output_type": "execute_result",
          "data": {
            "text/html": [
              "<div>\n",
              "<style scoped>\n",
              "    .dataframe tbody tr th:only-of-type {\n",
              "        vertical-align: middle;\n",
              "    }\n",
              "\n",
              "    .dataframe tbody tr th {\n",
              "        vertical-align: top;\n",
              "    }\n",
              "\n",
              "    .dataframe thead th {\n",
              "        text-align: right;\n",
              "    }\n",
              "</style>\n",
              "<table border=\"1\" class=\"dataframe\">\n",
              "  <thead>\n",
              "    <tr style=\"text-align: right;\">\n",
              "      <th></th>\n",
              "      <th>isFraud</th>\n",
              "      <th>amount</th>\n",
              "      <th>oldbalanceOrg</th>\n",
              "      <th>newbalanceOrg</th>\n",
              "      <th>oldbalanceDest</th>\n",
              "      <th>newbalanceDest</th>\n",
              "      <th>hour</th>\n",
              "      <th>type</th>\n",
              "    </tr>\n",
              "  </thead>\n",
              "  <tbody>\n",
              "    <tr>\n",
              "      <th>0</th>\n",
              "      <td>1.0</td>\n",
              "      <td>181.00</td>\n",
              "      <td>181.00</td>\n",
              "      <td>0.0</td>\n",
              "      <td>0.0</td>\n",
              "      <td>0.00</td>\n",
              "      <td>1.0</td>\n",
              "      <td>0</td>\n",
              "    </tr>\n",
              "    <tr>\n",
              "      <th>1</th>\n",
              "      <td>1.0</td>\n",
              "      <td>181.00</td>\n",
              "      <td>181.00</td>\n",
              "      <td>0.0</td>\n",
              "      <td>21182.0</td>\n",
              "      <td>0.00</td>\n",
              "      <td>1.0</td>\n",
              "      <td>1</td>\n",
              "    </tr>\n",
              "    <tr>\n",
              "      <th>2</th>\n",
              "      <td>0.0</td>\n",
              "      <td>229133.94</td>\n",
              "      <td>15325.00</td>\n",
              "      <td>0.0</td>\n",
              "      <td>5083.0</td>\n",
              "      <td>51513.44</td>\n",
              "      <td>1.0</td>\n",
              "      <td>1</td>\n",
              "    </tr>\n",
              "    <tr>\n",
              "      <th>3</th>\n",
              "      <td>0.0</td>\n",
              "      <td>215310.30</td>\n",
              "      <td>705.00</td>\n",
              "      <td>0.0</td>\n",
              "      <td>22425.0</td>\n",
              "      <td>0.00</td>\n",
              "      <td>1.0</td>\n",
              "      <td>0</td>\n",
              "    </tr>\n",
              "    <tr>\n",
              "      <th>4</th>\n",
              "      <td>0.0</td>\n",
              "      <td>311685.89</td>\n",
              "      <td>10835.00</td>\n",
              "      <td>0.0</td>\n",
              "      <td>6267.0</td>\n",
              "      <td>2719172.89</td>\n",
              "      <td>1.0</td>\n",
              "      <td>0</td>\n",
              "    </tr>\n",
              "    <tr>\n",
              "      <th>5</th>\n",
              "      <td>0.0</td>\n",
              "      <td>110414.71</td>\n",
              "      <td>26845.41</td>\n",
              "      <td>0.0</td>\n",
              "      <td>288800.0</td>\n",
              "      <td>2415.16</td>\n",
              "      <td>1.0</td>\n",
              "      <td>1</td>\n",
              "    </tr>\n",
              "    <tr>\n",
              "      <th>6</th>\n",
              "      <td>0.0</td>\n",
              "      <td>56953.90</td>\n",
              "      <td>1942.02</td>\n",
              "      <td>0.0</td>\n",
              "      <td>70253.0</td>\n",
              "      <td>64106.18</td>\n",
              "      <td>1.0</td>\n",
              "      <td>1</td>\n",
              "    </tr>\n",
              "    <tr>\n",
              "      <th>7</th>\n",
              "      <td>0.0</td>\n",
              "      <td>5346.89</td>\n",
              "      <td>0.00</td>\n",
              "      <td>0.0</td>\n",
              "      <td>652637.0</td>\n",
              "      <td>6453430.91</td>\n",
              "      <td>1.0</td>\n",
              "      <td>1</td>\n",
              "    </tr>\n",
              "    <tr>\n",
              "      <th>8</th>\n",
              "      <td>0.0</td>\n",
              "      <td>23261.30</td>\n",
              "      <td>20411.53</td>\n",
              "      <td>0.0</td>\n",
              "      <td>25742.0</td>\n",
              "      <td>0.00</td>\n",
              "      <td>1.0</td>\n",
              "      <td>1</td>\n",
              "    </tr>\n",
              "    <tr>\n",
              "      <th>9</th>\n",
              "      <td>0.0</td>\n",
              "      <td>62610.80</td>\n",
              "      <td>79114.00</td>\n",
              "      <td>16503.2</td>\n",
              "      <td>517.0</td>\n",
              "      <td>8383.29</td>\n",
              "      <td>1.0</td>\n",
              "      <td>0</td>\n",
              "    </tr>\n",
              "  </tbody>\n",
              "</table>\n",
              "</div>"
            ],
            "text/plain": [
              "   isFraud     amount  oldbalanceOrg  ...  newbalanceDest  hour  type\n",
              "0      1.0     181.00         181.00  ...            0.00   1.0     0\n",
              "1      1.0     181.00         181.00  ...            0.00   1.0     1\n",
              "2      0.0  229133.94       15325.00  ...        51513.44   1.0     1\n",
              "3      0.0  215310.30         705.00  ...            0.00   1.0     0\n",
              "4      0.0  311685.89       10835.00  ...      2719172.89   1.0     0\n",
              "5      0.0  110414.71       26845.41  ...         2415.16   1.0     1\n",
              "6      0.0   56953.90        1942.02  ...        64106.18   1.0     1\n",
              "7      0.0    5346.89           0.00  ...      6453430.91   1.0     1\n",
              "8      0.0   23261.30       20411.53  ...            0.00   1.0     1\n",
              "9      0.0   62610.80       79114.00  ...         8383.29   1.0     0\n",
              "\n",
              "[10 rows x 8 columns]"
            ]
          },
          "metadata": {
            "tags": []
          },
          "execution_count": 61
        }
      ]
    },
    {
      "cell_type": "markdown",
      "metadata": {
        "id": "ArOndbO-uIVz",
        "colab_type": "text"
      },
      "source": [
        "Jetzt wissen wir, welche Variablen es gibt und können einzelne auswählen.\n",
        "\n",
        "Unser Ziel ist es, vorherzusagen, ob Betrug begangen wurde. Die Variable 'isFraud' gibt an, ob die Transaktion betrügerischer Natur war. Diese soll nicht in unsere Berechnungen eingehen, sondern vorhergesagt werden. Deswegen teilen wir unsere Daten in die Variablen zur Berechnung (X) und die Vorhergesagten (Y) auf. Versuchen wir es erst einmal mit der Vorhersage ob es Betrug (isFraud) war, anhand aller anderer Variablen.\n",
        "\n",
        "Bitte ändern Sie den unten stehenden Code so, dass die Zielvariable Transaktionsdaten_Y beinhaltet."
      ]
    },
    {
      "cell_type": "code",
      "metadata": {
        "id": "KyP4IUMiuJGz",
        "colab_type": "code",
        "colab": {}
      },
      "source": [
        "# Wir können aus den einzelnen Spalten auswählen. 'isFraud' wollen wir nicht!\n",
        "Transaktionsdaten_X = Transaktionsdaten[['amount', 'oldbalanceOrg', 'newbalanceOrg', 'oldbalanceDest',\n",
        "       'newbalanceDest', 'hour']]\n",
        "\n",
        "# Wir wählen isFraud zur Vorhersage aus\n",
        "Transaktionsdaten_Y = Transaktionsdaten[['isFraud']]"
      ],
      "execution_count": 0,
      "outputs": []
    },
    {
      "cell_type": "markdown",
      "metadata": {
        "id": "M5J-8akAuaU7",
        "colab_type": "text"
      },
      "source": [
        "Als nächsten Schritt teilen wir die Datensets in Trainings- und Testdaten. Dafür gibt es eine praktische Funktion train_test_split(). Damit wir später unsere Modelle vergleichen können, setzen wir den Zufälligkeitsalgorithmus (seed) fest. Bitte ändern Sie den unten stehenden code, sodass 80% aller Daten zum Training verwendet werden:"
      ]
    },
    {
      "cell_type": "code",
      "metadata": {
        "id": "o0-Gjkghueqk",
        "colab_type": "code",
        "colab": {}
      },
      "source": [
        "seed=1\n",
        "test_size = 0.2\n",
        "x_train, x_test, y_train, y_test = train_test_split(Transaktionsdaten_X,\n",
        "                                                    Transaktionsdaten_Y,\n",
        "                                                    test_size=test_size,\n",
        "                                                    random_state=seed)"
      ],
      "execution_count": 0,
      "outputs": []
    },
    {
      "cell_type": "markdown",
      "metadata": {
        "id": "JAoUPpJPunpN",
        "colab_type": "text"
      },
      "source": [
        "Schauen wir uns das training set an: x_train und y_train sollten die gleiche Anzahl Zeilen haben. x_train sind die Daten von denen wir die Kategorie in y_train vorhersagen. x_test und y_test benutzen wir zur Validierung des Modells und werden nicht zum Trainieren verwendet!"
      ]
    },
    {
      "cell_type": "code",
      "metadata": {
        "id": "8ybOL6qDuopE",
        "colab_type": "code",
        "outputId": "92ef9b27-3edc-4e25-a690-48b561c1977d",
        "colab": {
          "base_uri": "https://localhost:8080/",
          "height": 53
        }
      },
      "source": [
        "print(x_train.shape)\n",
        "print(y_train.shape)"
      ],
      "execution_count": 0,
      "outputs": [
        {
          "output_type": "stream",
          "text": [
            "(2216327, 6)\n",
            "(2216327, 1)\n"
          ],
          "name": "stdout"
        }
      ]
    },
    {
      "cell_type": "markdown",
      "metadata": {
        "id": "tbxegTwpd7Yd",
        "colab_type": "text"
      },
      "source": [
        "Überprüfen wir, ob wirklich 80% aller Daten ausgewählt wurden:"
      ]
    },
    {
      "cell_type": "code",
      "metadata": {
        "id": "w4gFwHvGt22f",
        "colab_type": "code",
        "outputId": "4ea50714-9423-4d2f-9e60-8506c5e70b26",
        "colab": {
          "base_uri": "https://localhost:8080/",
          "height": 35
        }
      },
      "source": [
        "print(\"Anteil der Daten für das Training: %.2f%%\" % (x_train.shape[0] / Transaktionsdaten.shape[0] * 100.0))"
      ],
      "execution_count": 0,
      "outputs": [
        {
          "output_type": "stream",
          "text": [
            "Anteil der Daten für das Training: 80.00%\n"
          ],
          "name": "stdout"
        }
      ]
    },
    {
      "cell_type": "markdown",
      "metadata": {
        "id": "cwOmNv-Au2sL",
        "colab_type": "text"
      },
      "source": [
        "Jetzt trainieren (fitten) wir unser Modell mit Hilfe der Logistischen Regression. "
      ]
    },
    {
      "cell_type": "code",
      "metadata": {
        "id": "E8QPygmRvC8_",
        "colab_type": "code",
        "outputId": "72d056d2-bc76-4ebd-fc30-a5f9d91c1475",
        "colab": {
          "base_uri": "https://localhost:8080/",
          "height": 108
        }
      },
      "source": [
        "logmodel = LogisticRegression(solver='lbfgs')\n",
        "logmodel.fit(x_train, y_train.values.ravel())"
      ],
      "execution_count": 0,
      "outputs": [
        {
          "output_type": "execute_result",
          "data": {
            "text/plain": [
              "LogisticRegression(C=1.0, class_weight=None, dual=False, fit_intercept=True,\n",
              "                   intercept_scaling=1, l1_ratio=None, max_iter=100,\n",
              "                   multi_class='warn', n_jobs=None, penalty='l2',\n",
              "                   random_state=None, solver='lbfgs', tol=0.0001, verbose=0,\n",
              "                   warm_start=False)"
            ]
          },
          "metadata": {
            "tags": []
          },
          "execution_count": 70
        }
      ]
    },
    {
      "cell_type": "markdown",
      "metadata": {
        "id": "VOJrnzKkwQZU",
        "colab_type": "text"
      },
      "source": [
        "Jetzt müssen wir nur noch das Modell auf die Testdaten anwenden."
      ]
    },
    {
      "cell_type": "code",
      "metadata": {
        "id": "tLEmAAnZwRxS",
        "colab_type": "code",
        "outputId": "a989414c-ccb8-4cf5-f778-6e7c74727672",
        "colab": {
          "base_uri": "https://localhost:8080/",
          "height": 35
        }
      },
      "source": [
        "Vorhersage = logmodel.predict(x_test)\n",
        "\n",
        "print(Vorhersage)"
      ],
      "execution_count": 0,
      "outputs": [
        {
          "output_type": "stream",
          "text": [
            "[0. 0. 0. ... 0. 0. 0.]\n"
          ],
          "name": "stdout"
        }
      ]
    },
    {
      "cell_type": "markdown",
      "metadata": {
        "id": "tBQhlt9CwcFa",
        "colab_type": "text"
      },
      "source": [
        "Wir sehen, die Vorhersage ist viel zu lang ist (20% von circa 2.7 Millionen) um angezeigt zu werden. Außerdem sind viele 0 dabei - warum ist das so?\n",
        "\n",
        "Jetzt wollen wir noch Vergleichen, was wir vorhergesagt haben und was wirklich im Testdatensatz steht"
      ]
    },
    {
      "cell_type": "code",
      "metadata": {
        "id": "JNKXffUBwUQH",
        "colab_type": "code",
        "outputId": "8149e731-6434-4170-bfae-b09919606dc2",
        "colab": {
          "base_uri": "https://localhost:8080/",
          "height": 108
        }
      },
      "source": [
        "accuracy = accuracy_score(y_test, Vorhersage)\n",
        "cm_results=confusion_matrix(y_test, Vorhersage).ravel()\n",
        "\n",
        "print(\"Korrekt Klassifiziert (insgesamt) :     %.2f%%\" % (accuracy * 100.0))\n",
        "print(\"Korrekt Abgelehnt (true negatives):     \" + str(cm_results[0]))\n",
        "print(\"Fälschlich Abgelehnt (false negatives): \" + str(cm_results[2]))\n",
        "print(\"Korrekt Erkannt (true positives):       \" + str(cm_results[3]))\n",
        "print(\"Fälschlich Erkannt (false positives):   \" + str(cm_results[1]))"
      ],
      "execution_count": 0,
      "outputs": [
        {
          "output_type": "stream",
          "text": [
            "Korrekt Klassifiziert (insgesamt) :     99.82%\n",
            "Korrekt Abgelehnt (true negatives):     552242\n",
            "Fälschlich Abgelehnt (false negatives): 811\n",
            "Korrekt Erkannt (true positives):       848\n",
            "Fälschlich Erkannt (false positives):   181\n"
          ],
          "name": "stdout"
        }
      ]
    },
    {
      "cell_type": "markdown",
      "metadata": {
        "id": "H_nbLNPTSGJN",
        "colab_type": "text"
      },
      "source": [
        "# Maschinelles Lernen mit XGBoost\n",
        "\n",
        "In diesem Tutorial wollen wir eine Methode aus dem Maschinellen Lernen verwenden: Den e**X**treme **G**radient **Boost**ing Algorithmus XGBoost.\n",
        "\n",
        "Im Bereich Maschinellen Lernen gibt es sogenannte Kaggle Challenges, wo KI-Teams gegeneinander mit ihren Algorithmen antreten. Der XGBoost hat dabei mehrmals alle anderen geschlagen und ist ein sehr effizientes und mächtiges Werkzeug.\n",
        "\n",
        "Wir werden XGBoost heute auf die Transaktionsdaten anwenden, um Betrüger aufzuspüren."
      ]
    },
    {
      "cell_type": "markdown",
      "metadata": {
        "id": "uVgjB4VqYaW0",
        "colab_type": "text"
      },
      "source": [
        "Wir installieren den Algorithmus XGBoost"
      ]
    },
    {
      "cell_type": "code",
      "metadata": {
        "id": "79lUM6I6yyKf",
        "colab_type": "code",
        "outputId": "737ec025-95e2-4578-e890-9a1804e0d4cd",
        "colab": {
          "base_uri": "https://localhost:8080/",
          "height": 72
        }
      },
      "source": [
        "# Installieren der relevanten Pakete\n",
        "!pip install xgboost # Der Algorithmus XGBoost\n",
        "from xgboost import XGBClassifier"
      ],
      "execution_count": 0,
      "outputs": [
        {
          "output_type": "stream",
          "text": [
            "Requirement already satisfied: xgboost in /usr/local/lib/python3.6/dist-packages (0.90)\n",
            "Requirement already satisfied: scipy in /usr/local/lib/python3.6/dist-packages (from xgboost) (1.3.2)\n",
            "Requirement already satisfied: numpy in /usr/local/lib/python3.6/dist-packages (from xgboost) (1.17.4)\n"
          ],
          "name": "stdout"
        }
      ]
    },
    {
      "cell_type": "markdown",
      "metadata": {
        "id": "Em9TgCnQf5-I",
        "colab_type": "text"
      },
      "source": [
        "Jetzt trainieren (fit) wir unser Modell mit Hilfe des XGBoost Algorithmus. Wir lassen diesen z.B. 10x laufen und nutzen am Ende das beste Modell. Der Output der Funktion zeigt uns schon einmal vorab, wie gut jeder Durchgang ist."
      ]
    },
    {
      "cell_type": "code",
      "metadata": {
        "id": "_GSxrjvvghV_",
        "colab_type": "code",
        "outputId": "66eb9395-22f4-4423-b787-44b834b7935f",
        "colab": {
          "base_uri": "https://localhost:8080/",
          "height": 564
        }
      },
      "source": [
        "# Hier können Einstellungen geändert werden, z.B. max_depth=5 oder mehr für \"tiefere Bäume\", nfold - wie groß das Validierungsset beim Training ist, oder auch n_estimators, wie häufig trainiert und iteriert wird.\n",
        "model = XGBClassifier(booster=\"gbtree\", max_depth = 10, objective = \"binary:logistic\", nfold = 10, n_estimators=20)\n",
        "eval_set = [(x_train, y_train), (x_test, y_test.values.ravel())]\n",
        "model.fit(x_train, y_train.values.ravel(), eval_metric=\"error\", eval_set=eval_set, verbose=True) # verbose gibt error pro Validierungsrunde, early_stopping_rounds=10 gibt automatischen stop nach 10 nicht besseren Iterationen"
      ],
      "execution_count": 0,
      "outputs": [
        {
          "output_type": "stream",
          "text": [
            "/usr/local/lib/python3.6/dist-packages/sklearn/preprocessing/label.py:252: DataConversionWarning: A column-vector y was passed when a 1d array was expected. Please change the shape of y to (n_samples, ), for example using ravel().\n",
            "  y = column_or_1d(y, warn=True)\n"
          ],
          "name": "stderr"
        },
        {
          "output_type": "stream",
          "text": [
            "[0]\tvalidation_0-error:0.0008\tvalidation_1-error:0.000841\n",
            "[1]\tvalidation_0-error:0.00077\tvalidation_1-error:0.000819\n",
            "[2]\tvalidation_0-error:0.000755\tvalidation_1-error:0.000819\n",
            "[3]\tvalidation_0-error:0.000739\tvalidation_1-error:0.000798\n",
            "[4]\tvalidation_0-error:0.000737\tvalidation_1-error:0.00078\n",
            "[5]\tvalidation_0-error:0.00073\tvalidation_1-error:0.000778\n",
            "[6]\tvalidation_0-error:0.000731\tvalidation_1-error:0.000778\n",
            "[7]\tvalidation_0-error:0.0007\tvalidation_1-error:0.000751\n",
            "[8]\tvalidation_0-error:0.000691\tvalidation_1-error:0.000751\n",
            "[9]\tvalidation_0-error:0.000684\tvalidation_1-error:0.00074\n",
            "[10]\tvalidation_0-error:0.000674\tvalidation_1-error:0.000736\n",
            "[11]\tvalidation_0-error:0.000674\tvalidation_1-error:0.000735\n",
            "[12]\tvalidation_0-error:0.000669\tvalidation_1-error:0.000722\n",
            "[13]\tvalidation_0-error:0.000666\tvalidation_1-error:0.000722\n",
            "[14]\tvalidation_0-error:0.000663\tvalidation_1-error:0.000722\n",
            "[15]\tvalidation_0-error:0.000654\tvalidation_1-error:0.000713\n",
            "[16]\tvalidation_0-error:0.000649\tvalidation_1-error:0.000717\n",
            "[17]\tvalidation_0-error:0.000645\tvalidation_1-error:0.000713\n",
            "[18]\tvalidation_0-error:0.000644\tvalidation_1-error:0.00072\n",
            "[19]\tvalidation_0-error:0.00064\tvalidation_1-error:0.000715\n"
          ],
          "name": "stdout"
        },
        {
          "output_type": "execute_result",
          "data": {
            "text/plain": [
              "XGBClassifier(base_score=0.5, booster='gbtree', colsample_bylevel=1,\n",
              "              colsample_bynode=1, colsample_bytree=1, gamma=0,\n",
              "              learning_rate=0.1, max_delta_step=0, max_depth=10,\n",
              "              min_child_weight=1, missing=None, n_estimators=20, n_jobs=1,\n",
              "              nfold=10, nthread=None, objective='binary:logistic',\n",
              "              random_state=0, reg_alpha=0, reg_lambda=1, scale_pos_weight=1,\n",
              "              seed=None, silent=None, subsample=1, verbosity=1)"
            ]
          },
          "metadata": {
            "tags": []
          },
          "execution_count": 79
        }
      ]
    },
    {
      "cell_type": "markdown",
      "metadata": {
        "id": "4jIrzs3Mhqy3",
        "colab_type": "text"
      },
      "source": [
        "Unser Modell gibt uns jetzt eine Menge output.\n",
        "Wir haben XGBoost gesagt, es soll in 10 iterationen das Modell am besten Trainieren, sodass es möglichst gut die Daten Klassifiziert.\n",
        "\n",
        "Jetzt müssen wir nur noch schauen, ob das errechnete Modell auch die Testdaten gut vorhersagt. Diese Vorhersage vergleichen wir mit den Testdaten. Herauskommen und schauen uns nicht nur an, wie häufig"
      ]
    },
    {
      "cell_type": "code",
      "metadata": {
        "id": "Esj_Hv_bp0vo",
        "colab_type": "code",
        "outputId": "55391d15-eca4-4ec8-c2a3-5a9947b00dc8",
        "colab": {
          "base_uri": "https://localhost:8080/",
          "height": 108
        }
      },
      "source": [
        "y_pred = model.predict(x_test)\n",
        "\t\n",
        "# Evaluieren wir die Vorhersage\n",
        "accuracy = accuracy_score(y_test, y_pred)\n",
        "cm_results=confusion_matrix(y_test, y_pred).ravel()\n",
        "\n",
        "print(\"Korrekt Klassifiziert (insgesamt) :     %.2f%%\" % (accuracy * 100.0))\n",
        "print(\"Korrekt Abgelehnt (true negatives):     \" + str(cm_results[0]))\n",
        "print(\"Fälschlich Abgelehnt (false negatives): \" + str(cm_results[2]))\n",
        "print(\"Korrekt Erkannt (true positives):       \" + str(cm_results[3]))\n",
        "print(\"Fälschlich Erkannt (false positives):   \" + str(cm_results[1]))\n"
      ],
      "execution_count": 0,
      "outputs": [
        {
          "output_type": "stream",
          "text": [
            "Korrekt Klassifiziert (insgesamt) :     99.90%\n",
            "Korrekt Abgelehnt (true negatives):     552334\n",
            "Fälschlich Abgelehnt (false negatives): 480\n",
            "Korrekt Erkannt (true positives):       1179\n",
            "Fälschlich Erkannt (false positives):   89\n"
          ],
          "name": "stdout"
        }
      ]
    },
    {
      "cell_type": "markdown",
      "metadata": {
        "id": "0c3j5YahGa_Z",
        "colab_type": "text"
      },
      "source": [
        "Jetzt vergleichen wir die Ergebnisse einmal gemeinsam. War die logistische Regression oder das Extreme Gradiant Boosting besser?\n",
        "\n",
        "\n",
        "Können wir mit Einstellungen beim Training, z.B. Tiefe der Bäume (max_depth), Größe des Trainingsdatensatzes für die Iteration (n_folds) oder der Häufigkeit der Trainingsiterationen (n_estimators) bessere Ergebnisse erzielen?\n",
        "Vorsicht: Das Berechnen kann schnell lange dauern bei zu großen Parametern. \n",
        "\n",
        "Optional: Können wir mit anderen Größen an Trainings- und Testdatensätzen (also nicht 80/20) bessere Ergebnisse erzielen?\n",
        "\n",
        "Optional: Werden wirklich alle Variablen gebraucht zur Vorhersage? Was passiert wenn zum Beispiel \"hour\" weggelassen wird? Oder zum Beispiel nur anhand der Menge (amount) klassifiziert wird?"
      ]
    },
    {
      "cell_type": "code",
      "metadata": {
        "id": "P-mqjhobjMGc",
        "colab_type": "code",
        "colab": {}
      },
      "source": [
        ""
      ],
      "execution_count": 0,
      "outputs": []
    }
  ]
}